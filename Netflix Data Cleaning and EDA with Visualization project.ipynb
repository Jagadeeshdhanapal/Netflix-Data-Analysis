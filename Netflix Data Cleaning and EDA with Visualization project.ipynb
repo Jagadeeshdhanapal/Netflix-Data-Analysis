{
 "cells": [
  {
   "cell_type": "code",
   "execution_count": 7,
   "id": "f7d31fff",
   "metadata": {},
   "outputs": [],
   "source": [
    "#Import required Libraries\n",
    "import pandas as pd\n",
    "import numpy as np\n",
    "import matplotlib.pyplot as plt\n",
    "import seaborn as sns"
   ]
  },
  {
   "cell_type": "code",
   "execution_count": 40,
   "id": "6def4216",
   "metadata": {},
   "outputs": [],
   "source": [
    "# Import and Explore the dataset\n",
    "netflix=pd.read_csv(\"netflix_titles.csv\")"
   ]
  },
  {
   "cell_type": "code",
   "execution_count": 41,
   "id": "3fd969da",
   "metadata": {},
   "outputs": [
    {
     "data": {
      "text/html": [
       "<div>\n",
       "<style scoped>\n",
       "    .dataframe tbody tr th:only-of-type {\n",
       "        vertical-align: middle;\n",
       "    }\n",
       "\n",
       "    .dataframe tbody tr th {\n",
       "        vertical-align: top;\n",
       "    }\n",
       "\n",
       "    .dataframe thead th {\n",
       "        text-align: right;\n",
       "    }\n",
       "</style>\n",
       "<table border=\"1\" class=\"dataframe\">\n",
       "  <thead>\n",
       "    <tr style=\"text-align: right;\">\n",
       "      <th></th>\n",
       "      <th>show_id</th>\n",
       "      <th>type</th>\n",
       "      <th>title</th>\n",
       "      <th>director</th>\n",
       "      <th>cast</th>\n",
       "      <th>country</th>\n",
       "      <th>date_added</th>\n",
       "      <th>release_year</th>\n",
       "      <th>rating</th>\n",
       "      <th>duration</th>\n",
       "      <th>listed_in</th>\n",
       "      <th>description</th>\n",
       "    </tr>\n",
       "  </thead>\n",
       "  <tbody>\n",
       "    <tr>\n",
       "      <th>0</th>\n",
       "      <td>s1</td>\n",
       "      <td>Movie</td>\n",
       "      <td>Dick Johnson Is Dead</td>\n",
       "      <td>Kirsten Johnson</td>\n",
       "      <td>NaN</td>\n",
       "      <td>United States</td>\n",
       "      <td>September 25, 2021</td>\n",
       "      <td>2020</td>\n",
       "      <td>PG-13</td>\n",
       "      <td>90 min</td>\n",
       "      <td>Documentaries</td>\n",
       "      <td>As her father nears the end of his life, filmm...</td>\n",
       "    </tr>\n",
       "    <tr>\n",
       "      <th>1</th>\n",
       "      <td>s2</td>\n",
       "      <td>TV Show</td>\n",
       "      <td>Blood &amp; Water</td>\n",
       "      <td>NaN</td>\n",
       "      <td>Ama Qamata, Khosi Ngema, Gail Mabalane, Thaban...</td>\n",
       "      <td>South Africa</td>\n",
       "      <td>September 24, 2021</td>\n",
       "      <td>2021</td>\n",
       "      <td>TV-MA</td>\n",
       "      <td>2 Seasons</td>\n",
       "      <td>International TV Shows, TV Dramas, TV Mysteries</td>\n",
       "      <td>After crossing paths at a party, a Cape Town t...</td>\n",
       "    </tr>\n",
       "    <tr>\n",
       "      <th>2</th>\n",
       "      <td>s3</td>\n",
       "      <td>TV Show</td>\n",
       "      <td>Ganglands</td>\n",
       "      <td>Julien Leclercq</td>\n",
       "      <td>Sami Bouajila, Tracy Gotoas, Samuel Jouy, Nabi...</td>\n",
       "      <td>NaN</td>\n",
       "      <td>September 24, 2021</td>\n",
       "      <td>2021</td>\n",
       "      <td>TV-MA</td>\n",
       "      <td>1 Season</td>\n",
       "      <td>Crime TV Shows, International TV Shows, TV Act...</td>\n",
       "      <td>To protect his family from a powerful drug lor...</td>\n",
       "    </tr>\n",
       "    <tr>\n",
       "      <th>3</th>\n",
       "      <td>s4</td>\n",
       "      <td>TV Show</td>\n",
       "      <td>Jailbirds New Orleans</td>\n",
       "      <td>NaN</td>\n",
       "      <td>NaN</td>\n",
       "      <td>NaN</td>\n",
       "      <td>September 24, 2021</td>\n",
       "      <td>2021</td>\n",
       "      <td>TV-MA</td>\n",
       "      <td>1 Season</td>\n",
       "      <td>Docuseries, Reality TV</td>\n",
       "      <td>Feuds, flirtations and toilet talk go down amo...</td>\n",
       "    </tr>\n",
       "    <tr>\n",
       "      <th>4</th>\n",
       "      <td>s5</td>\n",
       "      <td>TV Show</td>\n",
       "      <td>Kota Factory</td>\n",
       "      <td>NaN</td>\n",
       "      <td>Mayur More, Jitendra Kumar, Ranjan Raj, Alam K...</td>\n",
       "      <td>India</td>\n",
       "      <td>September 24, 2021</td>\n",
       "      <td>2021</td>\n",
       "      <td>TV-MA</td>\n",
       "      <td>2 Seasons</td>\n",
       "      <td>International TV Shows, Romantic TV Shows, TV ...</td>\n",
       "      <td>In a city of coaching centers known to train I...</td>\n",
       "    </tr>\n",
       "  </tbody>\n",
       "</table>\n",
       "</div>"
      ],
      "text/plain": [
       "  show_id     type                  title         director  \\\n",
       "0      s1    Movie   Dick Johnson Is Dead  Kirsten Johnson   \n",
       "1      s2  TV Show          Blood & Water              NaN   \n",
       "2      s3  TV Show              Ganglands  Julien Leclercq   \n",
       "3      s4  TV Show  Jailbirds New Orleans              NaN   \n",
       "4      s5  TV Show           Kota Factory              NaN   \n",
       "\n",
       "                                                cast        country  \\\n",
       "0                                                NaN  United States   \n",
       "1  Ama Qamata, Khosi Ngema, Gail Mabalane, Thaban...   South Africa   \n",
       "2  Sami Bouajila, Tracy Gotoas, Samuel Jouy, Nabi...            NaN   \n",
       "3                                                NaN            NaN   \n",
       "4  Mayur More, Jitendra Kumar, Ranjan Raj, Alam K...          India   \n",
       "\n",
       "           date_added  release_year rating   duration  \\\n",
       "0  September 25, 2021          2020  PG-13     90 min   \n",
       "1  September 24, 2021          2021  TV-MA  2 Seasons   \n",
       "2  September 24, 2021          2021  TV-MA   1 Season   \n",
       "3  September 24, 2021          2021  TV-MA   1 Season   \n",
       "4  September 24, 2021          2021  TV-MA  2 Seasons   \n",
       "\n",
       "                                           listed_in  \\\n",
       "0                                      Documentaries   \n",
       "1    International TV Shows, TV Dramas, TV Mysteries   \n",
       "2  Crime TV Shows, International TV Shows, TV Act...   \n",
       "3                             Docuseries, Reality TV   \n",
       "4  International TV Shows, Romantic TV Shows, TV ...   \n",
       "\n",
       "                                         description  \n",
       "0  As her father nears the end of his life, filmm...  \n",
       "1  After crossing paths at a party, a Cape Town t...  \n",
       "2  To protect his family from a powerful drug lor...  \n",
       "3  Feuds, flirtations and toilet talk go down amo...  \n",
       "4  In a city of coaching centers known to train I...  "
      ]
     },
     "execution_count": 41,
     "metadata": {},
     "output_type": "execute_result"
    }
   ],
   "source": [
    "# First Five rows of the dataframe\n",
    "netflix.head(5)"
   ]
  },
  {
   "cell_type": "code",
   "execution_count": 42,
   "id": "4f27f710",
   "metadata": {},
   "outputs": [
    {
     "data": {
      "text/plain": [
       "(8808, 12)"
      ]
     },
     "execution_count": 42,
     "metadata": {},
     "output_type": "execute_result"
    }
   ],
   "source": [
    "# No. of rows and columns\n",
    "netflix.shape"
   ]
  },
  {
   "cell_type": "code",
   "execution_count": 43,
   "id": "23ad6e9b",
   "metadata": {},
   "outputs": [
    {
     "data": {
      "text/plain": [
       "105696"
      ]
     },
     "execution_count": 43,
     "metadata": {},
     "output_type": "execute_result"
    }
   ],
   "source": [
    "# To show No of total values and elements in the dataframe\n",
    "netflix.size"
   ]
  },
  {
   "cell_type": "code",
   "execution_count": 44,
   "id": "69bf97eb",
   "metadata": {},
   "outputs": [
    {
     "data": {
      "text/plain": [
       "Index(['show_id', 'type', 'title', 'director', 'cast', 'country', 'date_added',\n",
       "       'release_year', 'rating', 'duration', 'listed_in', 'description'],\n",
       "      dtype='object')"
      ]
     },
     "execution_count": 44,
     "metadata": {},
     "output_type": "execute_result"
    }
   ],
   "source": [
    "# columns in the Dataframe\n",
    "netflix.columns"
   ]
  },
  {
   "cell_type": "code",
   "execution_count": 45,
   "id": "2846fc30",
   "metadata": {},
   "outputs": [
    {
     "data": {
      "text/plain": [
       "show_id         object\n",
       "type            object\n",
       "title           object\n",
       "director        object\n",
       "cast            object\n",
       "country         object\n",
       "date_added      object\n",
       "release_year     int64\n",
       "rating          object\n",
       "duration        object\n",
       "listed_in       object\n",
       "description     object\n",
       "dtype: object"
      ]
     },
     "execution_count": 45,
     "metadata": {},
     "output_type": "execute_result"
    }
   ],
   "source": [
    "# #To show the Datatype of each column\n",
    "netflix.dtypes"
   ]
  },
  {
   "cell_type": "code",
   "execution_count": 46,
   "id": "fffdbf32",
   "metadata": {},
   "outputs": [
    {
     "name": "stdout",
     "output_type": "stream",
     "text": [
      "<class 'pandas.core.frame.DataFrame'>\n",
      "RangeIndex: 8808 entries, 0 to 8807\n",
      "Data columns (total 12 columns):\n",
      " #   Column        Non-Null Count  Dtype \n",
      "---  ------        --------------  ----- \n",
      " 0   show_id       8808 non-null   object\n",
      " 1   type          8808 non-null   object\n",
      " 2   title         8808 non-null   object\n",
      " 3   director      6174 non-null   object\n",
      " 4   cast          7982 non-null   object\n",
      " 5   country       7976 non-null   object\n",
      " 6   date_added    8798 non-null   object\n",
      " 7   release_year  8808 non-null   int64 \n",
      " 8   rating        8804 non-null   object\n",
      " 9   duration      8805 non-null   object\n",
      " 10  listed_in     8808 non-null   object\n",
      " 11  description   8808 non-null   object\n",
      "dtypes: int64(1), object(11)\n",
      "memory usage: 825.9+ KB\n"
     ]
    }
   ],
   "source": [
    "#To show all Entries Rows and Columns, no. of Null values and datatypes of each columns, memory at once\n",
    "netflix.info()"
   ]
  },
  {
   "cell_type": "code",
   "execution_count": 47,
   "id": "5c1b7d5b",
   "metadata": {},
   "outputs": [
    {
     "data": {
      "text/plain": [
       "show_id         8807\n",
       "type               2\n",
       "title           8804\n",
       "director        4528\n",
       "cast            7692\n",
       "country          748\n",
       "date_added      1767\n",
       "release_year      74\n",
       "rating            17\n",
       "duration         220\n",
       "listed_in        514\n",
       "description     8775\n",
       "dtype: int64"
      ]
     },
     "execution_count": 47,
     "metadata": {},
     "output_type": "execute_result"
    }
   ],
   "source": [
    "# To check the nunique values \n",
    "netflix.nunique()"
   ]
  },
  {
   "cell_type": "code",
   "execution_count": 48,
   "id": "a1a267a3",
   "metadata": {},
   "outputs": [
    {
     "data": {
      "text/plain": [
       "1"
      ]
     },
     "execution_count": 48,
     "metadata": {},
     "output_type": "execute_result"
    }
   ],
   "source": [
    "#Checking the duplicates value in dataframe\n",
    "netflix.duplicated().sum()"
   ]
  },
  {
   "cell_type": "code",
   "execution_count": 49,
   "id": "933608df",
   "metadata": {},
   "outputs": [
    {
     "data": {
      "text/html": [
       "<div>\n",
       "<style scoped>\n",
       "    .dataframe tbody tr th:only-of-type {\n",
       "        vertical-align: middle;\n",
       "    }\n",
       "\n",
       "    .dataframe tbody tr th {\n",
       "        vertical-align: top;\n",
       "    }\n",
       "\n",
       "    .dataframe thead th {\n",
       "        text-align: right;\n",
       "    }\n",
       "</style>\n",
       "<table border=\"1\" class=\"dataframe\">\n",
       "  <thead>\n",
       "    <tr style=\"text-align: right;\">\n",
       "      <th></th>\n",
       "      <th>show_id</th>\n",
       "      <th>type</th>\n",
       "      <th>title</th>\n",
       "      <th>director</th>\n",
       "      <th>cast</th>\n",
       "      <th>country</th>\n",
       "      <th>date_added</th>\n",
       "      <th>release_year</th>\n",
       "      <th>rating</th>\n",
       "      <th>duration</th>\n",
       "      <th>listed_in</th>\n",
       "      <th>description</th>\n",
       "    </tr>\n",
       "  </thead>\n",
       "  <tbody>\n",
       "    <tr>\n",
       "      <th>8807</th>\n",
       "      <td>s17</td>\n",
       "      <td>Movie</td>\n",
       "      <td>Europe's Most Dangerous Man: Otto Skorzeny in ...</td>\n",
       "      <td>Pedro de Echave García, Pablo Azorín Williams</td>\n",
       "      <td>NaN</td>\n",
       "      <td>NaN</td>\n",
       "      <td>September 22, 2021</td>\n",
       "      <td>2020</td>\n",
       "      <td>TV-MA</td>\n",
       "      <td>67 min</td>\n",
       "      <td>Documentaries, International Movies</td>\n",
       "      <td>Declassified documents reveal the post-WWII li...</td>\n",
       "    </tr>\n",
       "  </tbody>\n",
       "</table>\n",
       "</div>"
      ],
      "text/plain": [
       "     show_id   type                                              title  \\\n",
       "8807     s17  Movie  Europe's Most Dangerous Man: Otto Skorzeny in ...   \n",
       "\n",
       "                                           director cast country  \\\n",
       "8807  Pedro de Echave García, Pablo Azorín Williams  NaN     NaN   \n",
       "\n",
       "              date_added  release_year rating duration  \\\n",
       "8807  September 22, 2021          2020  TV-MA   67 min   \n",
       "\n",
       "                                listed_in  \\\n",
       "8807  Documentaries, International Movies   \n",
       "\n",
       "                                            description  \n",
       "8807  Declassified documents reveal the post-WWII li...  "
      ]
     },
     "execution_count": 49,
     "metadata": {},
     "output_type": "execute_result"
    }
   ],
   "source": [
    "# To Find the Duplicated value\n",
    "netflix[netflix.duplicated()]"
   ]
  },
  {
   "cell_type": "code",
   "execution_count": 50,
   "id": "e265a01c",
   "metadata": {},
   "outputs": [],
   "source": [
    "# Drop the Duplicates Values\n",
    "netflix.drop_duplicates(inplace=True)"
   ]
  },
  {
   "cell_type": "code",
   "execution_count": 51,
   "id": "ce3a2f2c",
   "metadata": {},
   "outputs": [
    {
     "data": {
      "text/plain": [
       "0"
      ]
     },
     "execution_count": 51,
     "metadata": {},
     "output_type": "execute_result"
    }
   ],
   "source": [
    "# Rechecking the Duplicated value\n",
    "netflix.duplicated().sum()"
   ]
  },
  {
   "cell_type": "code",
   "execution_count": 52,
   "id": "126caff6",
   "metadata": {},
   "outputs": [
    {
     "data": {
      "text/plain": [
       "director        2634\n",
       "country          831\n",
       "cast             825\n",
       "date_added        10\n",
       "rating             4\n",
       "duration           3\n",
       "show_id            0\n",
       "type               0\n",
       "title              0\n",
       "release_year       0\n",
       "listed_in          0\n",
       "description        0\n",
       "dtype: int64"
      ]
     },
     "execution_count": 52,
     "metadata": {},
     "output_type": "execute_result"
    }
   ],
   "source": [
    "# Checking the how many Null Values in each columns\n",
    "netflix.isnull().sum().sort_values(ascending=False)"
   ]
  },
  {
   "cell_type": "code",
   "execution_count": 53,
   "id": "93fc1d1c",
   "metadata": {
    "scrolled": true
   },
   "outputs": [
    {
     "data": {
      "text/plain": [
       "director        29.91\n",
       "country          9.44\n",
       "cast             9.37\n",
       "date_added       0.11\n",
       "rating           0.05\n",
       "duration         0.03\n",
       "show_id          0.00\n",
       "type             0.00\n",
       "title            0.00\n",
       "release_year     0.00\n",
       "listed_in        0.00\n",
       "description      0.00\n",
       "dtype: float64"
      ]
     },
     "execution_count": 53,
     "metadata": {},
     "output_type": "execute_result"
    }
   ],
   "source": [
    "# To check the null values in each column in percentages\n",
    "round(netflix.isnull().sum()/netflix.shape[0]*100,2).sort_values(ascending=False)"
   ]
  },
  {
   "cell_type": "code",
   "execution_count": 54,
   "id": "4becb683",
   "metadata": {},
   "outputs": [],
   "source": [
    "# Replace the null values in columns (director, country, cast, Date_added, rating, duration,)"
   ]
  },
  {
   "cell_type": "code",
   "execution_count": 55,
   "id": "2f75eacf",
   "metadata": {},
   "outputs": [],
   "source": [
    "netflix[\"director\"].replace(np.NaN, \"No Director\",inplace=True)\n",
    "netflix[\"cast\"].replace(np.NaN,\"No Cast\",inplace=True)\n",
    "netflix[\"country\"].replace(np.NaN, \"UnKnown\",inplace=True)"
   ]
  },
  {
   "cell_type": "code",
   "execution_count": 56,
   "id": "39cad7cd",
   "metadata": {},
   "outputs": [],
   "source": [
    "netflix[\"date_added\"]=netflix[\"date_added\"].fillna(netflix[\"date_added\"].mode()[0])\n",
    "netflix[\"rating\"].replace(np.NaN, \"Unknown\",inplace=True)\n",
    "netflix[\"duration\"]=netflix[\"duration\"].fillna(netflix[\"duration\"].mode()[0])"
   ]
  },
  {
   "cell_type": "code",
   "execution_count": 57,
   "id": "e09da421",
   "metadata": {},
   "outputs": [
    {
     "data": {
      "text/plain": [
       "show_id         0\n",
       "type            0\n",
       "title           0\n",
       "director        0\n",
       "cast            0\n",
       "country         0\n",
       "date_added      0\n",
       "release_year    0\n",
       "rating          0\n",
       "duration        0\n",
       "listed_in       0\n",
       "description     0\n",
       "dtype: int64"
      ]
     },
     "execution_count": 57,
     "metadata": {},
     "output_type": "execute_result"
    }
   ],
   "source": [
    "# now Recheking the null values\n",
    "netflix.isnull().sum()"
   ]
  },
  {
   "cell_type": "code",
   "execution_count": 58,
   "id": "7d6f8f5b",
   "metadata": {},
   "outputs": [
    {
     "data": {
      "text/html": [
       "<div>\n",
       "<style scoped>\n",
       "    .dataframe tbody tr th:only-of-type {\n",
       "        vertical-align: middle;\n",
       "    }\n",
       "\n",
       "    .dataframe tbody tr th {\n",
       "        vertical-align: top;\n",
       "    }\n",
       "\n",
       "    .dataframe thead th {\n",
       "        text-align: right;\n",
       "    }\n",
       "</style>\n",
       "<table border=\"1\" class=\"dataframe\">\n",
       "  <thead>\n",
       "    <tr style=\"text-align: right;\">\n",
       "      <th></th>\n",
       "      <th>show_id</th>\n",
       "      <th>type</th>\n",
       "      <th>title</th>\n",
       "      <th>director</th>\n",
       "      <th>cast</th>\n",
       "      <th>country</th>\n",
       "      <th>date_added</th>\n",
       "      <th>release_year</th>\n",
       "      <th>rating</th>\n",
       "      <th>duration</th>\n",
       "      <th>listed_in</th>\n",
       "      <th>description</th>\n",
       "    </tr>\n",
       "  </thead>\n",
       "  <tbody>\n",
       "    <tr>\n",
       "      <th>1</th>\n",
       "      <td>s2</td>\n",
       "      <td>TV Show</td>\n",
       "      <td>Blood &amp; Water</td>\n",
       "      <td>No Director</td>\n",
       "      <td>Ama Qamata, Khosi Ngema, Gail Mabalane, Thaban...</td>\n",
       "      <td>South Africa</td>\n",
       "      <td>September 24, 2021</td>\n",
       "      <td>2021</td>\n",
       "      <td>TV-MA</td>\n",
       "      <td>2 Seasons</td>\n",
       "      <td>International TV Shows, TV Dramas, TV Mysteries</td>\n",
       "      <td>After crossing paths at a party, a Cape Town t...</td>\n",
       "    </tr>\n",
       "    <tr>\n",
       "      <th>3</th>\n",
       "      <td>s4</td>\n",
       "      <td>TV Show</td>\n",
       "      <td>Jailbirds New Orleans</td>\n",
       "      <td>No Director</td>\n",
       "      <td>No Cast</td>\n",
       "      <td>UnKnown</td>\n",
       "      <td>September 24, 2021</td>\n",
       "      <td>2021</td>\n",
       "      <td>TV-MA</td>\n",
       "      <td>1 Season</td>\n",
       "      <td>Docuseries, Reality TV</td>\n",
       "      <td>Feuds, flirtations and toilet talk go down amo...</td>\n",
       "    </tr>\n",
       "    <tr>\n",
       "      <th>4</th>\n",
       "      <td>s5</td>\n",
       "      <td>TV Show</td>\n",
       "      <td>Kota Factory</td>\n",
       "      <td>No Director</td>\n",
       "      <td>Mayur More, Jitendra Kumar, Ranjan Raj, Alam K...</td>\n",
       "      <td>India</td>\n",
       "      <td>September 24, 2021</td>\n",
       "      <td>2021</td>\n",
       "      <td>TV-MA</td>\n",
       "      <td>2 Seasons</td>\n",
       "      <td>International TV Shows, Romantic TV Shows, TV ...</td>\n",
       "      <td>In a city of coaching centers known to train I...</td>\n",
       "    </tr>\n",
       "    <tr>\n",
       "      <th>10</th>\n",
       "      <td>s11</td>\n",
       "      <td>TV Show</td>\n",
       "      <td>Vendetta: Truth, Lies and The Mafia</td>\n",
       "      <td>No Director</td>\n",
       "      <td>No Cast</td>\n",
       "      <td>UnKnown</td>\n",
       "      <td>September 24, 2021</td>\n",
       "      <td>2021</td>\n",
       "      <td>TV-MA</td>\n",
       "      <td>1 Season</td>\n",
       "      <td>Crime TV Shows, Docuseries, International TV S...</td>\n",
       "      <td>Sicily boasts a bold \"Anti-Mafia\" coalition. B...</td>\n",
       "    </tr>\n",
       "    <tr>\n",
       "      <th>14</th>\n",
       "      <td>s15</td>\n",
       "      <td>TV Show</td>\n",
       "      <td>Crime Stories: India Detectives</td>\n",
       "      <td>No Director</td>\n",
       "      <td>No Cast</td>\n",
       "      <td>UnKnown</td>\n",
       "      <td>September 22, 2021</td>\n",
       "      <td>2021</td>\n",
       "      <td>TV-MA</td>\n",
       "      <td>1 Season</td>\n",
       "      <td>British TV Shows, Crime TV Shows, Docuseries</td>\n",
       "      <td>Cameras following Bengaluru police on the job ...</td>\n",
       "    </tr>\n",
       "    <tr>\n",
       "      <th>...</th>\n",
       "      <td>...</td>\n",
       "      <td>...</td>\n",
       "      <td>...</td>\n",
       "      <td>...</td>\n",
       "      <td>...</td>\n",
       "      <td>...</td>\n",
       "      <td>...</td>\n",
       "      <td>...</td>\n",
       "      <td>...</td>\n",
       "      <td>...</td>\n",
       "      <td>...</td>\n",
       "      <td>...</td>\n",
       "    </tr>\n",
       "    <tr>\n",
       "      <th>8795</th>\n",
       "      <td>s8796</td>\n",
       "      <td>TV Show</td>\n",
       "      <td>Yu-Gi-Oh! Arc-V</td>\n",
       "      <td>No Director</td>\n",
       "      <td>Mike Liscio, Emily Bauer, Billy Bob Thompson, ...</td>\n",
       "      <td>Japan, Canada</td>\n",
       "      <td>May 1, 2018</td>\n",
       "      <td>2015</td>\n",
       "      <td>TV-Y7</td>\n",
       "      <td>2 Seasons</td>\n",
       "      <td>Anime Series, Kids' TV</td>\n",
       "      <td>Now that he's discovered the Pendulum Summonin...</td>\n",
       "    </tr>\n",
       "    <tr>\n",
       "      <th>8796</th>\n",
       "      <td>s8797</td>\n",
       "      <td>TV Show</td>\n",
       "      <td>Yunus Emre</td>\n",
       "      <td>No Director</td>\n",
       "      <td>Gökhan Atalay, Payidar Tüfekçioglu, Baran Akbu...</td>\n",
       "      <td>Turkey</td>\n",
       "      <td>January 17, 2017</td>\n",
       "      <td>2016</td>\n",
       "      <td>TV-PG</td>\n",
       "      <td>2 Seasons</td>\n",
       "      <td>International TV Shows, TV Dramas</td>\n",
       "      <td>During the Mongol invasions, Yunus Emre leaves...</td>\n",
       "    </tr>\n",
       "    <tr>\n",
       "      <th>8797</th>\n",
       "      <td>s8798</td>\n",
       "      <td>TV Show</td>\n",
       "      <td>Zak Storm</td>\n",
       "      <td>No Director</td>\n",
       "      <td>Michael Johnston, Jessica Gee-George, Christin...</td>\n",
       "      <td>United States, France, South Korea, Indonesia</td>\n",
       "      <td>September 13, 2018</td>\n",
       "      <td>2016</td>\n",
       "      <td>TV-Y7</td>\n",
       "      <td>3 Seasons</td>\n",
       "      <td>Kids' TV</td>\n",
       "      <td>Teen surfer Zak Storm is mysteriously transpor...</td>\n",
       "    </tr>\n",
       "    <tr>\n",
       "      <th>8800</th>\n",
       "      <td>s8801</td>\n",
       "      <td>TV Show</td>\n",
       "      <td>Zindagi Gulzar Hai</td>\n",
       "      <td>No Director</td>\n",
       "      <td>Sanam Saeed, Fawad Khan, Ayesha Omer, Mehreen ...</td>\n",
       "      <td>Pakistan</td>\n",
       "      <td>December 15, 2016</td>\n",
       "      <td>2012</td>\n",
       "      <td>TV-PG</td>\n",
       "      <td>1 Season</td>\n",
       "      <td>International TV Shows, Romantic TV Shows, TV ...</td>\n",
       "      <td>Strong-willed, middle-class Kashaf and carefre...</td>\n",
       "    </tr>\n",
       "    <tr>\n",
       "      <th>8803</th>\n",
       "      <td>s8804</td>\n",
       "      <td>TV Show</td>\n",
       "      <td>Zombie Dumb</td>\n",
       "      <td>No Director</td>\n",
       "      <td>No Cast</td>\n",
       "      <td>UnKnown</td>\n",
       "      <td>July 1, 2019</td>\n",
       "      <td>2018</td>\n",
       "      <td>TV-Y7</td>\n",
       "      <td>2 Seasons</td>\n",
       "      <td>Kids' TV, Korean TV Shows, TV Comedies</td>\n",
       "      <td>While living alone in a spooky town, a young g...</td>\n",
       "    </tr>\n",
       "  </tbody>\n",
       "</table>\n",
       "<p>2634 rows × 12 columns</p>\n",
       "</div>"
      ],
      "text/plain": [
       "     show_id     type                                title     director  \\\n",
       "1         s2  TV Show                        Blood & Water  No Director   \n",
       "3         s4  TV Show                Jailbirds New Orleans  No Director   \n",
       "4         s5  TV Show                         Kota Factory  No Director   \n",
       "10       s11  TV Show  Vendetta: Truth, Lies and The Mafia  No Director   \n",
       "14       s15  TV Show      Crime Stories: India Detectives  No Director   \n",
       "...      ...      ...                                  ...          ...   \n",
       "8795   s8796  TV Show                      Yu-Gi-Oh! Arc-V  No Director   \n",
       "8796   s8797  TV Show                           Yunus Emre  No Director   \n",
       "8797   s8798  TV Show                            Zak Storm  No Director   \n",
       "8800   s8801  TV Show                   Zindagi Gulzar Hai  No Director   \n",
       "8803   s8804  TV Show                          Zombie Dumb  No Director   \n",
       "\n",
       "                                                   cast  \\\n",
       "1     Ama Qamata, Khosi Ngema, Gail Mabalane, Thaban...   \n",
       "3                                               No Cast   \n",
       "4     Mayur More, Jitendra Kumar, Ranjan Raj, Alam K...   \n",
       "10                                              No Cast   \n",
       "14                                              No Cast   \n",
       "...                                                 ...   \n",
       "8795  Mike Liscio, Emily Bauer, Billy Bob Thompson, ...   \n",
       "8796  Gökhan Atalay, Payidar Tüfekçioglu, Baran Akbu...   \n",
       "8797  Michael Johnston, Jessica Gee-George, Christin...   \n",
       "8800  Sanam Saeed, Fawad Khan, Ayesha Omer, Mehreen ...   \n",
       "8803                                            No Cast   \n",
       "\n",
       "                                            country          date_added  \\\n",
       "1                                      South Africa  September 24, 2021   \n",
       "3                                           UnKnown  September 24, 2021   \n",
       "4                                             India  September 24, 2021   \n",
       "10                                          UnKnown  September 24, 2021   \n",
       "14                                          UnKnown  September 22, 2021   \n",
       "...                                             ...                 ...   \n",
       "8795                                  Japan, Canada         May 1, 2018   \n",
       "8796                                         Turkey    January 17, 2017   \n",
       "8797  United States, France, South Korea, Indonesia  September 13, 2018   \n",
       "8800                                       Pakistan   December 15, 2016   \n",
       "8803                                        UnKnown        July 1, 2019   \n",
       "\n",
       "      release_year rating   duration  \\\n",
       "1             2021  TV-MA  2 Seasons   \n",
       "3             2021  TV-MA   1 Season   \n",
       "4             2021  TV-MA  2 Seasons   \n",
       "10            2021  TV-MA   1 Season   \n",
       "14            2021  TV-MA   1 Season   \n",
       "...            ...    ...        ...   \n",
       "8795          2015  TV-Y7  2 Seasons   \n",
       "8796          2016  TV-PG  2 Seasons   \n",
       "8797          2016  TV-Y7  3 Seasons   \n",
       "8800          2012  TV-PG   1 Season   \n",
       "8803          2018  TV-Y7  2 Seasons   \n",
       "\n",
       "                                              listed_in  \\\n",
       "1       International TV Shows, TV Dramas, TV Mysteries   \n",
       "3                                Docuseries, Reality TV   \n",
       "4     International TV Shows, Romantic TV Shows, TV ...   \n",
       "10    Crime TV Shows, Docuseries, International TV S...   \n",
       "14         British TV Shows, Crime TV Shows, Docuseries   \n",
       "...                                                 ...   \n",
       "8795                             Anime Series, Kids' TV   \n",
       "8796                  International TV Shows, TV Dramas   \n",
       "8797                                           Kids' TV   \n",
       "8800  International TV Shows, Romantic TV Shows, TV ...   \n",
       "8803             Kids' TV, Korean TV Shows, TV Comedies   \n",
       "\n",
       "                                            description  \n",
       "1     After crossing paths at a party, a Cape Town t...  \n",
       "3     Feuds, flirtations and toilet talk go down amo...  \n",
       "4     In a city of coaching centers known to train I...  \n",
       "10    Sicily boasts a bold \"Anti-Mafia\" coalition. B...  \n",
       "14    Cameras following Bengaluru police on the job ...  \n",
       "...                                                 ...  \n",
       "8795  Now that he's discovered the Pendulum Summonin...  \n",
       "8796  During the Mongol invasions, Yunus Emre leaves...  \n",
       "8797  Teen surfer Zak Storm is mysteriously transpor...  \n",
       "8800  Strong-willed, middle-class Kashaf and carefre...  \n",
       "8803  While living alone in a spooky town, a young g...  \n",
       "\n",
       "[2634 rows x 12 columns]"
      ]
     },
     "execution_count": 58,
     "metadata": {},
     "output_type": "execute_result"
    }
   ],
   "source": [
    "netflix[netflix[\"director\"]==\"No Director\"]"
   ]
  },
  {
   "cell_type": "code",
   "execution_count": 59,
   "id": "fac5202f",
   "metadata": {},
   "outputs": [
    {
     "data": {
      "text/plain": [
       "831"
      ]
     },
     "execution_count": 59,
     "metadata": {},
     "output_type": "execute_result"
    }
   ],
   "source": [
    "# Recheck the unknown values \n",
    "netflix[netflix[\"country\"]==\"UnKnown\"].shape[0]"
   ]
  },
  {
   "cell_type": "code",
   "execution_count": 60,
   "id": "7be09e1c",
   "metadata": {},
   "outputs": [
    {
     "data": {
      "text/plain": [
       "0"
      ]
     },
     "execution_count": 60,
     "metadata": {},
     "output_type": "execute_result"
    }
   ],
   "source": [
    "netflix[netflix[\"country\"].isnull()].shape[0]"
   ]
  },
  {
   "cell_type": "code",
   "execution_count": 61,
   "id": "3bddc4d9",
   "metadata": {},
   "outputs": [
    {
     "data": {
      "text/plain": [
       "(8807, 12)"
      ]
     },
     "execution_count": 61,
     "metadata": {},
     "output_type": "execute_result"
    }
   ],
   "source": [
    "netflix.shape"
   ]
  },
  {
   "cell_type": "code",
   "execution_count": 62,
   "id": "5ffa3e80",
   "metadata": {},
   "outputs": [
    {
     "data": {
      "text/html": [
       "<div>\n",
       "<style scoped>\n",
       "    .dataframe tbody tr th:only-of-type {\n",
       "        vertical-align: middle;\n",
       "    }\n",
       "\n",
       "    .dataframe tbody tr th {\n",
       "        vertical-align: top;\n",
       "    }\n",
       "\n",
       "    .dataframe thead th {\n",
       "        text-align: right;\n",
       "    }\n",
       "</style>\n",
       "<table border=\"1\" class=\"dataframe\">\n",
       "  <thead>\n",
       "    <tr style=\"text-align: right;\">\n",
       "      <th></th>\n",
       "      <th>show_id</th>\n",
       "      <th>type</th>\n",
       "      <th>title</th>\n",
       "      <th>director</th>\n",
       "      <th>cast</th>\n",
       "      <th>country</th>\n",
       "      <th>date_added</th>\n",
       "      <th>release_year</th>\n",
       "      <th>rating</th>\n",
       "      <th>duration</th>\n",
       "      <th>listed_in</th>\n",
       "      <th>description</th>\n",
       "    </tr>\n",
       "  </thead>\n",
       "  <tbody>\n",
       "    <tr>\n",
       "      <th>0</th>\n",
       "      <td>s1</td>\n",
       "      <td>Movie</td>\n",
       "      <td>Dick Johnson Is Dead</td>\n",
       "      <td>Kirsten Johnson</td>\n",
       "      <td>No Cast</td>\n",
       "      <td>United States</td>\n",
       "      <td>September 25, 2021</td>\n",
       "      <td>2020</td>\n",
       "      <td>PG-13</td>\n",
       "      <td>90 min</td>\n",
       "      <td>Documentaries</td>\n",
       "      <td>As her father nears the end of his life, filmm...</td>\n",
       "    </tr>\n",
       "    <tr>\n",
       "      <th>1</th>\n",
       "      <td>s2</td>\n",
       "      <td>TV Show</td>\n",
       "      <td>Blood &amp; Water</td>\n",
       "      <td>No Director</td>\n",
       "      <td>Ama Qamata, Khosi Ngema, Gail Mabalane, Thaban...</td>\n",
       "      <td>South Africa</td>\n",
       "      <td>September 24, 2021</td>\n",
       "      <td>2021</td>\n",
       "      <td>TV-MA</td>\n",
       "      <td>2 Seasons</td>\n",
       "      <td>International TV Shows, TV Dramas, TV Mysteries</td>\n",
       "      <td>After crossing paths at a party, a Cape Town t...</td>\n",
       "    </tr>\n",
       "    <tr>\n",
       "      <th>2</th>\n",
       "      <td>s3</td>\n",
       "      <td>TV Show</td>\n",
       "      <td>Ganglands</td>\n",
       "      <td>Julien Leclercq</td>\n",
       "      <td>Sami Bouajila, Tracy Gotoas, Samuel Jouy, Nabi...</td>\n",
       "      <td>UnKnown</td>\n",
       "      <td>September 24, 2021</td>\n",
       "      <td>2021</td>\n",
       "      <td>TV-MA</td>\n",
       "      <td>1 Season</td>\n",
       "      <td>Crime TV Shows, International TV Shows, TV Act...</td>\n",
       "      <td>To protect his family from a powerful drug lor...</td>\n",
       "    </tr>\n",
       "  </tbody>\n",
       "</table>\n",
       "</div>"
      ],
      "text/plain": [
       "  show_id     type                 title         director  \\\n",
       "0      s1    Movie  Dick Johnson Is Dead  Kirsten Johnson   \n",
       "1      s2  TV Show         Blood & Water      No Director   \n",
       "2      s3  TV Show             Ganglands  Julien Leclercq   \n",
       "\n",
       "                                                cast        country  \\\n",
       "0                                            No Cast  United States   \n",
       "1  Ama Qamata, Khosi Ngema, Gail Mabalane, Thaban...   South Africa   \n",
       "2  Sami Bouajila, Tracy Gotoas, Samuel Jouy, Nabi...        UnKnown   \n",
       "\n",
       "           date_added  release_year rating   duration  \\\n",
       "0  September 25, 2021          2020  PG-13     90 min   \n",
       "1  September 24, 2021          2021  TV-MA  2 Seasons   \n",
       "2  September 24, 2021          2021  TV-MA   1 Season   \n",
       "\n",
       "                                           listed_in  \\\n",
       "0                                      Documentaries   \n",
       "1    International TV Shows, TV Dramas, TV Mysteries   \n",
       "2  Crime TV Shows, International TV Shows, TV Act...   \n",
       "\n",
       "                                         description  \n",
       "0  As her father nears the end of his life, filmm...  \n",
       "1  After crossing paths at a party, a Cape Town t...  \n",
       "2  To protect his family from a powerful drug lor...  "
      ]
     },
     "execution_count": 62,
     "metadata": {},
     "output_type": "execute_result"
    }
   ],
   "source": [
    "netflix.head(3)"
   ]
  },
  {
   "cell_type": "code",
   "execution_count": 45,
   "id": "7d18d21f",
   "metadata": {},
   "outputs": [],
   "source": [
    "#now Change the Columns names\n",
    "netflix.rename(columns={\"listed_in\":\"Genre\"}, inplace=True)"
   ]
  },
  {
   "cell_type": "code",
   "execution_count": 64,
   "id": "1a030ac6",
   "metadata": {},
   "outputs": [
    {
     "data": {
      "text/html": [
       "<div>\n",
       "<style scoped>\n",
       "    .dataframe tbody tr th:only-of-type {\n",
       "        vertical-align: middle;\n",
       "    }\n",
       "\n",
       "    .dataframe tbody tr th {\n",
       "        vertical-align: top;\n",
       "    }\n",
       "\n",
       "    .dataframe thead th {\n",
       "        text-align: right;\n",
       "    }\n",
       "</style>\n",
       "<table border=\"1\" class=\"dataframe\">\n",
       "  <thead>\n",
       "    <tr style=\"text-align: right;\">\n",
       "      <th></th>\n",
       "      <th>show_id</th>\n",
       "      <th>type</th>\n",
       "      <th>title</th>\n",
       "      <th>director</th>\n",
       "      <th>cast</th>\n",
       "      <th>country</th>\n",
       "      <th>date_added</th>\n",
       "      <th>release_year</th>\n",
       "      <th>rating</th>\n",
       "      <th>duration</th>\n",
       "      <th>listed_in</th>\n",
       "      <th>description</th>\n",
       "    </tr>\n",
       "  </thead>\n",
       "  <tbody>\n",
       "    <tr>\n",
       "      <th>0</th>\n",
       "      <td>1</td>\n",
       "      <td>Movie</td>\n",
       "      <td>Dick Johnson Is Dead</td>\n",
       "      <td>Kirsten Johnson</td>\n",
       "      <td>No Cast</td>\n",
       "      <td>United States</td>\n",
       "      <td>September 25, 2021</td>\n",
       "      <td>2020</td>\n",
       "      <td>PG-13</td>\n",
       "      <td>90 min</td>\n",
       "      <td>Documentaries</td>\n",
       "      <td>As her father nears the end of his life, filmm...</td>\n",
       "    </tr>\n",
       "    <tr>\n",
       "      <th>1</th>\n",
       "      <td>2</td>\n",
       "      <td>TV Show</td>\n",
       "      <td>Blood &amp; Water</td>\n",
       "      <td>No Director</td>\n",
       "      <td>Ama Qamata, Khosi Ngema, Gail Mabalane, Thaban...</td>\n",
       "      <td>South Africa</td>\n",
       "      <td>September 24, 2021</td>\n",
       "      <td>2021</td>\n",
       "      <td>TV-MA</td>\n",
       "      <td>2 Seasons</td>\n",
       "      <td>International TV Shows, TV Dramas, TV Mysteries</td>\n",
       "      <td>After crossing paths at a party, a Cape Town t...</td>\n",
       "    </tr>\n",
       "    <tr>\n",
       "      <th>2</th>\n",
       "      <td>3</td>\n",
       "      <td>TV Show</td>\n",
       "      <td>Ganglands</td>\n",
       "      <td>Julien Leclercq</td>\n",
       "      <td>Sami Bouajila, Tracy Gotoas, Samuel Jouy, Nabi...</td>\n",
       "      <td>UnKnown</td>\n",
       "      <td>September 24, 2021</td>\n",
       "      <td>2021</td>\n",
       "      <td>TV-MA</td>\n",
       "      <td>1 Season</td>\n",
       "      <td>Crime TV Shows, International TV Shows, TV Act...</td>\n",
       "      <td>To protect his family from a powerful drug lor...</td>\n",
       "    </tr>\n",
       "    <tr>\n",
       "      <th>3</th>\n",
       "      <td>4</td>\n",
       "      <td>TV Show</td>\n",
       "      <td>Jailbirds New Orleans</td>\n",
       "      <td>No Director</td>\n",
       "      <td>No Cast</td>\n",
       "      <td>UnKnown</td>\n",
       "      <td>September 24, 2021</td>\n",
       "      <td>2021</td>\n",
       "      <td>TV-MA</td>\n",
       "      <td>1 Season</td>\n",
       "      <td>Docuseries, Reality TV</td>\n",
       "      <td>Feuds, flirtations and toilet talk go down amo...</td>\n",
       "    </tr>\n",
       "    <tr>\n",
       "      <th>4</th>\n",
       "      <td>5</td>\n",
       "      <td>TV Show</td>\n",
       "      <td>Kota Factory</td>\n",
       "      <td>No Director</td>\n",
       "      <td>Mayur More, Jitendra Kumar, Ranjan Raj, Alam K...</td>\n",
       "      <td>India</td>\n",
       "      <td>September 24, 2021</td>\n",
       "      <td>2021</td>\n",
       "      <td>TV-MA</td>\n",
       "      <td>2 Seasons</td>\n",
       "      <td>International TV Shows, Romantic TV Shows, TV ...</td>\n",
       "      <td>In a city of coaching centers known to train I...</td>\n",
       "    </tr>\n",
       "  </tbody>\n",
       "</table>\n",
       "</div>"
      ],
      "text/plain": [
       "  show_id     type                  title         director  \\\n",
       "0       1    Movie   Dick Johnson Is Dead  Kirsten Johnson   \n",
       "1       2  TV Show          Blood & Water      No Director   \n",
       "2       3  TV Show              Ganglands  Julien Leclercq   \n",
       "3       4  TV Show  Jailbirds New Orleans      No Director   \n",
       "4       5  TV Show           Kota Factory      No Director   \n",
       "\n",
       "                                                cast        country  \\\n",
       "0                                            No Cast  United States   \n",
       "1  Ama Qamata, Khosi Ngema, Gail Mabalane, Thaban...   South Africa   \n",
       "2  Sami Bouajila, Tracy Gotoas, Samuel Jouy, Nabi...        UnKnown   \n",
       "3                                            No Cast        UnKnown   \n",
       "4  Mayur More, Jitendra Kumar, Ranjan Raj, Alam K...          India   \n",
       "\n",
       "           date_added  release_year rating   duration  \\\n",
       "0  September 25, 2021          2020  PG-13     90 min   \n",
       "1  September 24, 2021          2021  TV-MA  2 Seasons   \n",
       "2  September 24, 2021          2021  TV-MA   1 Season   \n",
       "3  September 24, 2021          2021  TV-MA   1 Season   \n",
       "4  September 24, 2021          2021  TV-MA  2 Seasons   \n",
       "\n",
       "                                           listed_in  \\\n",
       "0                                      Documentaries   \n",
       "1    International TV Shows, TV Dramas, TV Mysteries   \n",
       "2  Crime TV Shows, International TV Shows, TV Act...   \n",
       "3                             Docuseries, Reality TV   \n",
       "4  International TV Shows, Romantic TV Shows, TV ...   \n",
       "\n",
       "                                         description  \n",
       "0  As her father nears the end of his life, filmm...  \n",
       "1  After crossing paths at a party, a Cape Town t...  \n",
       "2  To protect his family from a powerful drug lor...  \n",
       "3  Feuds, flirtations and toilet talk go down amo...  \n",
       "4  In a city of coaching centers known to train I...  "
      ]
     },
     "execution_count": 64,
     "metadata": {},
     "output_type": "execute_result"
    }
   ],
   "source": [
    "netflix.head(5)"
   ]
  },
  {
   "cell_type": "code",
   "execution_count": 65,
   "id": "3a92e0b6",
   "metadata": {},
   "outputs": [],
   "source": [
    "# to remove unwanted text from title column\n",
    "netflix['title'] = netflix['title'].str.strip()"
   ]
  },
  {
   "cell_type": "code",
   "execution_count": 66,
   "id": "e6cb2e9d",
   "metadata": {},
   "outputs": [
    {
     "data": {
      "text/plain": [
       "array(['Dick Johnson Is Dead', 'Blood & Water', 'Ganglands', ...,\n",
       "       'Zombieland', 'Zoom', 'Zubaan'], dtype=object)"
      ]
     },
     "execution_count": 66,
     "metadata": {},
     "output_type": "execute_result"
    }
   ],
   "source": [
    "netflix['title'].unique()"
   ]
  },
  {
   "cell_type": "markdown",
   "id": "4a59bb3b",
   "metadata": {},
   "source": [
    "# Additional Data Cleaning duration column data input error"
   ]
  },
  {
   "cell_type": "code",
   "execution_count": 67,
   "id": "210239fb",
   "metadata": {},
   "outputs": [
    {
     "data": {
      "text/html": [
       "<div>\n",
       "<style scoped>\n",
       "    .dataframe tbody tr th:only-of-type {\n",
       "        vertical-align: middle;\n",
       "    }\n",
       "\n",
       "    .dataframe tbody tr th {\n",
       "        vertical-align: top;\n",
       "    }\n",
       "\n",
       "    .dataframe thead th {\n",
       "        text-align: right;\n",
       "    }\n",
       "</style>\n",
       "<table border=\"1\" class=\"dataframe\">\n",
       "  <thead>\n",
       "    <tr style=\"text-align: right;\">\n",
       "      <th></th>\n",
       "      <th>show_id</th>\n",
       "      <th>type</th>\n",
       "      <th>title</th>\n",
       "      <th>director</th>\n",
       "      <th>cast</th>\n",
       "      <th>country</th>\n",
       "      <th>date_added</th>\n",
       "      <th>release_year</th>\n",
       "      <th>rating</th>\n",
       "      <th>duration</th>\n",
       "      <th>listed_in</th>\n",
       "      <th>description</th>\n",
       "    </tr>\n",
       "  </thead>\n",
       "  <tbody>\n",
       "    <tr>\n",
       "      <th>5541</th>\n",
       "      <td>5542</td>\n",
       "      <td>Movie</td>\n",
       "      <td>Louis C.K. 2017</td>\n",
       "      <td>Louis C.K.</td>\n",
       "      <td>Louis C.K.</td>\n",
       "      <td>United States</td>\n",
       "      <td>April 4, 2017</td>\n",
       "      <td>2017</td>\n",
       "      <td>74 min</td>\n",
       "      <td>1 Season</td>\n",
       "      <td>Movies</td>\n",
       "      <td>Louis C.K. muses on religion, eternal love, gi...</td>\n",
       "    </tr>\n",
       "    <tr>\n",
       "      <th>5794</th>\n",
       "      <td>5795</td>\n",
       "      <td>Movie</td>\n",
       "      <td>Louis C.K.: Hilarious</td>\n",
       "      <td>Louis C.K.</td>\n",
       "      <td>Louis C.K.</td>\n",
       "      <td>United States</td>\n",
       "      <td>September 16, 2016</td>\n",
       "      <td>2010</td>\n",
       "      <td>84 min</td>\n",
       "      <td>1 Season</td>\n",
       "      <td>Movies</td>\n",
       "      <td>Emmy-winning comedy writer Louis C.K. brings h...</td>\n",
       "    </tr>\n",
       "    <tr>\n",
       "      <th>5813</th>\n",
       "      <td>5814</td>\n",
       "      <td>Movie</td>\n",
       "      <td>Louis C.K.: Live at the Comedy Store</td>\n",
       "      <td>Louis C.K.</td>\n",
       "      <td>Louis C.K.</td>\n",
       "      <td>United States</td>\n",
       "      <td>August 15, 2016</td>\n",
       "      <td>2015</td>\n",
       "      <td>66 min</td>\n",
       "      <td>1 Season</td>\n",
       "      <td>Movies</td>\n",
       "      <td>The comic puts his trademark hilarious/thought...</td>\n",
       "    </tr>\n",
       "  </tbody>\n",
       "</table>\n",
       "</div>"
      ],
      "text/plain": [
       "     show_id   type                                 title    director  \\\n",
       "5541    5542  Movie                       Louis C.K. 2017  Louis C.K.   \n",
       "5794    5795  Movie                 Louis C.K.: Hilarious  Louis C.K.   \n",
       "5813    5814  Movie  Louis C.K.: Live at the Comedy Store  Louis C.K.   \n",
       "\n",
       "            cast        country          date_added  release_year  rating  \\\n",
       "5541  Louis C.K.  United States       April 4, 2017          2017  74 min   \n",
       "5794  Louis C.K.  United States  September 16, 2016          2010  84 min   \n",
       "5813  Louis C.K.  United States     August 15, 2016          2015  66 min   \n",
       "\n",
       "      duration listed_in                                        description  \n",
       "5541  1 Season    Movies  Louis C.K. muses on religion, eternal love, gi...  \n",
       "5794  1 Season    Movies  Emmy-winning comedy writer Louis C.K. brings h...  \n",
       "5813  1 Season    Movies  The comic puts his trademark hilarious/thought...  "
      ]
     },
     "execution_count": 67,
     "metadata": {},
     "output_type": "execute_result"
    }
   ],
   "source": [
    "# check to make sure there is no other content with the same director to avoid accidental overwrite.\n",
    "netflix[netflix[\"director\"]==\"Louis C.K.\"]"
   ]
  },
  {
   "cell_type": "code",
   "execution_count": 68,
   "id": "6a968c19",
   "metadata": {},
   "outputs": [
    {
     "data": {
      "text/html": [
       "<div>\n",
       "<style scoped>\n",
       "    .dataframe tbody tr th:only-of-type {\n",
       "        vertical-align: middle;\n",
       "    }\n",
       "\n",
       "    .dataframe tbody tr th {\n",
       "        vertical-align: top;\n",
       "    }\n",
       "\n",
       "    .dataframe thead th {\n",
       "        text-align: right;\n",
       "    }\n",
       "</style>\n",
       "<table border=\"1\" class=\"dataframe\">\n",
       "  <thead>\n",
       "    <tr style=\"text-align: right;\">\n",
       "      <th></th>\n",
       "      <th>show_id</th>\n",
       "      <th>type</th>\n",
       "      <th>title</th>\n",
       "      <th>director</th>\n",
       "      <th>cast</th>\n",
       "      <th>country</th>\n",
       "      <th>date_added</th>\n",
       "      <th>release_year</th>\n",
       "      <th>rating</th>\n",
       "      <th>duration</th>\n",
       "      <th>listed_in</th>\n",
       "      <th>description</th>\n",
       "    </tr>\n",
       "  </thead>\n",
       "  <tbody>\n",
       "    <tr>\n",
       "      <th>5541</th>\n",
       "      <td>5542</td>\n",
       "      <td>Movie</td>\n",
       "      <td>Louis C.K. 2017</td>\n",
       "      <td>Louis C.K.</td>\n",
       "      <td>Louis C.K.</td>\n",
       "      <td>United States</td>\n",
       "      <td>April 4, 2017</td>\n",
       "      <td>2017</td>\n",
       "      <td>74 min</td>\n",
       "      <td>74 min</td>\n",
       "      <td>Movies</td>\n",
       "      <td>Louis C.K. muses on religion, eternal love, gi...</td>\n",
       "    </tr>\n",
       "    <tr>\n",
       "      <th>5794</th>\n",
       "      <td>5795</td>\n",
       "      <td>Movie</td>\n",
       "      <td>Louis C.K.: Hilarious</td>\n",
       "      <td>Louis C.K.</td>\n",
       "      <td>Louis C.K.</td>\n",
       "      <td>United States</td>\n",
       "      <td>September 16, 2016</td>\n",
       "      <td>2010</td>\n",
       "      <td>84 min</td>\n",
       "      <td>84 min</td>\n",
       "      <td>Movies</td>\n",
       "      <td>Emmy-winning comedy writer Louis C.K. brings h...</td>\n",
       "    </tr>\n",
       "    <tr>\n",
       "      <th>5813</th>\n",
       "      <td>5814</td>\n",
       "      <td>Movie</td>\n",
       "      <td>Louis C.K.: Live at the Comedy Store</td>\n",
       "      <td>Louis C.K.</td>\n",
       "      <td>Louis C.K.</td>\n",
       "      <td>United States</td>\n",
       "      <td>August 15, 2016</td>\n",
       "      <td>2015</td>\n",
       "      <td>66 min</td>\n",
       "      <td>66 min</td>\n",
       "      <td>Movies</td>\n",
       "      <td>The comic puts his trademark hilarious/thought...</td>\n",
       "    </tr>\n",
       "  </tbody>\n",
       "</table>\n",
       "</div>"
      ],
      "text/plain": [
       "     show_id   type                                 title    director  \\\n",
       "5541    5542  Movie                       Louis C.K. 2017  Louis C.K.   \n",
       "5794    5795  Movie                 Louis C.K.: Hilarious  Louis C.K.   \n",
       "5813    5814  Movie  Louis C.K.: Live at the Comedy Store  Louis C.K.   \n",
       "\n",
       "            cast        country          date_added  release_year  rating  \\\n",
       "5541  Louis C.K.  United States       April 4, 2017          2017  74 min   \n",
       "5794  Louis C.K.  United States  September 16, 2016          2010  84 min   \n",
       "5813  Louis C.K.  United States     August 15, 2016          2015  66 min   \n",
       "\n",
       "     duration listed_in                                        description  \n",
       "5541   74 min    Movies  Louis C.K. muses on religion, eternal love, gi...  \n",
       "5794   84 min    Movies  Emmy-winning comedy writer Louis C.K. brings h...  \n",
       "5813   66 min    Movies  The comic puts his trademark hilarious/thought...  "
      ]
     },
     "execution_count": 68,
     "metadata": {},
     "output_type": "execute_result"
    }
   ],
   "source": [
    "# Overwrite the rating and duration columns, rating values convert to  duration and check\n",
    "# Loc helps us Early accessing the columns by names\n",
    "netflix.loc[netflix[\"director\"]== \"Louis C.K.\", \"duration\"]= netflix[\"rating\"]\n",
    "netflix[netflix[\"director\"]==\"Louis C.K.\"]"
   ]
  },
  {
   "cell_type": "code",
   "execution_count": 69,
   "id": "fc1c8036",
   "metadata": {},
   "outputs": [
    {
     "data": {
      "text/html": [
       "<div>\n",
       "<style scoped>\n",
       "    .dataframe tbody tr th:only-of-type {\n",
       "        vertical-align: middle;\n",
       "    }\n",
       "\n",
       "    .dataframe tbody tr th {\n",
       "        vertical-align: top;\n",
       "    }\n",
       "\n",
       "    .dataframe thead th {\n",
       "        text-align: right;\n",
       "    }\n",
       "</style>\n",
       "<table border=\"1\" class=\"dataframe\">\n",
       "  <thead>\n",
       "    <tr style=\"text-align: right;\">\n",
       "      <th></th>\n",
       "      <th>show_id</th>\n",
       "      <th>type</th>\n",
       "      <th>title</th>\n",
       "      <th>director</th>\n",
       "      <th>cast</th>\n",
       "      <th>country</th>\n",
       "      <th>date_added</th>\n",
       "      <th>release_year</th>\n",
       "      <th>rating</th>\n",
       "      <th>duration</th>\n",
       "      <th>listed_in</th>\n",
       "      <th>description</th>\n",
       "    </tr>\n",
       "  </thead>\n",
       "  <tbody>\n",
       "    <tr>\n",
       "      <th>5541</th>\n",
       "      <td>5542</td>\n",
       "      <td>Movie</td>\n",
       "      <td>Louis C.K. 2017</td>\n",
       "      <td>Louis C.K.</td>\n",
       "      <td>Louis C.K.</td>\n",
       "      <td>United States</td>\n",
       "      <td>April 4, 2017</td>\n",
       "      <td>2017</td>\n",
       "      <td>Unknown</td>\n",
       "      <td>74 min</td>\n",
       "      <td>Movies</td>\n",
       "      <td>Louis C.K. muses on religion, eternal love, gi...</td>\n",
       "    </tr>\n",
       "    <tr>\n",
       "      <th>5794</th>\n",
       "      <td>5795</td>\n",
       "      <td>Movie</td>\n",
       "      <td>Louis C.K.: Hilarious</td>\n",
       "      <td>Louis C.K.</td>\n",
       "      <td>Louis C.K.</td>\n",
       "      <td>United States</td>\n",
       "      <td>September 16, 2016</td>\n",
       "      <td>2010</td>\n",
       "      <td>Unknown</td>\n",
       "      <td>84 min</td>\n",
       "      <td>Movies</td>\n",
       "      <td>Emmy-winning comedy writer Louis C.K. brings h...</td>\n",
       "    </tr>\n",
       "    <tr>\n",
       "      <th>5813</th>\n",
       "      <td>5814</td>\n",
       "      <td>Movie</td>\n",
       "      <td>Louis C.K.: Live at the Comedy Store</td>\n",
       "      <td>Louis C.K.</td>\n",
       "      <td>Louis C.K.</td>\n",
       "      <td>United States</td>\n",
       "      <td>August 15, 2016</td>\n",
       "      <td>2015</td>\n",
       "      <td>Unknown</td>\n",
       "      <td>66 min</td>\n",
       "      <td>Movies</td>\n",
       "      <td>The comic puts his trademark hilarious/thought...</td>\n",
       "    </tr>\n",
       "  </tbody>\n",
       "</table>\n",
       "</div>"
      ],
      "text/plain": [
       "     show_id   type                                 title    director  \\\n",
       "5541    5542  Movie                       Louis C.K. 2017  Louis C.K.   \n",
       "5794    5795  Movie                 Louis C.K.: Hilarious  Louis C.K.   \n",
       "5813    5814  Movie  Louis C.K.: Live at the Comedy Store  Louis C.K.   \n",
       "\n",
       "            cast        country          date_added  release_year   rating  \\\n",
       "5541  Louis C.K.  United States       April 4, 2017          2017  Unknown   \n",
       "5794  Louis C.K.  United States  September 16, 2016          2010  Unknown   \n",
       "5813  Louis C.K.  United States     August 15, 2016          2015  Unknown   \n",
       "\n",
       "     duration listed_in                                        description  \n",
       "5541   74 min    Movies  Louis C.K. muses on religion, eternal love, gi...  \n",
       "5794   84 min    Movies  Emmy-winning comedy writer Louis C.K. brings h...  \n",
       "5813   66 min    Movies  The comic puts his trademark hilarious/thought...  "
      ]
     },
     "execution_count": 69,
     "metadata": {},
     "output_type": "execute_result"
    }
   ],
   "source": [
    "# Second Overwrite and check \n",
    "netflix.loc[netflix[\"director\"]==\"Louis C.K.\", \"rating\"] = \"Unknown\"\n",
    "netflix[netflix[\"director\"]==\"Louis C.K.\"]"
   ]
  },
  {
   "cell_type": "markdown",
   "id": "1d2a2b1a",
   "metadata": {},
   "source": [
    "# Exploratory Data Analysis (EDA) with Visualisations"
   ]
  },
  {
   "cell_type": "code",
   "execution_count": 70,
   "id": "b688c580",
   "metadata": {},
   "outputs": [
    {
     "data": {
      "text/html": [
       "<div>\n",
       "<style scoped>\n",
       "    .dataframe tbody tr th:only-of-type {\n",
       "        vertical-align: middle;\n",
       "    }\n",
       "\n",
       "    .dataframe tbody tr th {\n",
       "        vertical-align: top;\n",
       "    }\n",
       "\n",
       "    .dataframe thead th {\n",
       "        text-align: right;\n",
       "    }\n",
       "</style>\n",
       "<table border=\"1\" class=\"dataframe\">\n",
       "  <thead>\n",
       "    <tr style=\"text-align: right;\">\n",
       "      <th></th>\n",
       "      <th>show_id</th>\n",
       "      <th>type</th>\n",
       "      <th>title</th>\n",
       "      <th>director</th>\n",
       "      <th>cast</th>\n",
       "      <th>country</th>\n",
       "      <th>date_added</th>\n",
       "      <th>release_year</th>\n",
       "      <th>rating</th>\n",
       "      <th>duration</th>\n",
       "      <th>listed_in</th>\n",
       "      <th>description</th>\n",
       "    </tr>\n",
       "  </thead>\n",
       "  <tbody>\n",
       "    <tr>\n",
       "      <th>0</th>\n",
       "      <td>1</td>\n",
       "      <td>Movie</td>\n",
       "      <td>Dick Johnson Is Dead</td>\n",
       "      <td>Kirsten Johnson</td>\n",
       "      <td>No Cast</td>\n",
       "      <td>United States</td>\n",
       "      <td>September 25, 2021</td>\n",
       "      <td>2020</td>\n",
       "      <td>PG-13</td>\n",
       "      <td>90 min</td>\n",
       "      <td>Documentaries</td>\n",
       "      <td>As her father nears the end of his life, filmm...</td>\n",
       "    </tr>\n",
       "    <tr>\n",
       "      <th>1</th>\n",
       "      <td>2</td>\n",
       "      <td>TV Show</td>\n",
       "      <td>Blood &amp; Water</td>\n",
       "      <td>No Director</td>\n",
       "      <td>Ama Qamata, Khosi Ngema, Gail Mabalane, Thaban...</td>\n",
       "      <td>South Africa</td>\n",
       "      <td>September 24, 2021</td>\n",
       "      <td>2021</td>\n",
       "      <td>TV-MA</td>\n",
       "      <td>2 Seasons</td>\n",
       "      <td>International TV Shows, TV Dramas, TV Mysteries</td>\n",
       "      <td>After crossing paths at a party, a Cape Town t...</td>\n",
       "    </tr>\n",
       "    <tr>\n",
       "      <th>2</th>\n",
       "      <td>3</td>\n",
       "      <td>TV Show</td>\n",
       "      <td>Ganglands</td>\n",
       "      <td>Julien Leclercq</td>\n",
       "      <td>Sami Bouajila, Tracy Gotoas, Samuel Jouy, Nabi...</td>\n",
       "      <td>UnKnown</td>\n",
       "      <td>September 24, 2021</td>\n",
       "      <td>2021</td>\n",
       "      <td>TV-MA</td>\n",
       "      <td>1 Season</td>\n",
       "      <td>Crime TV Shows, International TV Shows, TV Act...</td>\n",
       "      <td>To protect his family from a powerful drug lor...</td>\n",
       "    </tr>\n",
       "  </tbody>\n",
       "</table>\n",
       "</div>"
      ],
      "text/plain": [
       "  show_id     type                 title         director  \\\n",
       "0       1    Movie  Dick Johnson Is Dead  Kirsten Johnson   \n",
       "1       2  TV Show         Blood & Water      No Director   \n",
       "2       3  TV Show             Ganglands  Julien Leclercq   \n",
       "\n",
       "                                                cast        country  \\\n",
       "0                                            No Cast  United States   \n",
       "1  Ama Qamata, Khosi Ngema, Gail Mabalane, Thaban...   South Africa   \n",
       "2  Sami Bouajila, Tracy Gotoas, Samuel Jouy, Nabi...        UnKnown   \n",
       "\n",
       "           date_added  release_year rating   duration  \\\n",
       "0  September 25, 2021          2020  PG-13     90 min   \n",
       "1  September 24, 2021          2021  TV-MA  2 Seasons   \n",
       "2  September 24, 2021          2021  TV-MA   1 Season   \n",
       "\n",
       "                                           listed_in  \\\n",
       "0                                      Documentaries   \n",
       "1    International TV Shows, TV Dramas, TV Mysteries   \n",
       "2  Crime TV Shows, International TV Shows, TV Act...   \n",
       "\n",
       "                                         description  \n",
       "0  As her father nears the end of his life, filmm...  \n",
       "1  After crossing paths at a party, a Cape Town t...  \n",
       "2  To protect his family from a powerful drug lor...  "
      ]
     },
     "execution_count": 70,
     "metadata": {},
     "output_type": "execute_result"
    }
   ],
   "source": [
    "# first three rows of the dataframe\n",
    "netflix.head(3)"
   ]
  },
  {
   "cell_type": "code",
   "execution_count": 139,
   "id": "59c0dcaf",
   "metadata": {},
   "outputs": [
    {
     "data": {
      "text/html": [
       "<div>\n",
       "<style scoped>\n",
       "    .dataframe tbody tr th:only-of-type {\n",
       "        vertical-align: middle;\n",
       "    }\n",
       "\n",
       "    .dataframe tbody tr th {\n",
       "        vertical-align: top;\n",
       "    }\n",
       "\n",
       "    .dataframe thead th {\n",
       "        text-align: right;\n",
       "    }\n",
       "</style>\n",
       "<table border=\"1\" class=\"dataframe\">\n",
       "  <thead>\n",
       "    <tr style=\"text-align: right;\">\n",
       "      <th></th>\n",
       "      <th>show_id</th>\n",
       "      <th>type</th>\n",
       "      <th>title</th>\n",
       "      <th>director</th>\n",
       "      <th>cast</th>\n",
       "      <th>country</th>\n",
       "      <th>date_added</th>\n",
       "      <th>release_year</th>\n",
       "      <th>rating</th>\n",
       "      <th>duration</th>\n",
       "      <th>Genre</th>\n",
       "      <th>description</th>\n",
       "    </tr>\n",
       "  </thead>\n",
       "  <tbody>\n",
       "    <tr>\n",
       "      <th>8804</th>\n",
       "      <td>8805</td>\n",
       "      <td>Movie</td>\n",
       "      <td>Zombieland</td>\n",
       "      <td>Ruben Fleischer</td>\n",
       "      <td>Jesse Eisenberg, Woody Harrelson, Emma Stone, ...</td>\n",
       "      <td>United States</td>\n",
       "      <td>11/01/2019</td>\n",
       "      <td>2009</td>\n",
       "      <td>R</td>\n",
       "      <td>88 min</td>\n",
       "      <td>Comedies, Horror Movies</td>\n",
       "      <td>Looking to survive in a world taken over by zo...</td>\n",
       "    </tr>\n",
       "    <tr>\n",
       "      <th>8805</th>\n",
       "      <td>8806</td>\n",
       "      <td>Movie</td>\n",
       "      <td>Zoom</td>\n",
       "      <td>Peter Hewitt</td>\n",
       "      <td>Tim Allen, Courteney Cox, Chevy Chase, Kate Ma...</td>\n",
       "      <td>United States</td>\n",
       "      <td>01/11/2020</td>\n",
       "      <td>2006</td>\n",
       "      <td>PG</td>\n",
       "      <td>88 min</td>\n",
       "      <td>Children &amp; Family Movies, Comedies</td>\n",
       "      <td>Dragged from civilian life, a former superhero...</td>\n",
       "    </tr>\n",
       "    <tr>\n",
       "      <th>8806</th>\n",
       "      <td>8807</td>\n",
       "      <td>Movie</td>\n",
       "      <td>Zubaan</td>\n",
       "      <td>Mozez Singh</td>\n",
       "      <td>Vicky Kaushal, Sarah-Jane Dias, Raaghav Chanan...</td>\n",
       "      <td>India</td>\n",
       "      <td>03/02/2019</td>\n",
       "      <td>2015</td>\n",
       "      <td>TV-14</td>\n",
       "      <td>111 min</td>\n",
       "      <td>Dramas, International Movies, Music &amp; Musicals</td>\n",
       "      <td>A scrappy but poor boy worms his way into a ty...</td>\n",
       "    </tr>\n",
       "  </tbody>\n",
       "</table>\n",
       "</div>"
      ],
      "text/plain": [
       "     show_id   type       title         director  \\\n",
       "8804    8805  Movie  Zombieland  Ruben Fleischer   \n",
       "8805    8806  Movie        Zoom     Peter Hewitt   \n",
       "8806    8807  Movie      Zubaan      Mozez Singh   \n",
       "\n",
       "                                                   cast        country  \\\n",
       "8804  Jesse Eisenberg, Woody Harrelson, Emma Stone, ...  United States   \n",
       "8805  Tim Allen, Courteney Cox, Chevy Chase, Kate Ma...  United States   \n",
       "8806  Vicky Kaushal, Sarah-Jane Dias, Raaghav Chanan...          India   \n",
       "\n",
       "      date_added  release_year rating duration  \\\n",
       "8804  11/01/2019          2009      R   88 min   \n",
       "8805  01/11/2020          2006     PG   88 min   \n",
       "8806  03/02/2019          2015  TV-14  111 min   \n",
       "\n",
       "                                               Genre  \\\n",
       "8804                         Comedies, Horror Movies   \n",
       "8805              Children & Family Movies, Comedies   \n",
       "8806  Dramas, International Movies, Music & Musicals   \n",
       "\n",
       "                                            description  \n",
       "8804  Looking to survive in a world taken over by zo...  \n",
       "8805  Dragged from civilian life, a former superhero...  \n",
       "8806  A scrappy but poor boy worms his way into a ty...  "
      ]
     },
     "execution_count": 139,
     "metadata": {},
     "output_type": "execute_result"
    }
   ],
   "source": [
    "# last three rows of the dataframe\n",
    "netflix.tail(3)"
   ]
  },
  {
   "cell_type": "code",
   "execution_count": 194,
   "id": "f37ee3f3",
   "metadata": {},
   "outputs": [
    {
     "name": "stdout",
     "output_type": "stream",
     "text": [
      "<class 'pandas.core.frame.DataFrame'>\n",
      "Index: 8807 entries, 0 to 8806\n",
      "Data columns (total 12 columns):\n",
      " #   Column        Non-Null Count  Dtype \n",
      "---  ------        --------------  ----- \n",
      " 0   show_id       8807 non-null   object\n",
      " 1   type          8807 non-null   object\n",
      " 2   title         8807 non-null   object\n",
      " 3   director      8807 non-null   object\n",
      " 4   cast          8807 non-null   object\n",
      " 5   country       8807 non-null   object\n",
      " 6   date_added    8807 non-null   object\n",
      " 7   release_year  8807 non-null   int64 \n",
      " 8   rating        8807 non-null   object\n",
      " 9   duration      8807 non-null   object\n",
      " 10  Genre         8807 non-null   object\n",
      " 11  description   8807 non-null   object\n",
      "dtypes: int64(1), object(11)\n",
      "memory usage: 1.1+ MB\n"
     ]
    }
   ],
   "source": [
    "# extract: total entries (rows) & columns, column names, no. of non-null and data types in columns and memory\n",
    "netflix.info()"
   ]
  },
  {
   "cell_type": "code",
   "execution_count": 164,
   "id": "24a9e53f",
   "metadata": {},
   "outputs": [
    {
     "data": {
      "text/plain": [
       "(8807, 12)"
      ]
     },
     "execution_count": 164,
     "metadata": {},
     "output_type": "execute_result"
    }
   ],
   "source": [
    "#no. of rows and columns\n",
    "netflix.shape"
   ]
  },
  {
   "cell_type": "code",
   "execution_count": 165,
   "id": "30bece6a",
   "metadata": {},
   "outputs": [
    {
     "data": {
      "text/plain": [
       "Index(['show_id', 'type', 'title', 'director', 'cast', 'country', 'date_added',\n",
       "       'release_year', 'rating', 'duration', 'Genre', 'description'],\n",
       "      dtype='object')"
      ]
     },
     "execution_count": 165,
     "metadata": {},
     "output_type": "execute_result"
    }
   ],
   "source": [
    "# columns in the dataframe\n",
    "netflix.columns"
   ]
  },
  {
   "cell_type": "code",
   "execution_count": 166,
   "id": "884622d9",
   "metadata": {},
   "outputs": [
    {
     "data": {
      "text/plain": [
       "show_id         0\n",
       "type            0\n",
       "title           0\n",
       "director        0\n",
       "cast            0\n",
       "country         0\n",
       "date_added      0\n",
       "release_year    0\n",
       "rating          0\n",
       "duration        0\n",
       "Genre           0\n",
       "description     0\n",
       "dtype: int64"
      ]
     },
     "execution_count": 166,
     "metadata": {},
     "output_type": "execute_result"
    }
   ],
   "source": [
    "# how many null values in the data set?\n",
    "netflix.isnull().sum()"
   ]
  },
  {
   "cell_type": "code",
   "execution_count": 169,
   "id": "0a3e8e24",
   "metadata": {},
   "outputs": [
    {
     "data": {
      "text/plain": [
       "show_id\n",
       "     8807\n",
       "Name: count, dtype: int64"
      ]
     },
     "execution_count": 169,
     "metadata": {},
     "output_type": "execute_result"
    }
   ],
   "source": [
    "# index into the first value in the show_id rows to check whether id values begin with 's'.\n",
    "netflix[\"show_id\"].str[0].value_counts()"
   ]
  },
  {
   "cell_type": "code",
   "execution_count": 171,
   "id": "c0643ffb",
   "metadata": {},
   "outputs": [
    {
     "data": {
      "text/plain": [
       "8807"
      ]
     },
     "execution_count": 171,
     "metadata": {},
     "output_type": "execute_result"
    }
   ],
   "source": [
    "# There are no missing values \n",
    "netflix[\"type\"].count()"
   ]
  },
  {
   "cell_type": "code",
   "execution_count": 172,
   "id": "eb0e73f0",
   "metadata": {},
   "outputs": [
    {
     "data": {
      "text/plain": [
       "array(['Movie', 'TV Show'], dtype=object)"
      ]
     },
     "execution_count": 172,
     "metadata": {},
     "output_type": "execute_result"
    }
   ],
   "source": [
    "# Index into column and show unique values \n",
    "netflix[\"type\"].unique()"
   ]
  },
  {
   "cell_type": "code",
   "execution_count": 173,
   "id": "0c2371e9",
   "metadata": {},
   "outputs": [
    {
     "data": {
      "text/plain": [
       "type\n",
       "Movie      6131\n",
       "TV Show    2676\n",
       "Name: count, dtype: int64"
      ]
     },
     "execution_count": 173,
     "metadata": {},
     "output_type": "execute_result"
    }
   ],
   "source": [
    "# Show the frequency of content types, i.e, ratio of movies to tv shows using value_counts\n",
    "# This also confirms there are no null values in this column\n",
    "netflix[\"type\"].value_counts()"
   ]
  },
  {
   "cell_type": "code",
   "execution_count": 176,
   "id": "69cc0183",
   "metadata": {},
   "outputs": [
    {
     "data": {
      "text/plain": [
       "69.62"
      ]
     },
     "execution_count": 176,
     "metadata": {},
     "output_type": "execute_result"
    }
   ],
   "source": [
    "# percentage of movies = no.of movies / length of df * 100. Values are then rounded \n",
    "percentage_movies  = round(len(netflix[netflix['type'] == 'Movie']) / len(netflix) *100, 2)\n",
    "percentage_movies"
   ]
  },
  {
   "cell_type": "code",
   "execution_count": null,
   "id": "b5dbea5c",
   "metadata": {},
   "outputs": [],
   "source": [
    "# 69.69% of the content type in the Netflix dataset are movies."
   ]
  },
  {
   "cell_type": "code",
   "execution_count": 178,
   "id": "418fb28b",
   "metadata": {},
   "outputs": [
    {
     "data": {
      "text/plain": [
       "8803"
      ]
     },
     "execution_count": 178,
     "metadata": {},
     "output_type": "execute_result"
    }
   ],
   "source": [
    "# There are 3 titles that are duplicated (8790-8787).\n",
    "netflix[\"title\"].nunique()"
   ]
  },
  {
   "cell_type": "code",
   "execution_count": 179,
   "id": "03004507",
   "metadata": {},
   "outputs": [
    {
     "data": {
      "text/plain": [
       "title\n",
       "Consequences                              2\n",
       "Feb-09                                    2\n",
       "22-Jul                                    2\n",
       "15-Aug                                    2\n",
       "Marco Polo: One Hundred Eyes              1\n",
       "                                         ..\n",
       "Captain Underpants Epic Choice-o-Rama     1\n",
       "We Bare Bears                             1\n",
       "To All the Boys: P.S. I Still Love You    1\n",
       "French Toast                              1\n",
       "Zubaan                                    1\n",
       "Name: count, Length: 8803, dtype: int64"
      ]
     },
     "execution_count": 179,
     "metadata": {},
     "output_type": "execute_result"
    }
   ],
   "source": [
    "# return the titles that are duplicates.\n",
    "netflix[\"title\"].value_counts()"
   ]
  },
  {
   "cell_type": "code",
   "execution_count": 180,
   "id": "a259ba60",
   "metadata": {},
   "outputs": [
    {
     "data": {
      "text/html": [
       "<div>\n",
       "<style scoped>\n",
       "    .dataframe tbody tr th:only-of-type {\n",
       "        vertical-align: middle;\n",
       "    }\n",
       "\n",
       "    .dataframe tbody tr th {\n",
       "        vertical-align: top;\n",
       "    }\n",
       "\n",
       "    .dataframe thead th {\n",
       "        text-align: right;\n",
       "    }\n",
       "</style>\n",
       "<table border=\"1\" class=\"dataframe\">\n",
       "  <thead>\n",
       "    <tr style=\"text-align: right;\">\n",
       "      <th></th>\n",
       "      <th>show_id</th>\n",
       "      <th>type</th>\n",
       "      <th>title</th>\n",
       "      <th>director</th>\n",
       "      <th>cast</th>\n",
       "      <th>country</th>\n",
       "      <th>date_added</th>\n",
       "      <th>release_year</th>\n",
       "      <th>rating</th>\n",
       "      <th>duration</th>\n",
       "      <th>Genre</th>\n",
       "      <th>description</th>\n",
       "    </tr>\n",
       "  </thead>\n",
       "  <tbody>\n",
       "    <tr>\n",
       "      <th>3996</th>\n",
       "      <td>3997</td>\n",
       "      <td>TV Show</td>\n",
       "      <td>Feb-09</td>\n",
       "      <td>No Director</td>\n",
       "      <td>Shahd El Yaseen, Shaila Sabt, Hala, Hanadi Al-...</td>\n",
       "      <td>UnKnown</td>\n",
       "      <td>03/20/2019</td>\n",
       "      <td>2018</td>\n",
       "      <td>TV-14</td>\n",
       "      <td>1 Season</td>\n",
       "      <td>International TV Shows, TV Dramas</td>\n",
       "      <td>As a psychology professor faces Alzheimer's, h...</td>\n",
       "    </tr>\n",
       "    <tr>\n",
       "      <th>5964</th>\n",
       "      <td>5965</td>\n",
       "      <td>TV Show</td>\n",
       "      <td>Feb-09</td>\n",
       "      <td>No Director</td>\n",
       "      <td>Shahd El Yaseen, Shaila Sabt, Hala, Hanadi Al-...</td>\n",
       "      <td>UnKnown</td>\n",
       "      <td>03/20/2019</td>\n",
       "      <td>2018</td>\n",
       "      <td>TV-14</td>\n",
       "      <td>1 Season</td>\n",
       "      <td>International TV Shows, TV Dramas</td>\n",
       "      <td>As a psychology professor faces Alzheimer's, h...</td>\n",
       "    </tr>\n",
       "  </tbody>\n",
       "</table>\n",
       "</div>"
      ],
      "text/plain": [
       "     show_id     type   title     director  \\\n",
       "3996    3997  TV Show  Feb-09  No Director   \n",
       "5964    5965  TV Show  Feb-09  No Director   \n",
       "\n",
       "                                                   cast  country  date_added  \\\n",
       "3996  Shahd El Yaseen, Shaila Sabt, Hala, Hanadi Al-...  UnKnown  03/20/2019   \n",
       "5964  Shahd El Yaseen, Shaila Sabt, Hala, Hanadi Al-...  UnKnown  03/20/2019   \n",
       "\n",
       "      release_year rating  duration                              Genre  \\\n",
       "3996          2018  TV-14  1 Season  International TV Shows, TV Dramas   \n",
       "5964          2018  TV-14  1 Season  International TV Shows, TV Dramas   \n",
       "\n",
       "                                            description  \n",
       "3996  As a psychology professor faces Alzheimer's, h...  \n",
       "5964  As a psychology professor faces Alzheimer's, h...  "
      ]
     },
     "execution_count": 180,
     "metadata": {},
     "output_type": "execute_result"
    }
   ],
   "source": [
    "# show the duplicate titles \n",
    "netflix[netflix[\"title\"]==\"Feb-09\"]"
   ]
  },
  {
   "cell_type": "code",
   "execution_count": 181,
   "id": "aef8366e",
   "metadata": {},
   "outputs": [
    {
     "data": {
      "text/html": [
       "<div>\n",
       "<style scoped>\n",
       "    .dataframe tbody tr th:only-of-type {\n",
       "        vertical-align: middle;\n",
       "    }\n",
       "\n",
       "    .dataframe tbody tr th {\n",
       "        vertical-align: top;\n",
       "    }\n",
       "\n",
       "    .dataframe thead th {\n",
       "        text-align: right;\n",
       "    }\n",
       "</style>\n",
       "<table border=\"1\" class=\"dataframe\">\n",
       "  <thead>\n",
       "    <tr style=\"text-align: right;\">\n",
       "      <th></th>\n",
       "      <th>show_id</th>\n",
       "      <th>type</th>\n",
       "      <th>title</th>\n",
       "      <th>director</th>\n",
       "      <th>cast</th>\n",
       "      <th>country</th>\n",
       "      <th>date_added</th>\n",
       "      <th>release_year</th>\n",
       "      <th>rating</th>\n",
       "      <th>duration</th>\n",
       "      <th>Genre</th>\n",
       "      <th>description</th>\n",
       "    </tr>\n",
       "  </thead>\n",
       "  <tbody>\n",
       "    <tr>\n",
       "      <th>4522</th>\n",
       "      <td>4523</td>\n",
       "      <td>Movie</td>\n",
       "      <td>22-Jul</td>\n",
       "      <td>Paul Greengrass</td>\n",
       "      <td>Anders Danielsen Lie, Jon Øigarden, Jonas Stra...</td>\n",
       "      <td>Norway, Iceland, United States</td>\n",
       "      <td>10/10/2018</td>\n",
       "      <td>2018</td>\n",
       "      <td>R</td>\n",
       "      <td>144 min</td>\n",
       "      <td>Dramas, Thrillers</td>\n",
       "      <td>After devastating terror attacks in Norway, a ...</td>\n",
       "    </tr>\n",
       "    <tr>\n",
       "      <th>5965</th>\n",
       "      <td>5966</td>\n",
       "      <td>Movie</td>\n",
       "      <td>22-Jul</td>\n",
       "      <td>Paul Greengrass</td>\n",
       "      <td>Anders Danielsen Lie, Jon Øigarden, Jonas Stra...</td>\n",
       "      <td>Norway, Iceland, United States</td>\n",
       "      <td>10/10/2018</td>\n",
       "      <td>2018</td>\n",
       "      <td>R</td>\n",
       "      <td>144 min</td>\n",
       "      <td>Dramas, Thrillers</td>\n",
       "      <td>After devastating terror attacks in Norway, a ...</td>\n",
       "    </tr>\n",
       "  </tbody>\n",
       "</table>\n",
       "</div>"
      ],
      "text/plain": [
       "     show_id   type   title         director  \\\n",
       "4522    4523  Movie  22-Jul  Paul Greengrass   \n",
       "5965    5966  Movie  22-Jul  Paul Greengrass   \n",
       "\n",
       "                                                   cast  \\\n",
       "4522  Anders Danielsen Lie, Jon Øigarden, Jonas Stra...   \n",
       "5965  Anders Danielsen Lie, Jon Øigarden, Jonas Stra...   \n",
       "\n",
       "                             country  date_added  release_year rating  \\\n",
       "4522  Norway, Iceland, United States  10/10/2018          2018      R   \n",
       "5965  Norway, Iceland, United States  10/10/2018          2018      R   \n",
       "\n",
       "     duration              Genre  \\\n",
       "4522  144 min  Dramas, Thrillers   \n",
       "5965  144 min  Dramas, Thrillers   \n",
       "\n",
       "                                            description  \n",
       "4522  After devastating terror attacks in Norway, a ...  \n",
       "5965  After devastating terror attacks in Norway, a ...  "
      ]
     },
     "execution_count": 181,
     "metadata": {},
     "output_type": "execute_result"
    }
   ],
   "source": [
    "# show the duplicate titles \n",
    "netflix[netflix[\"title\"]==\"22-Jul\"]"
   ]
  },
  {
   "cell_type": "code",
   "execution_count": 182,
   "id": "e934db79",
   "metadata": {},
   "outputs": [
    {
     "data": {
      "text/html": [
       "<div>\n",
       "<style scoped>\n",
       "    .dataframe tbody tr th:only-of-type {\n",
       "        vertical-align: middle;\n",
       "    }\n",
       "\n",
       "    .dataframe tbody tr th {\n",
       "        vertical-align: top;\n",
       "    }\n",
       "\n",
       "    .dataframe thead th {\n",
       "        text-align: right;\n",
       "    }\n",
       "</style>\n",
       "<table border=\"1\" class=\"dataframe\">\n",
       "  <thead>\n",
       "    <tr style=\"text-align: right;\">\n",
       "      <th></th>\n",
       "      <th>show_id</th>\n",
       "      <th>type</th>\n",
       "      <th>title</th>\n",
       "      <th>director</th>\n",
       "      <th>cast</th>\n",
       "      <th>country</th>\n",
       "      <th>date_added</th>\n",
       "      <th>release_year</th>\n",
       "      <th>rating</th>\n",
       "      <th>duration</th>\n",
       "      <th>Genre</th>\n",
       "      <th>description</th>\n",
       "    </tr>\n",
       "  </thead>\n",
       "  <tbody>\n",
       "    <tr>\n",
       "      <th>3962</th>\n",
       "      <td>3963</td>\n",
       "      <td>Movie</td>\n",
       "      <td>15-Aug</td>\n",
       "      <td>Swapnaneel Jayakar</td>\n",
       "      <td>Rahul Pethe, Mrunmayee Deshpande, Adinath Koth...</td>\n",
       "      <td>India</td>\n",
       "      <td>03/29/2019</td>\n",
       "      <td>2019</td>\n",
       "      <td>TV-14</td>\n",
       "      <td>124 min</td>\n",
       "      <td>Comedies, Dramas, Independent Movies</td>\n",
       "      <td>On India's Independence Day, a zany mishap in ...</td>\n",
       "    </tr>\n",
       "    <tr>\n",
       "      <th>5966</th>\n",
       "      <td>5967</td>\n",
       "      <td>Movie</td>\n",
       "      <td>15-Aug</td>\n",
       "      <td>Swapnaneel Jayakar</td>\n",
       "      <td>Rahul Pethe, Mrunmayee Deshpande, Adinath Koth...</td>\n",
       "      <td>India</td>\n",
       "      <td>03/29/2019</td>\n",
       "      <td>2019</td>\n",
       "      <td>TV-14</td>\n",
       "      <td>124 min</td>\n",
       "      <td>Comedies, Dramas, Independent Movies</td>\n",
       "      <td>On India's Independence Day, a zany mishap in ...</td>\n",
       "    </tr>\n",
       "  </tbody>\n",
       "</table>\n",
       "</div>"
      ],
      "text/plain": [
       "     show_id   type   title            director  \\\n",
       "3962    3963  Movie  15-Aug  Swapnaneel Jayakar   \n",
       "5966    5967  Movie  15-Aug  Swapnaneel Jayakar   \n",
       "\n",
       "                                                   cast country  date_added  \\\n",
       "3962  Rahul Pethe, Mrunmayee Deshpande, Adinath Koth...   India  03/29/2019   \n",
       "5966  Rahul Pethe, Mrunmayee Deshpande, Adinath Koth...   India  03/29/2019   \n",
       "\n",
       "      release_year rating duration                                 Genre  \\\n",
       "3962          2019  TV-14  124 min  Comedies, Dramas, Independent Movies   \n",
       "5966          2019  TV-14  124 min  Comedies, Dramas, Independent Movies   \n",
       "\n",
       "                                            description  \n",
       "3962  On India's Independence Day, a zany mishap in ...  \n",
       "5966  On India's Independence Day, a zany mishap in ...  "
      ]
     },
     "execution_count": 182,
     "metadata": {},
     "output_type": "execute_result"
    }
   ],
   "source": [
    "# show the duplicate titles\n",
    "* Duplicate titles will need to be removed\n",
    "netflix[netflix[\"title\"]==\"15-Aug\"]"
   ]
  },
  {
   "cell_type": "code",
   "execution_count": 185,
   "id": "ce94d9aa",
   "metadata": {},
   "outputs": [
    {
     "data": {
      "text/plain": [
       "8807"
      ]
     },
     "execution_count": 185,
     "metadata": {},
     "output_type": "execute_result"
    }
   ],
   "source": [
    "# 'director' column\n",
    "netflix['director'].count()"
   ]
  },
  {
   "cell_type": "code",
   "execution_count": 186,
   "id": "0deb1d18",
   "metadata": {},
   "outputs": [
    {
     "data": {
      "text/plain": [
       "4529"
      ]
     },
     "execution_count": 186,
     "metadata": {},
     "output_type": "execute_result"
    }
   ],
   "source": [
    "# No. of unique directors in the dataset\n",
    "netflix['director'].nunique()\n"
   ]
  },
  {
   "cell_type": "code",
   "execution_count": 187,
   "id": "2276719d",
   "metadata": {},
   "outputs": [
    {
     "data": {
      "text/plain": [
       "director\n",
       "No Director                       2634\n",
       "Rajiv Chilaka                       19\n",
       "Raúl Campos, Jan Suter              18\n",
       "Suhas Kadav                         16\n",
       "Marcus Raboy                        16\n",
       "                                  ... \n",
       "Raymie Muzquiz, Stu Livingston       1\n",
       "Joe Menendez                         1\n",
       "Eric Bross                           1\n",
       "Will Eisenberg                       1\n",
       "Mozez Singh                          1\n",
       "Name: count, Length: 4529, dtype: int64"
      ]
     },
     "execution_count": 187,
     "metadata": {},
     "output_type": "execute_result"
    }
   ],
   "source": [
    "# Rajiv Chilaka directed the highest number of content (either movies or tv shows)\n",
    "netflix[\"director\"].value_counts()"
   ]
  },
  {
   "cell_type": "code",
   "execution_count": 198,
   "id": "c99fec45",
   "metadata": {},
   "outputs": [
    {
     "data": {
      "text/html": [
       "<div>\n",
       "<style scoped>\n",
       "    .dataframe tbody tr th:only-of-type {\n",
       "        vertical-align: middle;\n",
       "    }\n",
       "\n",
       "    .dataframe tbody tr th {\n",
       "        vertical-align: top;\n",
       "    }\n",
       "\n",
       "    .dataframe thead th {\n",
       "        text-align: right;\n",
       "    }\n",
       "</style>\n",
       "<table border=\"1\" class=\"dataframe\">\n",
       "  <thead>\n",
       "    <tr style=\"text-align: right;\">\n",
       "      <th></th>\n",
       "      <th>show_id</th>\n",
       "      <th>type</th>\n",
       "      <th>title</th>\n",
       "      <th>director</th>\n",
       "      <th>cast</th>\n",
       "      <th>country</th>\n",
       "      <th>date_added</th>\n",
       "      <th>release_year</th>\n",
       "      <th>rating</th>\n",
       "      <th>duration</th>\n",
       "      <th>Genre</th>\n",
       "      <th>description</th>\n",
       "    </tr>\n",
       "  </thead>\n",
       "  <tbody>\n",
       "    <tr>\n",
       "      <th>406</th>\n",
       "      <td>407</td>\n",
       "      <td>Movie</td>\n",
       "      <td>Chhota Bheem - Neeli Pahaadi</td>\n",
       "      <td>Rajiv Chilaka</td>\n",
       "      <td>Vatsal Dubey, Julie Tejwani, Rupa Bhimani, Jig...</td>\n",
       "      <td>UnKnown</td>\n",
       "      <td>07/22/2021</td>\n",
       "      <td>2013</td>\n",
       "      <td>TV-Y7</td>\n",
       "      <td>64 min</td>\n",
       "      <td>Children &amp; Family Movies</td>\n",
       "      <td>Things get spooky when Bheem and his buddies t...</td>\n",
       "    </tr>\n",
       "    <tr>\n",
       "      <th>407</th>\n",
       "      <td>408</td>\n",
       "      <td>Movie</td>\n",
       "      <td>Chhota Bheem &amp; Ganesh</td>\n",
       "      <td>Rajiv Chilaka</td>\n",
       "      <td>Vatsal Dubey, Julie Tejwani, Rupa Bhimani, Jig...</td>\n",
       "      <td>UnKnown</td>\n",
       "      <td>07/22/2021</td>\n",
       "      <td>2009</td>\n",
       "      <td>TV-Y7</td>\n",
       "      <td>68 min</td>\n",
       "      <td>Children &amp; Family Movies</td>\n",
       "      <td>Bheem and Lord Ganesha join forces to save Dho...</td>\n",
       "    </tr>\n",
       "    <tr>\n",
       "      <th>408</th>\n",
       "      <td>409</td>\n",
       "      <td>Movie</td>\n",
       "      <td>Chhota Bheem &amp; Krishna: Mayanagari</td>\n",
       "      <td>Rajiv Chilaka</td>\n",
       "      <td>Vatsal Dubey, Julie Tejwani, Rupa Bhimani, Jig...</td>\n",
       "      <td>UnKnown</td>\n",
       "      <td>07/22/2021</td>\n",
       "      <td>2011</td>\n",
       "      <td>TV-Y7</td>\n",
       "      <td>67 min</td>\n",
       "      <td>Children &amp; Family Movies</td>\n",
       "      <td>Young lord Krishna has fallen for demoness Maa...</td>\n",
       "    </tr>\n",
       "    <tr>\n",
       "      <th>409</th>\n",
       "      <td>410</td>\n",
       "      <td>Movie</td>\n",
       "      <td>Chhota Bheem &amp; Krishna: Pataliputra- City of t...</td>\n",
       "      <td>Rajiv Chilaka</td>\n",
       "      <td>Vatsal Dubey, Julie Tejwani, Rupa Bhimani, Jig...</td>\n",
       "      <td>UnKnown</td>\n",
       "      <td>07/22/2021</td>\n",
       "      <td>2010</td>\n",
       "      <td>TV-Y7</td>\n",
       "      <td>66 min</td>\n",
       "      <td>Children &amp; Family Movies</td>\n",
       "      <td>Krishna needs Bheem’s help: The ruined city of...</td>\n",
       "    </tr>\n",
       "    <tr>\n",
       "      <th>410</th>\n",
       "      <td>411</td>\n",
       "      <td>Movie</td>\n",
       "      <td>Chhota Bheem And The Broken Amulet</td>\n",
       "      <td>Rajiv Chilaka</td>\n",
       "      <td>Vatsal Dubey, Julie Tejwani, Rupa Bhimani, Jig...</td>\n",
       "      <td>India</td>\n",
       "      <td>07/22/2021</td>\n",
       "      <td>2013</td>\n",
       "      <td>TV-Y7</td>\n",
       "      <td>64 min</td>\n",
       "      <td>Children &amp; Family Movies</td>\n",
       "      <td>When a stranger tries to steal an amulet from ...</td>\n",
       "    </tr>\n",
       "  </tbody>\n",
       "</table>\n",
       "</div>"
      ],
      "text/plain": [
       "    show_id   type                                              title  \\\n",
       "406     407  Movie                       Chhota Bheem - Neeli Pahaadi   \n",
       "407     408  Movie                              Chhota Bheem & Ganesh   \n",
       "408     409  Movie                 Chhota Bheem & Krishna: Mayanagari   \n",
       "409     410  Movie  Chhota Bheem & Krishna: Pataliputra- City of t...   \n",
       "410     411  Movie                 Chhota Bheem And The Broken Amulet   \n",
       "\n",
       "          director                                               cast  \\\n",
       "406  Rajiv Chilaka  Vatsal Dubey, Julie Tejwani, Rupa Bhimani, Jig...   \n",
       "407  Rajiv Chilaka  Vatsal Dubey, Julie Tejwani, Rupa Bhimani, Jig...   \n",
       "408  Rajiv Chilaka  Vatsal Dubey, Julie Tejwani, Rupa Bhimani, Jig...   \n",
       "409  Rajiv Chilaka  Vatsal Dubey, Julie Tejwani, Rupa Bhimani, Jig...   \n",
       "410  Rajiv Chilaka  Vatsal Dubey, Julie Tejwani, Rupa Bhimani, Jig...   \n",
       "\n",
       "     country  date_added  release_year rating duration  \\\n",
       "406  UnKnown  07/22/2021          2013  TV-Y7   64 min   \n",
       "407  UnKnown  07/22/2021          2009  TV-Y7   68 min   \n",
       "408  UnKnown  07/22/2021          2011  TV-Y7   67 min   \n",
       "409  UnKnown  07/22/2021          2010  TV-Y7   66 min   \n",
       "410    India  07/22/2021          2013  TV-Y7   64 min   \n",
       "\n",
       "                        Genre  \\\n",
       "406  Children & Family Movies   \n",
       "407  Children & Family Movies   \n",
       "408  Children & Family Movies   \n",
       "409  Children & Family Movies   \n",
       "410  Children & Family Movies   \n",
       "\n",
       "                                           description  \n",
       "406  Things get spooky when Bheem and his buddies t...  \n",
       "407  Bheem and Lord Ganesha join forces to save Dho...  \n",
       "408  Young lord Krishna has fallen for demoness Maa...  \n",
       "409  Krishna needs Bheem’s help: The ruined city of...  \n",
       "410  When a stranger tries to steal an amulet from ...  "
      ]
     },
     "execution_count": 198,
     "metadata": {},
     "output_type": "execute_result"
    }
   ],
   "source": [
    "# show first 5 movies directed by Rajiv Chilaka. \n",
    "netflix[netflix[\"director\"]==\"Rajiv Chilaka\"].head(5)"
   ]
  },
  {
   "cell_type": "code",
   "execution_count": 200,
   "id": "c25ce14b",
   "metadata": {},
   "outputs": [
    {
     "data": {
      "text/html": [
       "<div>\n",
       "<style scoped>\n",
       "    .dataframe tbody tr th:only-of-type {\n",
       "        vertical-align: middle;\n",
       "    }\n",
       "\n",
       "    .dataframe tbody tr th {\n",
       "        vertical-align: top;\n",
       "    }\n",
       "\n",
       "    .dataframe thead th {\n",
       "        text-align: right;\n",
       "    }\n",
       "</style>\n",
       "<table border=\"1\" class=\"dataframe\">\n",
       "  <thead>\n",
       "    <tr style=\"text-align: right;\">\n",
       "      <th></th>\n",
       "      <th>show_id</th>\n",
       "      <th>type</th>\n",
       "      <th>title</th>\n",
       "      <th>director</th>\n",
       "      <th>cast</th>\n",
       "      <th>country</th>\n",
       "      <th>date_added</th>\n",
       "      <th>release_year</th>\n",
       "      <th>rating</th>\n",
       "      <th>duration</th>\n",
       "      <th>Genre</th>\n",
       "      <th>description</th>\n",
       "    </tr>\n",
       "  </thead>\n",
       "  <tbody>\n",
       "    <tr>\n",
       "      <th>1</th>\n",
       "      <td>2</td>\n",
       "      <td>TV Show</td>\n",
       "      <td>Blood &amp; Water</td>\n",
       "      <td>No Director</td>\n",
       "      <td>Ama Qamata, Khosi Ngema, Gail Mabalane, Thaban...</td>\n",
       "      <td>South Africa</td>\n",
       "      <td>09/24/2021</td>\n",
       "      <td>2021</td>\n",
       "      <td>TV-MA</td>\n",
       "      <td>2 Seasons</td>\n",
       "      <td>International TV Shows, TV Dramas, TV Mysteries</td>\n",
       "      <td>After crossing paths at a party, a Cape Town t...</td>\n",
       "    </tr>\n",
       "    <tr>\n",
       "      <th>3</th>\n",
       "      <td>4</td>\n",
       "      <td>TV Show</td>\n",
       "      <td>Jailbirds New Orleans</td>\n",
       "      <td>No Director</td>\n",
       "      <td>No Cast</td>\n",
       "      <td>UnKnown</td>\n",
       "      <td>09/24/2021</td>\n",
       "      <td>2021</td>\n",
       "      <td>TV-MA</td>\n",
       "      <td>1 Season</td>\n",
       "      <td>Docuseries, Reality TV</td>\n",
       "      <td>Feuds, flirtations and toilet talk go down amo...</td>\n",
       "    </tr>\n",
       "    <tr>\n",
       "      <th>4</th>\n",
       "      <td>5</td>\n",
       "      <td>TV Show</td>\n",
       "      <td>Kota Factory</td>\n",
       "      <td>No Director</td>\n",
       "      <td>Mayur More, Jitendra Kumar, Ranjan Raj, Alam K...</td>\n",
       "      <td>India</td>\n",
       "      <td>09/24/2021</td>\n",
       "      <td>2021</td>\n",
       "      <td>TV-MA</td>\n",
       "      <td>2 Seasons</td>\n",
       "      <td>International TV Shows, Romantic TV Shows, TV ...</td>\n",
       "      <td>In a city of coaching centers known to train I...</td>\n",
       "    </tr>\n",
       "    <tr>\n",
       "      <th>10</th>\n",
       "      <td>11</td>\n",
       "      <td>TV Show</td>\n",
       "      <td>Vendetta: Truth, Lies and The Mafia</td>\n",
       "      <td>No Director</td>\n",
       "      <td>No Cast</td>\n",
       "      <td>UnKnown</td>\n",
       "      <td>09/24/2021</td>\n",
       "      <td>2021</td>\n",
       "      <td>TV-MA</td>\n",
       "      <td>1 Season</td>\n",
       "      <td>Crime TV Shows, Docuseries, International TV S...</td>\n",
       "      <td>Sicily boasts a bold \"Anti-Mafia\" coalition. B...</td>\n",
       "    </tr>\n",
       "    <tr>\n",
       "      <th>14</th>\n",
       "      <td>15</td>\n",
       "      <td>TV Show</td>\n",
       "      <td>Crime Stories: India Detectives</td>\n",
       "      <td>No Director</td>\n",
       "      <td>No Cast</td>\n",
       "      <td>UnKnown</td>\n",
       "      <td>09/22/2021</td>\n",
       "      <td>2021</td>\n",
       "      <td>TV-MA</td>\n",
       "      <td>1 Season</td>\n",
       "      <td>British TV Shows, Crime TV Shows, Docuseries</td>\n",
       "      <td>Cameras following Bengaluru police on the job ...</td>\n",
       "    </tr>\n",
       "    <tr>\n",
       "      <th>...</th>\n",
       "      <td>...</td>\n",
       "      <td>...</td>\n",
       "      <td>...</td>\n",
       "      <td>...</td>\n",
       "      <td>...</td>\n",
       "      <td>...</td>\n",
       "      <td>...</td>\n",
       "      <td>...</td>\n",
       "      <td>...</td>\n",
       "      <td>...</td>\n",
       "      <td>...</td>\n",
       "      <td>...</td>\n",
       "    </tr>\n",
       "    <tr>\n",
       "      <th>8795</th>\n",
       "      <td>8796</td>\n",
       "      <td>TV Show</td>\n",
       "      <td>Yu-Gi-Oh! Arc-V</td>\n",
       "      <td>No Director</td>\n",
       "      <td>Mike Liscio, Emily Bauer, Billy Bob Thompson, ...</td>\n",
       "      <td>Japan, Canada</td>\n",
       "      <td>05/01/2018</td>\n",
       "      <td>2015</td>\n",
       "      <td>TV-Y7</td>\n",
       "      <td>2 Seasons</td>\n",
       "      <td>Anime Series, Kids' TV</td>\n",
       "      <td>Now that he's discovered the Pendulum Summonin...</td>\n",
       "    </tr>\n",
       "    <tr>\n",
       "      <th>8796</th>\n",
       "      <td>8797</td>\n",
       "      <td>TV Show</td>\n",
       "      <td>Yunus Emre</td>\n",
       "      <td>No Director</td>\n",
       "      <td>Gökhan Atalay, Payidar Tüfekçioglu, Baran Akbu...</td>\n",
       "      <td>Turkey</td>\n",
       "      <td>01/17/2017</td>\n",
       "      <td>2016</td>\n",
       "      <td>TV-PG</td>\n",
       "      <td>2 Seasons</td>\n",
       "      <td>International TV Shows, TV Dramas</td>\n",
       "      <td>During the Mongol invasions, Yunus Emre leaves...</td>\n",
       "    </tr>\n",
       "    <tr>\n",
       "      <th>8797</th>\n",
       "      <td>8798</td>\n",
       "      <td>TV Show</td>\n",
       "      <td>Zak Storm</td>\n",
       "      <td>No Director</td>\n",
       "      <td>Michael Johnston, Jessica Gee-George, Christin...</td>\n",
       "      <td>United States, France, South Korea, Indonesia</td>\n",
       "      <td>09/13/2018</td>\n",
       "      <td>2016</td>\n",
       "      <td>TV-Y7</td>\n",
       "      <td>3 Seasons</td>\n",
       "      <td>Kids' TV</td>\n",
       "      <td>Teen surfer Zak Storm is mysteriously transpor...</td>\n",
       "    </tr>\n",
       "    <tr>\n",
       "      <th>8800</th>\n",
       "      <td>8801</td>\n",
       "      <td>TV Show</td>\n",
       "      <td>Zindagi Gulzar Hai</td>\n",
       "      <td>No Director</td>\n",
       "      <td>Sanam Saeed, Fawad Khan, Ayesha Omer, Mehreen ...</td>\n",
       "      <td>Pakistan</td>\n",
       "      <td>12/15/2016</td>\n",
       "      <td>2012</td>\n",
       "      <td>TV-PG</td>\n",
       "      <td>1 Season</td>\n",
       "      <td>International TV Shows, Romantic TV Shows, TV ...</td>\n",
       "      <td>Strong-willed, middle-class Kashaf and carefre...</td>\n",
       "    </tr>\n",
       "    <tr>\n",
       "      <th>8803</th>\n",
       "      <td>8804</td>\n",
       "      <td>TV Show</td>\n",
       "      <td>Zombie Dumb</td>\n",
       "      <td>No Director</td>\n",
       "      <td>No Cast</td>\n",
       "      <td>UnKnown</td>\n",
       "      <td>07/01/2019</td>\n",
       "      <td>2018</td>\n",
       "      <td>TV-Y7</td>\n",
       "      <td>2 Seasons</td>\n",
       "      <td>Kids' TV, Korean TV Shows, TV Comedies</td>\n",
       "      <td>While living alone in a spooky town, a young g...</td>\n",
       "    </tr>\n",
       "  </tbody>\n",
       "</table>\n",
       "<p>2634 rows × 12 columns</p>\n",
       "</div>"
      ],
      "text/plain": [
       "     show_id     type                                title     director  \\\n",
       "1          2  TV Show                        Blood & Water  No Director   \n",
       "3          4  TV Show                Jailbirds New Orleans  No Director   \n",
       "4          5  TV Show                         Kota Factory  No Director   \n",
       "10        11  TV Show  Vendetta: Truth, Lies and The Mafia  No Director   \n",
       "14        15  TV Show      Crime Stories: India Detectives  No Director   \n",
       "...      ...      ...                                  ...          ...   \n",
       "8795    8796  TV Show                      Yu-Gi-Oh! Arc-V  No Director   \n",
       "8796    8797  TV Show                           Yunus Emre  No Director   \n",
       "8797    8798  TV Show                            Zak Storm  No Director   \n",
       "8800    8801  TV Show                   Zindagi Gulzar Hai  No Director   \n",
       "8803    8804  TV Show                          Zombie Dumb  No Director   \n",
       "\n",
       "                                                   cast  \\\n",
       "1     Ama Qamata, Khosi Ngema, Gail Mabalane, Thaban...   \n",
       "3                                               No Cast   \n",
       "4     Mayur More, Jitendra Kumar, Ranjan Raj, Alam K...   \n",
       "10                                              No Cast   \n",
       "14                                              No Cast   \n",
       "...                                                 ...   \n",
       "8795  Mike Liscio, Emily Bauer, Billy Bob Thompson, ...   \n",
       "8796  Gökhan Atalay, Payidar Tüfekçioglu, Baran Akbu...   \n",
       "8797  Michael Johnston, Jessica Gee-George, Christin...   \n",
       "8800  Sanam Saeed, Fawad Khan, Ayesha Omer, Mehreen ...   \n",
       "8803                                            No Cast   \n",
       "\n",
       "                                            country  date_added  release_year  \\\n",
       "1                                      South Africa  09/24/2021          2021   \n",
       "3                                           UnKnown  09/24/2021          2021   \n",
       "4                                             India  09/24/2021          2021   \n",
       "10                                          UnKnown  09/24/2021          2021   \n",
       "14                                          UnKnown  09/22/2021          2021   \n",
       "...                                             ...         ...           ...   \n",
       "8795                                  Japan, Canada  05/01/2018          2015   \n",
       "8796                                         Turkey  01/17/2017          2016   \n",
       "8797  United States, France, South Korea, Indonesia  09/13/2018          2016   \n",
       "8800                                       Pakistan  12/15/2016          2012   \n",
       "8803                                        UnKnown  07/01/2019          2018   \n",
       "\n",
       "     rating   duration                                              Genre  \\\n",
       "1     TV-MA  2 Seasons    International TV Shows, TV Dramas, TV Mysteries   \n",
       "3     TV-MA   1 Season                             Docuseries, Reality TV   \n",
       "4     TV-MA  2 Seasons  International TV Shows, Romantic TV Shows, TV ...   \n",
       "10    TV-MA   1 Season  Crime TV Shows, Docuseries, International TV S...   \n",
       "14    TV-MA   1 Season       British TV Shows, Crime TV Shows, Docuseries   \n",
       "...     ...        ...                                                ...   \n",
       "8795  TV-Y7  2 Seasons                             Anime Series, Kids' TV   \n",
       "8796  TV-PG  2 Seasons                  International TV Shows, TV Dramas   \n",
       "8797  TV-Y7  3 Seasons                                           Kids' TV   \n",
       "8800  TV-PG   1 Season  International TV Shows, Romantic TV Shows, TV ...   \n",
       "8803  TV-Y7  2 Seasons             Kids' TV, Korean TV Shows, TV Comedies   \n",
       "\n",
       "                                            description  \n",
       "1     After crossing paths at a party, a Cape Town t...  \n",
       "3     Feuds, flirtations and toilet talk go down amo...  \n",
       "4     In a city of coaching centers known to train I...  \n",
       "10    Sicily boasts a bold \"Anti-Mafia\" coalition. B...  \n",
       "14    Cameras following Bengaluru police on the job ...  \n",
       "...                                                 ...  \n",
       "8795  Now that he's discovered the Pendulum Summonin...  \n",
       "8796  During the Mongol invasions, Yunus Emre leaves...  \n",
       "8797  Teen surfer Zak Storm is mysteriously transpor...  \n",
       "8800  Strong-willed, middle-class Kashaf and carefre...  \n",
       "8803  While living alone in a spooky town, a young g...  \n",
       "\n",
       "[2634 rows x 12 columns]"
      ]
     },
     "execution_count": 200,
     "metadata": {},
     "output_type": "execute_result"
    }
   ],
   "source": [
    "# show the rows with missing directors.\n",
    "netflix[netflix[\"director\"]==\"No Director\"]"
   ]
  },
  {
   "cell_type": "code",
   "execution_count": 202,
   "id": "8d6fcaa2",
   "metadata": {},
   "outputs": [
    {
     "data": {
      "text/plain": [
       "29.91"
      ]
     },
     "execution_count": 202,
     "metadata": {},
     "output_type": "execute_result"
    }
   ],
   "source": [
    "# Calculate missing directors\n",
    "percentage_directors= round(len(netflix[netflix[\"director\"]==\"No Director\"])/len (netflix)*100,2)\n",
    "percentage_directors"
   ]
  },
  {
   "cell_type": "code",
   "execution_count": 10,
   "id": "4dec7f16",
   "metadata": {},
   "outputs": [
    {
     "data": {
      "text/plain": [
       "7976"
      ]
     },
     "execution_count": 10,
     "metadata": {},
     "output_type": "execute_result"
    }
   ],
   "source": [
    "# Count method does not indicate any missing values, therefore use value_counts.\n",
    "netflix['country'].count()"
   ]
  },
  {
   "cell_type": "code",
   "execution_count": 26,
   "id": "b5eddee2",
   "metadata": {},
   "outputs": [
    {
     "data": {
      "text/plain": [
       "country\n",
       "United States     2818\n",
       "India              972\n",
       "United Kingdom     419\n",
       "Japan              245\n",
       "South Korea        199\n",
       "Canada             181\n",
       "Spain              145\n",
       "France             124\n",
       "Mexico             110\n",
       "Egypt              106\n",
       "Name: count, dtype: int64"
      ]
     },
     "execution_count": 26,
     "metadata": {},
     "output_type": "execute_result"
    }
   ],
   "source": [
    "# Majority of the content was produced in the USA (2818), followed by India (972) and UK (419).\n",
    "netflix['country'].value_counts().head(10)"
   ]
  },
  {
   "cell_type": "code",
   "execution_count": 28,
   "id": "e506b2d3",
   "metadata": {},
   "outputs": [
    {
     "data": {
      "text/plain": [
       "748"
      ]
     },
     "execution_count": 28,
     "metadata": {},
     "output_type": "execute_result"
    }
   ],
   "source": [
    "# data is based on 748 different countries\n",
    "netflix[\"country\"].nunique()"
   ]
  },
  {
   "cell_type": "code",
   "execution_count": 38,
   "id": "ac376253",
   "metadata": {},
   "outputs": [
    {
     "data": {
      "text/html": [
       "<div>\n",
       "<style scoped>\n",
       "    .dataframe tbody tr th:only-of-type {\n",
       "        vertical-align: middle;\n",
       "    }\n",
       "\n",
       "    .dataframe tbody tr th {\n",
       "        vertical-align: top;\n",
       "    }\n",
       "\n",
       "    .dataframe thead th {\n",
       "        text-align: right;\n",
       "    }\n",
       "</style>\n",
       "<table border=\"1\" class=\"dataframe\">\n",
       "  <thead>\n",
       "    <tr style=\"text-align: right;\">\n",
       "      <th></th>\n",
       "      <th>date_added</th>\n",
       "    </tr>\n",
       "  </thead>\n",
       "  <tbody>\n",
       "    <tr>\n",
       "      <th>0</th>\n",
       "      <td>September 25, 2021</td>\n",
       "    </tr>\n",
       "    <tr>\n",
       "      <th>1</th>\n",
       "      <td>September 24, 2021</td>\n",
       "    </tr>\n",
       "    <tr>\n",
       "      <th>2</th>\n",
       "      <td>September 24, 2021</td>\n",
       "    </tr>\n",
       "    <tr>\n",
       "      <th>3</th>\n",
       "      <td>September 24, 2021</td>\n",
       "    </tr>\n",
       "    <tr>\n",
       "      <th>4</th>\n",
       "      <td>September 24, 2021</td>\n",
       "    </tr>\n",
       "    <tr>\n",
       "      <th>5</th>\n",
       "      <td>September 24, 2021</td>\n",
       "    </tr>\n",
       "    <tr>\n",
       "      <th>6</th>\n",
       "      <td>September 24, 2021</td>\n",
       "    </tr>\n",
       "    <tr>\n",
       "      <th>7</th>\n",
       "      <td>September 24, 2021</td>\n",
       "    </tr>\n",
       "    <tr>\n",
       "      <th>8</th>\n",
       "      <td>September 24, 2021</td>\n",
       "    </tr>\n",
       "    <tr>\n",
       "      <th>9</th>\n",
       "      <td>September 24, 2021</td>\n",
       "    </tr>\n",
       "  </tbody>\n",
       "</table>\n",
       "</div>"
      ],
      "text/plain": [
       "           date_added\n",
       "0  September 25, 2021\n",
       "1  September 24, 2021\n",
       "2  September 24, 2021\n",
       "3  September 24, 2021\n",
       "4  September 24, 2021\n",
       "5  September 24, 2021\n",
       "6  September 24, 2021\n",
       "7  September 24, 2021\n",
       "8  September 24, 2021\n",
       "9  September 24, 2021"
      ]
     },
     "execution_count": 38,
     "metadata": {},
     "output_type": "execute_result"
    }
   ],
   "source": [
    "# date_added' column\n",
    "netflix[['date_added']].head(10)"
   ]
  },
  {
   "cell_type": "code",
   "execution_count": 65,
   "id": "133b912d",
   "metadata": {},
   "outputs": [
    {
     "data": {
      "text/plain": [
       "0   2021-09-25\n",
       "1   2021-09-24\n",
       "2   2021-09-24\n",
       "3   2021-09-24\n",
       "4   2021-09-24\n",
       "Name: date_added, dtype: datetime64[ns]"
      ]
     },
     "execution_count": 65,
     "metadata": {},
     "output_type": "execute_result"
    }
   ],
   "source": [
    "# convert the column to datetime and show first 5 rows.\n",
    "date_format = \"%B %d, %Y\"\n",
    "netflix[\"date_addeddate_added\"]= pd.to_datetime(netflix[\"date_added\"], format=date_format, errors='coerce')\n",
    "netflix[\"date_added\"].head()"
   ]
  },
  {
   "cell_type": "code",
   "execution_count": 66,
   "id": "f81ff9a9",
   "metadata": {},
   "outputs": [
    {
     "data": {
      "text/html": [
       "<div>\n",
       "<style scoped>\n",
       "    .dataframe tbody tr th:only-of-type {\n",
       "        vertical-align: middle;\n",
       "    }\n",
       "\n",
       "    .dataframe tbody tr th {\n",
       "        vertical-align: top;\n",
       "    }\n",
       "\n",
       "    .dataframe thead th {\n",
       "        text-align: right;\n",
       "    }\n",
       "</style>\n",
       "<table border=\"1\" class=\"dataframe\">\n",
       "  <thead>\n",
       "    <tr style=\"text-align: right;\">\n",
       "      <th></th>\n",
       "      <th>date_added</th>\n",
       "    </tr>\n",
       "  </thead>\n",
       "  <tbody>\n",
       "    <tr>\n",
       "      <th>count</th>\n",
       "      <td>8710</td>\n",
       "    </tr>\n",
       "    <tr>\n",
       "      <th>mean</th>\n",
       "      <td>2019-05-23 04:06:30.172216064</td>\n",
       "    </tr>\n",
       "    <tr>\n",
       "      <th>min</th>\n",
       "      <td>2008-01-01 00:00:00</td>\n",
       "    </tr>\n",
       "    <tr>\n",
       "      <th>25%</th>\n",
       "      <td>2018-04-20 00:00:00</td>\n",
       "    </tr>\n",
       "    <tr>\n",
       "      <th>50%</th>\n",
       "      <td>2019-07-12 00:00:00</td>\n",
       "    </tr>\n",
       "    <tr>\n",
       "      <th>75%</th>\n",
       "      <td>2020-08-26 00:00:00</td>\n",
       "    </tr>\n",
       "    <tr>\n",
       "      <th>max</th>\n",
       "      <td>2021-09-25 00:00:00</td>\n",
       "    </tr>\n",
       "  </tbody>\n",
       "</table>\n",
       "</div>"
      ],
      "text/plain": [
       "                          date_added\n",
       "count                           8710\n",
       "mean   2019-05-23 04:06:30.172216064\n",
       "min              2008-01-01 00:00:00\n",
       "25%              2018-04-20 00:00:00\n",
       "50%              2019-07-12 00:00:00\n",
       "75%              2020-08-26 00:00:00\n",
       "max              2021-09-25 00:00:00"
      ]
     },
     "execution_count": 66,
     "metadata": {},
     "output_type": "execute_result"
    }
   ],
   "source": [
    "# Now that the column has been converted, we can perform descriptive statistics.\n",
    "netflix[['date_added']].describe()\n"
   ]
  },
  {
   "cell_type": "markdown",
   "id": "66f7c5e3",
   "metadata": {},
   "source": [
    "# 'release_year' column"
   ]
  },
  {
   "cell_type": "code",
   "execution_count": 67,
   "id": "d05cffa0",
   "metadata": {},
   "outputs": [
    {
     "data": {
      "text/plain": [
       "release_year\n",
       "2018    1147\n",
       "2017    1032\n",
       "2019    1030\n",
       "2020     954\n",
       "2016     902\n",
       "2021     592\n",
       "2015     560\n",
       "2014     352\n",
       "2013     288\n",
       "2012     237\n",
       "Name: count, dtype: int64"
      ]
     },
     "execution_count": 67,
     "metadata": {},
     "output_type": "execute_result"
    }
   ],
   "source": [
    "# Top 10 release years\n",
    "netflix[\"release_year\"].value_counts().head(10)"
   ]
  },
  {
   "cell_type": "code",
   "execution_count": 71,
   "id": "c8d2af36",
   "metadata": {},
   "outputs": [
    {
     "data": {
      "text/html": [
       "<div>\n",
       "<style scoped>\n",
       "    .dataframe tbody tr th:only-of-type {\n",
       "        vertical-align: middle;\n",
       "    }\n",
       "\n",
       "    .dataframe tbody tr th {\n",
       "        vertical-align: top;\n",
       "    }\n",
       "\n",
       "    .dataframe thead th {\n",
       "        text-align: right;\n",
       "    }\n",
       "</style>\n",
       "<table border=\"1\" class=\"dataframe\">\n",
       "  <thead>\n",
       "    <tr style=\"text-align: right;\">\n",
       "      <th></th>\n",
       "      <th>release_year</th>\n",
       "    </tr>\n",
       "  </thead>\n",
       "  <tbody>\n",
       "    <tr>\n",
       "      <th>count</th>\n",
       "      <td>8807.000000</td>\n",
       "    </tr>\n",
       "    <tr>\n",
       "      <th>mean</th>\n",
       "      <td>2014.180198</td>\n",
       "    </tr>\n",
       "    <tr>\n",
       "      <th>std</th>\n",
       "      <td>8.819312</td>\n",
       "    </tr>\n",
       "    <tr>\n",
       "      <th>min</th>\n",
       "      <td>1925.000000</td>\n",
       "    </tr>\n",
       "    <tr>\n",
       "      <th>25%</th>\n",
       "      <td>2013.000000</td>\n",
       "    </tr>\n",
       "    <tr>\n",
       "      <th>50%</th>\n",
       "      <td>2017.000000</td>\n",
       "    </tr>\n",
       "    <tr>\n",
       "      <th>75%</th>\n",
       "      <td>2019.000000</td>\n",
       "    </tr>\n",
       "    <tr>\n",
       "      <th>max</th>\n",
       "      <td>2021.000000</td>\n",
       "    </tr>\n",
       "  </tbody>\n",
       "</table>\n",
       "</div>"
      ],
      "text/plain": [
       "       release_year\n",
       "count   8807.000000\n",
       "mean    2014.180198\n",
       "std        8.819312\n",
       "min     1925.000000\n",
       "25%     2013.000000\n",
       "50%     2017.000000\n",
       "75%     2019.000000\n",
       "max     2021.000000"
      ]
     },
     "execution_count": 71,
     "metadata": {},
     "output_type": "execute_result"
    }
   ],
   "source": [
    "# As most of the data is non numerical, descriptive statistics for numerical data is limited\n",
    "netflix.describe()"
   ]
  },
  {
   "cell_type": "code",
   "execution_count": 72,
   "id": "2ccda547",
   "metadata": {},
   "outputs": [
    {
     "data": {
      "image/png": "[encoded data removed]",
      "text/plain": [
       "<Figure size 640x480 with 1 Axes>"
      ]
     },
     "metadata": {},
     "output_type": "display_data"
    }
   ],
   "source": [
    "# As we are dealiplt.figure(figsize=(10, 6))\n",
    "sns.boxplot(x=netflix['release_year'], width=0.5);\n",
    "plt.title('Distribution of Release Year')\n",
    "plt.show() \n"
   ]
  },
  {
   "cell_type": "markdown",
   "id": "a3beaf77",
   "metadata": {},
   "source": [
    "# 'rating' column"
   ]
  },
  {
   "cell_type": "code",
   "execution_count": 73,
   "id": "eaae9e59",
   "metadata": {},
   "outputs": [
    {
     "data": {
      "text/plain": [
       "8804"
      ]
     },
     "execution_count": 73,
     "metadata": {},
     "output_type": "execute_result"
    }
   ],
   "source": [
    "# There is no missing data\n",
    "netflix['rating'].count()"
   ]
  },
  {
   "cell_type": "code",
   "execution_count": 74,
   "id": "d3ebd510",
   "metadata": {},
   "outputs": [
    {
     "data": {
      "text/plain": [
       "17"
      ]
     },
     "execution_count": 74,
     "metadata": {},
     "output_type": "execute_result"
    }
   ],
   "source": [
    "# There are 14 unique ratings\n",
    "netflix['rating'].nunique()"
   ]
  },
  {
   "cell_type": "code",
   "execution_count": 75,
   "id": "a37076c9",
   "metadata": {},
   "outputs": [
    {
     "data": {
      "text/plain": [
       "rating\n",
       "TV-MA       3208\n",
       "TV-14       2160\n",
       "TV-PG        863\n",
       "R            799\n",
       "PG-13        490\n",
       "TV-Y7        334\n",
       "TV-Y         307\n",
       "PG           287\n",
       "TV-G         220\n",
       "NR            80\n",
       "G             41\n",
       "TV-Y7-FV       6\n",
       "NC-17          3\n",
       "UR             3\n",
       "74 min         1\n",
       "84 min         1\n",
       "66 min         1\n",
       "Name: count, dtype: int64"
      ]
     },
     "execution_count": 75,
     "metadata": {},
     "output_type": "execute_result"
    }
   ],
   "source": [
    "# Unique ratings \n",
    "netflix['rating'].value_counts()"
   ]
  },
  {
   "cell_type": "markdown",
   "id": "624981a3",
   "metadata": {},
   "source": [
    "# 'duration' column\n"
   ]
  },
  {
   "cell_type": "code",
   "execution_count": 78,
   "id": "cae811b6",
   "metadata": {},
   "outputs": [
    {
     "data": {
      "text/plain": [
       "8805"
      ]
     },
     "execution_count": 78,
     "metadata": {},
     "output_type": "execute_result"
    }
   ],
   "source": [
    "# There seems to be no missing data\n",
    "netflix['duration'].count()"
   ]
  },
  {
   "cell_type": "code",
   "execution_count": 79,
   "id": "5d82bd2e",
   "metadata": {},
   "outputs": [
    {
     "data": {
      "text/plain": [
       "duration\n",
       "1 Season     1793\n",
       "2 Seasons     425\n",
       "3 Seasons     199\n",
       "90 min        152\n",
       "94 min        146\n",
       "             ... \n",
       "16 min          1\n",
       "186 min         1\n",
       "193 min         1\n",
       "189 min         1\n",
       "191 min         1\n",
       "Name: count, Length: 220, dtype: int64"
      ]
     },
     "execution_count": 79,
     "metadata": {},
     "output_type": "execute_result"
    }
   ],
   "source": [
    "netflix[\"duration\"].value_counts()"
   ]
  },
  {
   "cell_type": "code",
   "execution_count": 89,
   "id": "404aaa72",
   "metadata": {},
   "outputs": [
    {
     "data": {
      "text/plain": [
       "0"
      ]
     },
     "execution_count": 89,
     "metadata": {},
     "output_type": "execute_result"
    }
   ],
   "source": [
    "netflix['duration'].isnull().sum()"
   ]
  },
  {
   "cell_type": "code",
   "execution_count": 90,
   "id": "c11f3635",
   "metadata": {},
   "outputs": [
    {
     "data": {
      "text/plain": [
       "duration\n",
       "1 Season     1793\n",
       "2 Seasons     425\n",
       "3 Seasons     199\n",
       "90 min        152\n",
       "94 min        146\n",
       "             ... \n",
       "16 min          1\n",
       "186 min         1\n",
       "193 min         1\n",
       "189 min         1\n",
       "191 min         1\n",
       "Name: count, Length: 220, dtype: int64"
      ]
     },
     "execution_count": 90,
     "metadata": {},
     "output_type": "execute_result"
    }
   ],
   "source": [
    "# There are 220 different durations in the dataset, 1 season occuring most frequently (1791).\n",
    "netflix['duration'].value_counts()\n"
   ]
  },
  {
   "cell_type": "code",
   "execution_count": 91,
   "id": "ca850cce",
   "metadata": {},
   "outputs": [
    {
     "data": {
      "text/plain": [
       "count         8808\n",
       "unique         220\n",
       "top       1 Season\n",
       "freq          1793\n",
       "Name: duration, dtype: object"
      ]
     },
     "execution_count": 91,
     "metadata": {},
     "output_type": "execute_result"
    }
   ],
   "source": [
    "netflix['duration'].describe()\n"
   ]
  },
  {
   "cell_type": "code",
   "execution_count": 102,
   "id": "9916e02b",
   "metadata": {},
   "outputs": [
    {
     "data": {
      "text/plain": [
       "'99 min'"
      ]
     },
     "execution_count": 102,
     "metadata": {},
     "output_type": "execute_result"
    }
   ],
   "source": [
    "# Longest movie is 99 minutes \n",
    "netflix[netflix['type'] == 'Movie']['duration'].max()"
   ]
  },
  {
   "cell_type": "code",
   "execution_count": 104,
   "id": "4f721d17",
   "metadata": {},
   "outputs": [
    {
     "data": {
      "text/html": [
       "<div>\n",
       "<style scoped>\n",
       "    .dataframe tbody tr th:only-of-type {\n",
       "        vertical-align: middle;\n",
       "    }\n",
       "\n",
       "    .dataframe tbody tr th {\n",
       "        vertical-align: top;\n",
       "    }\n",
       "\n",
       "    .dataframe thead th {\n",
       "        text-align: right;\n",
       "    }\n",
       "</style>\n",
       "<table border=\"1\" class=\"dataframe\">\n",
       "  <thead>\n",
       "    <tr style=\"text-align: right;\">\n",
       "      <th></th>\n",
       "      <th>show_id</th>\n",
       "      <th>type</th>\n",
       "      <th>title</th>\n",
       "      <th>director</th>\n",
       "      <th>cast</th>\n",
       "      <th>country</th>\n",
       "      <th>date_added</th>\n",
       "      <th>release_year</th>\n",
       "      <th>rating</th>\n",
       "      <th>duration</th>\n",
       "      <th>Genre</th>\n",
       "      <th>description</th>\n",
       "      <th>date_addeddate_added</th>\n",
       "    </tr>\n",
       "  </thead>\n",
       "  <tbody>\n",
       "    <tr>\n",
       "      <th>51</th>\n",
       "      <td>52</td>\n",
       "      <td>Movie</td>\n",
       "      <td>InuYasha the Movie 2: The Castle Beyond the Lo...</td>\n",
       "      <td>Toshiya Shinohara</td>\n",
       "      <td>Kappei Yamaguchi, Satsuki Yukino, Mieko Harada...</td>\n",
       "      <td>Japan</td>\n",
       "      <td>2021-09-15</td>\n",
       "      <td>2002</td>\n",
       "      <td>TV-14</td>\n",
       "      <td>99 min</td>\n",
       "      <td>Action &amp; Adventure, Anime Features, Internatio...</td>\n",
       "      <td>With their biggest foe seemingly defeated, Inu...</td>\n",
       "      <td>2021-09-15</td>\n",
       "    </tr>\n",
       "    <tr>\n",
       "      <th>52</th>\n",
       "      <td>53</td>\n",
       "      <td>Movie</td>\n",
       "      <td>InuYasha the Movie 3: Swords of an Honorable R...</td>\n",
       "      <td>Toshiya Shinohara</td>\n",
       "      <td>Kappei Yamaguchi, Satsuki Yukino, Koji Tsujita...</td>\n",
       "      <td>Japan</td>\n",
       "      <td>2021-09-15</td>\n",
       "      <td>2003</td>\n",
       "      <td>TV-14</td>\n",
       "      <td>99 min</td>\n",
       "      <td>Action &amp; Adventure, Anime Features, Internatio...</td>\n",
       "      <td>The Great Dog Demon beaqueathed one of the Thr...</td>\n",
       "      <td>2021-09-15</td>\n",
       "    </tr>\n",
       "    <tr>\n",
       "      <th>119</th>\n",
       "      <td>120</td>\n",
       "      <td>Movie</td>\n",
       "      <td>Here and There</td>\n",
       "      <td>JP Habac</td>\n",
       "      <td>Janine Gutierrez, JC Santos, Victor Anastacio,...</td>\n",
       "      <td>NaN</td>\n",
       "      <td>2021-09-02</td>\n",
       "      <td>2020</td>\n",
       "      <td>TV-MA</td>\n",
       "      <td>99 min</td>\n",
       "      <td>Dramas, International Movies, Romantic Movies</td>\n",
       "      <td>After meeting through a heated exchange on soc...</td>\n",
       "      <td>2021-09-02</td>\n",
       "    </tr>\n",
       "    <tr>\n",
       "      <th>337</th>\n",
       "      <td>338</td>\n",
       "      <td>Movie</td>\n",
       "      <td>Good Luck Chuck</td>\n",
       "      <td>Mark Helfrich</td>\n",
       "      <td>Dane Cook, Jessica Alba, Dan Fogler, Ellia Eng...</td>\n",
       "      <td>United States, Canada</td>\n",
       "      <td>2021-08-01</td>\n",
       "      <td>2007</td>\n",
       "      <td>R</td>\n",
       "      <td>99 min</td>\n",
       "      <td>Comedies, Romantic Movies</td>\n",
       "      <td>Every time Chuck breaks up with a girlfriend, ...</td>\n",
       "      <td>2021-08-01</td>\n",
       "    </tr>\n",
       "    <tr>\n",
       "      <th>344</th>\n",
       "      <td>345</td>\n",
       "      <td>Movie</td>\n",
       "      <td>My Girl 2</td>\n",
       "      <td>Howard Zieff</td>\n",
       "      <td>Anna Chlumsky, Austin O'Brien, Dan Aykroyd, Ja...</td>\n",
       "      <td>United States</td>\n",
       "      <td>2021-08-01</td>\n",
       "      <td>1994</td>\n",
       "      <td>PG</td>\n",
       "      <td>99 min</td>\n",
       "      <td>Children &amp; Family Movies, Comedies, Dramas</td>\n",
       "      <td>A teen makes surprising discoveries when she t...</td>\n",
       "      <td>2021-08-01</td>\n",
       "    </tr>\n",
       "  </tbody>\n",
       "</table>\n",
       "</div>"
      ],
      "text/plain": [
       "    show_id   type                                              title  \\\n",
       "51       52  Movie  InuYasha the Movie 2: The Castle Beyond the Lo...   \n",
       "52       53  Movie  InuYasha the Movie 3: Swords of an Honorable R...   \n",
       "119     120  Movie                                     Here and There   \n",
       "337     338  Movie                                    Good Luck Chuck   \n",
       "344     345  Movie                                          My Girl 2   \n",
       "\n",
       "              director                                               cast  \\\n",
       "51   Toshiya Shinohara  Kappei Yamaguchi, Satsuki Yukino, Mieko Harada...   \n",
       "52   Toshiya Shinohara  Kappei Yamaguchi, Satsuki Yukino, Koji Tsujita...   \n",
       "119           JP Habac  Janine Gutierrez, JC Santos, Victor Anastacio,...   \n",
       "337      Mark Helfrich  Dane Cook, Jessica Alba, Dan Fogler, Ellia Eng...   \n",
       "344       Howard Zieff  Anna Chlumsky, Austin O'Brien, Dan Aykroyd, Ja...   \n",
       "\n",
       "                   country date_added  release_year rating duration  \\\n",
       "51                   Japan 2021-09-15          2002  TV-14   99 min   \n",
       "52                   Japan 2021-09-15          2003  TV-14   99 min   \n",
       "119                    NaN 2021-09-02          2020  TV-MA   99 min   \n",
       "337  United States, Canada 2021-08-01          2007      R   99 min   \n",
       "344          United States 2021-08-01          1994     PG   99 min   \n",
       "\n",
       "                                                 Genre  \\\n",
       "51   Action & Adventure, Anime Features, Internatio...   \n",
       "52   Action & Adventure, Anime Features, Internatio...   \n",
       "119      Dramas, International Movies, Romantic Movies   \n",
       "337                          Comedies, Romantic Movies   \n",
       "344         Children & Family Movies, Comedies, Dramas   \n",
       "\n",
       "                                           description date_addeddate_added  \n",
       "51   With their biggest foe seemingly defeated, Inu...           2021-09-15  \n",
       "52   The Great Dog Demon beaqueathed one of the Thr...           2021-09-15  \n",
       "119  After meeting through a heated exchange on soc...           2021-09-02  \n",
       "337  Every time Chuck breaks up with a girlfriend, ...           2021-08-01  \n",
       "344  A teen makes surprising discoveries when she t...           2021-08-01  "
      ]
     },
     "execution_count": 104,
     "metadata": {},
     "output_type": "execute_result"
    }
   ],
   "source": [
    "# There are 118 movies that are 99 minutes long\n",
    "netflix[netflix['duration'] == '99 min'].head()"
   ]
  },
  {
   "cell_type": "code",
   "execution_count": 105,
   "id": "4146b056",
   "metadata": {},
   "outputs": [
    {
     "data": {
      "text/plain": [
       "'10 min'"
      ]
     },
     "execution_count": 105,
     "metadata": {},
     "output_type": "execute_result"
    }
   ],
   "source": [
    "# Shortest Movie is 10 min\n",
    "netflix[netflix['type'] == 'Movie']['duration'].min()"
   ]
  },
  {
   "cell_type": "code",
   "execution_count": 109,
   "id": "a632c5ca",
   "metadata": {},
   "outputs": [
    {
     "data": {
      "text/html": [
       "<div>\n",
       "<style scoped>\n",
       "    .dataframe tbody tr th:only-of-type {\n",
       "        vertical-align: middle;\n",
       "    }\n",
       "\n",
       "    .dataframe tbody tr th {\n",
       "        vertical-align: top;\n",
       "    }\n",
       "\n",
       "    .dataframe thead th {\n",
       "        text-align: right;\n",
       "    }\n",
       "</style>\n",
       "<table border=\"1\" class=\"dataframe\">\n",
       "  <thead>\n",
       "    <tr style=\"text-align: right;\">\n",
       "      <th></th>\n",
       "      <th>show_id</th>\n",
       "      <th>type</th>\n",
       "      <th>title</th>\n",
       "      <th>director</th>\n",
       "      <th>cast</th>\n",
       "      <th>country</th>\n",
       "      <th>date_added</th>\n",
       "      <th>release_year</th>\n",
       "      <th>rating</th>\n",
       "      <th>duration</th>\n",
       "      <th>Genre</th>\n",
       "      <th>description</th>\n",
       "      <th>date_addeddate_added</th>\n",
       "    </tr>\n",
       "  </thead>\n",
       "  <tbody>\n",
       "    <tr>\n",
       "      <th>3535</th>\n",
       "      <td>3536</td>\n",
       "      <td>Movie</td>\n",
       "      <td>American Factory: A Conversation with the Obamas</td>\n",
       "      <td>NaN</td>\n",
       "      <td>President Barack Obama, Michelle Obama, Julia ...</td>\n",
       "      <td>United States</td>\n",
       "      <td>2019-09-05</td>\n",
       "      <td>2019</td>\n",
       "      <td>TV-G</td>\n",
       "      <td>10 min</td>\n",
       "      <td>Documentaries</td>\n",
       "      <td>Barack and Michelle Obama talk with directors ...</td>\n",
       "      <td>2019-09-05</td>\n",
       "    </tr>\n",
       "  </tbody>\n",
       "</table>\n",
       "</div>"
      ],
      "text/plain": [
       "     show_id   type                                             title  \\\n",
       "3535    3536  Movie  American Factory: A Conversation with the Obamas   \n",
       "\n",
       "     director                                               cast  \\\n",
       "3535      NaN  President Barack Obama, Michelle Obama, Julia ...   \n",
       "\n",
       "            country date_added  release_year rating duration          Genre  \\\n",
       "3535  United States 2019-09-05          2019   TV-G   10 min  Documentaries   \n",
       "\n",
       "                                            description date_addeddate_added  \n",
       "3535  Barack and Michelle Obama talk with directors ...           2019-09-05  "
      ]
     },
     "execution_count": 109,
     "metadata": {},
     "output_type": "execute_result"
    }
   ],
   "source": [
    "# Shortest movie is listed as a documentary.\n",
    "netflix[netflix[\"duration\"]==\"10 min\"]"
   ]
  },
  {
   "cell_type": "code",
   "execution_count": 110,
   "id": "48a67fd2",
   "metadata": {},
   "outputs": [
    {
     "data": {
      "text/plain": [
       "'9 Seasons'"
      ]
     },
     "execution_count": 110,
     "metadata": {},
     "output_type": "execute_result"
    }
   ],
   "source": [
    "# Longest TV Show/s had 9 seasons \n",
    "netflix[netflix['type'] == 'TV Show']['duration'].max()\n"
   ]
  },
  {
   "cell_type": "code",
   "execution_count": 113,
   "id": "5c3170fe",
   "metadata": {},
   "outputs": [
    {
     "data": {
      "text/html": [
       "<div>\n",
       "<style scoped>\n",
       "    .dataframe tbody tr th:only-of-type {\n",
       "        vertical-align: middle;\n",
       "    }\n",
       "\n",
       "    .dataframe tbody tr th {\n",
       "        vertical-align: top;\n",
       "    }\n",
       "\n",
       "    .dataframe thead th {\n",
       "        text-align: right;\n",
       "    }\n",
       "</style>\n",
       "<table border=\"1\" class=\"dataframe\">\n",
       "  <thead>\n",
       "    <tr style=\"text-align: right;\">\n",
       "      <th></th>\n",
       "      <th>show_id</th>\n",
       "      <th>type</th>\n",
       "      <th>title</th>\n",
       "      <th>director</th>\n",
       "      <th>cast</th>\n",
       "      <th>country</th>\n",
       "      <th>date_added</th>\n",
       "      <th>release_year</th>\n",
       "      <th>rating</th>\n",
       "      <th>duration</th>\n",
       "      <th>Genre</th>\n",
       "      <th>description</th>\n",
       "      <th>date_addeddate_added</th>\n",
       "    </tr>\n",
       "  </thead>\n",
       "  <tbody>\n",
       "    <tr>\n",
       "      <th>8</th>\n",
       "      <td>9</td>\n",
       "      <td>TV Show</td>\n",
       "      <td>The Great British Baking Show</td>\n",
       "      <td>Andy Devonshire</td>\n",
       "      <td>Mel Giedroyc, Sue Perkins, Mary Berry, Paul Ho...</td>\n",
       "      <td>United Kingdom</td>\n",
       "      <td>2021-09-24</td>\n",
       "      <td>2021</td>\n",
       "      <td>TV-14</td>\n",
       "      <td>9 Seasons</td>\n",
       "      <td>British TV Shows, Reality TV</td>\n",
       "      <td>A talented batch of amateur bakers face off in...</td>\n",
       "      <td>2021-09-24</td>\n",
       "    </tr>\n",
       "    <tr>\n",
       "      <th>67</th>\n",
       "      <td>68</td>\n",
       "      <td>TV Show</td>\n",
       "      <td>Saved by the Bell</td>\n",
       "      <td>NaN</td>\n",
       "      <td>Mark-Paul Gosselaar, Tiffani Thiessen, Mario L...</td>\n",
       "      <td>United States</td>\n",
       "      <td>2021-09-15</td>\n",
       "      <td>1994</td>\n",
       "      <td>TV-PG</td>\n",
       "      <td>9 Seasons</td>\n",
       "      <td>Kids' TV, TV Comedies</td>\n",
       "      <td>From middle school to college, best friends Za...</td>\n",
       "      <td>2021-09-15</td>\n",
       "    </tr>\n",
       "    <tr>\n",
       "      <th>1480</th>\n",
       "      <td>1481</td>\n",
       "      <td>TV Show</td>\n",
       "      <td>Still Game</td>\n",
       "      <td>NaN</td>\n",
       "      <td>Ford Kiernan, Paul Riley, Jane McCarry, Greg H...</td>\n",
       "      <td>United Kingdom</td>\n",
       "      <td>2020-12-30</td>\n",
       "      <td>2018</td>\n",
       "      <td>TV-14</td>\n",
       "      <td>9 Seasons</td>\n",
       "      <td>British TV Shows, Classic &amp; Cult TV, Internati...</td>\n",
       "      <td>Scottish pensioners Jack and Victor make the m...</td>\n",
       "      <td>2020-12-30</td>\n",
       "    </tr>\n",
       "    <tr>\n",
       "      <th>1701</th>\n",
       "      <td>1702</td>\n",
       "      <td>TV Show</td>\n",
       "      <td>American Horror Story</td>\n",
       "      <td>NaN</td>\n",
       "      <td>Evan Peters, Sarah Paulson, Jessica Lange, Den...</td>\n",
       "      <td>United States</td>\n",
       "      <td>2020-11-13</td>\n",
       "      <td>2019</td>\n",
       "      <td>TV-MA</td>\n",
       "      <td>9 Seasons</td>\n",
       "      <td>TV Horror, TV Mysteries, TV Thrillers</td>\n",
       "      <td>This twisted Emmy-winning drama plays upon the...</td>\n",
       "      <td>2020-11-13</td>\n",
       "    </tr>\n",
       "    <tr>\n",
       "      <th>1998</th>\n",
       "      <td>1999</td>\n",
       "      <td>TV Show</td>\n",
       "      <td>Call the Midwife</td>\n",
       "      <td>Philippa Lowthorpe</td>\n",
       "      <td>Vanessa Redgrave, Bryony Hannah, Helen George,...</td>\n",
       "      <td>United Kingdom</td>\n",
       "      <td>2020-09-15</td>\n",
       "      <td>2020</td>\n",
       "      <td>TV-MA</td>\n",
       "      <td>9 Seasons</td>\n",
       "      <td>British TV Shows, International TV Shows, TV D...</td>\n",
       "      <td>This period drama set in impoverished East Lon...</td>\n",
       "      <td>2020-09-15</td>\n",
       "    </tr>\n",
       "  </tbody>\n",
       "</table>\n",
       "</div>"
      ],
      "text/plain": [
       "     show_id     type                          title            director  \\\n",
       "8          9  TV Show  The Great British Baking Show     Andy Devonshire   \n",
       "67        68  TV Show              Saved by the Bell                 NaN   \n",
       "1480    1481  TV Show                     Still Game                 NaN   \n",
       "1701    1702  TV Show          American Horror Story                 NaN   \n",
       "1998    1999  TV Show               Call the Midwife  Philippa Lowthorpe   \n",
       "\n",
       "                                                   cast         country  \\\n",
       "8     Mel Giedroyc, Sue Perkins, Mary Berry, Paul Ho...  United Kingdom   \n",
       "67    Mark-Paul Gosselaar, Tiffani Thiessen, Mario L...   United States   \n",
       "1480  Ford Kiernan, Paul Riley, Jane McCarry, Greg H...  United Kingdom   \n",
       "1701  Evan Peters, Sarah Paulson, Jessica Lange, Den...   United States   \n",
       "1998  Vanessa Redgrave, Bryony Hannah, Helen George,...  United Kingdom   \n",
       "\n",
       "     date_added  release_year rating   duration  \\\n",
       "8    2021-09-24          2021  TV-14  9 Seasons   \n",
       "67   2021-09-15          1994  TV-PG  9 Seasons   \n",
       "1480 2020-12-30          2018  TV-14  9 Seasons   \n",
       "1701 2020-11-13          2019  TV-MA  9 Seasons   \n",
       "1998 2020-09-15          2020  TV-MA  9 Seasons   \n",
       "\n",
       "                                                  Genre  \\\n",
       "8                          British TV Shows, Reality TV   \n",
       "67                                Kids' TV, TV Comedies   \n",
       "1480  British TV Shows, Classic & Cult TV, Internati...   \n",
       "1701              TV Horror, TV Mysteries, TV Thrillers   \n",
       "1998  British TV Shows, International TV Shows, TV D...   \n",
       "\n",
       "                                            description date_addeddate_added  \n",
       "8     A talented batch of amateur bakers face off in...           2021-09-24  \n",
       "67    From middle school to college, best friends Za...           2021-09-15  \n",
       "1480  Scottish pensioners Jack and Victor make the m...           2020-12-30  \n",
       "1701  This twisted Emmy-winning drama plays upon the...           2020-11-13  \n",
       "1998  This period drama set in impoverished East Lon...           2020-09-15  "
      ]
     },
     "execution_count": 113,
     "metadata": {},
     "output_type": "execute_result"
    }
   ],
   "source": [
    "# There are 9 TV Shows that are 9 seasons long, majority of which were produced in USA\n",
    "netflix[netflix[\"duration\"]== \"9 Seasons\"].head()"
   ]
  },
  {
   "cell_type": "code",
   "execution_count": 114,
   "id": "fdeb8460",
   "metadata": {},
   "outputs": [
    {
     "data": {
      "text/plain": [
       "'1 Season'"
      ]
     },
     "execution_count": 114,
     "metadata": {},
     "output_type": "execute_result"
    }
   ],
   "source": [
    "# Shortest TV Show had 1 season.\n",
    "netflix[netflix['type'] == 'TV Show']['duration'].min()\n"
   ]
  },
  {
   "cell_type": "code",
   "execution_count": 119,
   "id": "c0f1f3ab",
   "metadata": {},
   "outputs": [
    {
     "data": {
      "text/html": [
       "<div>\n",
       "<style scoped>\n",
       "    .dataframe tbody tr th:only-of-type {\n",
       "        vertical-align: middle;\n",
       "    }\n",
       "\n",
       "    .dataframe tbody tr th {\n",
       "        vertical-align: top;\n",
       "    }\n",
       "\n",
       "    .dataframe thead th {\n",
       "        text-align: right;\n",
       "    }\n",
       "</style>\n",
       "<table border=\"1\" class=\"dataframe\">\n",
       "  <thead>\n",
       "    <tr style=\"text-align: right;\">\n",
       "      <th></th>\n",
       "      <th>show_id</th>\n",
       "      <th>type</th>\n",
       "      <th>title</th>\n",
       "      <th>director</th>\n",
       "      <th>cast</th>\n",
       "      <th>country</th>\n",
       "      <th>date_added</th>\n",
       "      <th>release_year</th>\n",
       "      <th>rating</th>\n",
       "      <th>duration</th>\n",
       "      <th>Genre</th>\n",
       "      <th>description</th>\n",
       "      <th>date_addeddate_added</th>\n",
       "    </tr>\n",
       "  </thead>\n",
       "  <tbody>\n",
       "    <tr>\n",
       "      <th>2</th>\n",
       "      <td>3</td>\n",
       "      <td>TV Show</td>\n",
       "      <td>Ganglands</td>\n",
       "      <td>Julien Leclercq</td>\n",
       "      <td>Sami Bouajila, Tracy Gotoas, Samuel Jouy, Nabi...</td>\n",
       "      <td>NaN</td>\n",
       "      <td>2021-09-24</td>\n",
       "      <td>2021</td>\n",
       "      <td>TV-MA</td>\n",
       "      <td>1 Season</td>\n",
       "      <td>Crime TV Shows, International TV Shows, TV Act...</td>\n",
       "      <td>To protect his family from a powerful drug lor...</td>\n",
       "      <td>2021-09-24</td>\n",
       "    </tr>\n",
       "    <tr>\n",
       "      <th>3</th>\n",
       "      <td>4</td>\n",
       "      <td>TV Show</td>\n",
       "      <td>Jailbirds New Orleans</td>\n",
       "      <td>NaN</td>\n",
       "      <td>NaN</td>\n",
       "      <td>NaN</td>\n",
       "      <td>2021-09-24</td>\n",
       "      <td>2021</td>\n",
       "      <td>TV-MA</td>\n",
       "      <td>1 Season</td>\n",
       "      <td>Docuseries, Reality TV</td>\n",
       "      <td>Feuds, flirtations and toilet talk go down amo...</td>\n",
       "      <td>2021-09-24</td>\n",
       "    </tr>\n",
       "    <tr>\n",
       "      <th>5</th>\n",
       "      <td>6</td>\n",
       "      <td>TV Show</td>\n",
       "      <td>Midnight Mass</td>\n",
       "      <td>Mike Flanagan</td>\n",
       "      <td>Kate Siegel, Zach Gilford, Hamish Linklater, H...</td>\n",
       "      <td>NaN</td>\n",
       "      <td>2021-09-24</td>\n",
       "      <td>2021</td>\n",
       "      <td>TV-MA</td>\n",
       "      <td>1 Season</td>\n",
       "      <td>TV Dramas, TV Horror, TV Mysteries</td>\n",
       "      <td>The arrival of a charismatic young priest brin...</td>\n",
       "      <td>2021-09-24</td>\n",
       "    </tr>\n",
       "    <tr>\n",
       "      <th>10</th>\n",
       "      <td>11</td>\n",
       "      <td>TV Show</td>\n",
       "      <td>Vendetta: Truth, Lies and The Mafia</td>\n",
       "      <td>NaN</td>\n",
       "      <td>NaN</td>\n",
       "      <td>NaN</td>\n",
       "      <td>2021-09-24</td>\n",
       "      <td>2021</td>\n",
       "      <td>TV-MA</td>\n",
       "      <td>1 Season</td>\n",
       "      <td>Crime TV Shows, Docuseries, International TV S...</td>\n",
       "      <td>Sicily boasts a bold \"Anti-Mafia\" coalition. B...</td>\n",
       "      <td>2021-09-24</td>\n",
       "    </tr>\n",
       "    <tr>\n",
       "      <th>11</th>\n",
       "      <td>12</td>\n",
       "      <td>TV Show</td>\n",
       "      <td>Bangkok Breaking</td>\n",
       "      <td>Kongkiat Komesiri</td>\n",
       "      <td>Sukollawat Kanarot, Sushar Manaying, Pavarit M...</td>\n",
       "      <td>NaN</td>\n",
       "      <td>2021-09-23</td>\n",
       "      <td>2021</td>\n",
       "      <td>TV-MA</td>\n",
       "      <td>1 Season</td>\n",
       "      <td>Crime TV Shows, International TV Shows, TV Act...</td>\n",
       "      <td>Struggling to earn a living in Bangkok, a man ...</td>\n",
       "      <td>2021-09-23</td>\n",
       "    </tr>\n",
       "  </tbody>\n",
       "</table>\n",
       "</div>"
      ],
      "text/plain": [
       "   show_id     type                                title           director  \\\n",
       "2        3  TV Show                            Ganglands    Julien Leclercq   \n",
       "3        4  TV Show                Jailbirds New Orleans                NaN   \n",
       "5        6  TV Show                        Midnight Mass      Mike Flanagan   \n",
       "10      11  TV Show  Vendetta: Truth, Lies and The Mafia                NaN   \n",
       "11      12  TV Show                     Bangkok Breaking  Kongkiat Komesiri   \n",
       "\n",
       "                                                 cast country date_added  \\\n",
       "2   Sami Bouajila, Tracy Gotoas, Samuel Jouy, Nabi...     NaN 2021-09-24   \n",
       "3                                                 NaN     NaN 2021-09-24   \n",
       "5   Kate Siegel, Zach Gilford, Hamish Linklater, H...     NaN 2021-09-24   \n",
       "10                                                NaN     NaN 2021-09-24   \n",
       "11  Sukollawat Kanarot, Sushar Manaying, Pavarit M...     NaN 2021-09-23   \n",
       "\n",
       "    release_year rating  duration  \\\n",
       "2           2021  TV-MA  1 Season   \n",
       "3           2021  TV-MA  1 Season   \n",
       "5           2021  TV-MA  1 Season   \n",
       "10          2021  TV-MA  1 Season   \n",
       "11          2021  TV-MA  1 Season   \n",
       "\n",
       "                                                Genre  \\\n",
       "2   Crime TV Shows, International TV Shows, TV Act...   \n",
       "3                              Docuseries, Reality TV   \n",
       "5                  TV Dramas, TV Horror, TV Mysteries   \n",
       "10  Crime TV Shows, Docuseries, International TV S...   \n",
       "11  Crime TV Shows, International TV Shows, TV Act...   \n",
       "\n",
       "                                          description date_addeddate_added  \n",
       "2   To protect his family from a powerful drug lor...           2021-09-24  \n",
       "3   Feuds, flirtations and toilet talk go down amo...           2021-09-24  \n",
       "5   The arrival of a charismatic young priest brin...           2021-09-24  \n",
       "10  Sicily boasts a bold \"Anti-Mafia\" coalition. B...           2021-09-24  \n",
       "11  Struggling to earn a living in Bangkok, a man ...           2021-09-23  "
      ]
     },
     "execution_count": 119,
     "metadata": {},
     "output_type": "execute_result"
    }
   ],
   "source": [
    "# 1791 TV Shows had 1 season.\n",
    "netflix[netflix[\"duration\"]== \"1 Season\"].head()\n"
   ]
  },
  {
   "cell_type": "markdown",
   "id": "5060f651",
   "metadata": {},
   "source": [
    "# 'listed_in' column"
   ]
  },
  {
   "cell_type": "code",
   "execution_count": 6,
   "id": "40a562b7",
   "metadata": {},
   "outputs": [
    {
     "data": {
      "text/plain": [
       "8808"
      ]
     },
     "execution_count": 6,
     "metadata": {},
     "output_type": "execute_result"
    }
   ],
   "source": [
    "# There seems to be no missing values \n",
    "netflix['listed_in'].count()"
   ]
  },
  {
   "cell_type": "code",
   "execution_count": 9,
   "id": "9ff13d83",
   "metadata": {},
   "outputs": [
    {
     "data": {
      "text/html": [
       "<div>\n",
       "<style scoped>\n",
       "    .dataframe tbody tr th:only-of-type {\n",
       "        vertical-align: middle;\n",
       "    }\n",
       "\n",
       "    .dataframe tbody tr th {\n",
       "        vertical-align: top;\n",
       "    }\n",
       "\n",
       "    .dataframe thead th {\n",
       "        text-align: right;\n",
       "    }\n",
       "</style>\n",
       "<table border=\"1\" class=\"dataframe\">\n",
       "  <thead>\n",
       "    <tr style=\"text-align: right;\">\n",
       "      <th></th>\n",
       "      <th>show_id</th>\n",
       "      <th>type</th>\n",
       "      <th>title</th>\n",
       "      <th>director</th>\n",
       "      <th>cast</th>\n",
       "      <th>country</th>\n",
       "      <th>date_added</th>\n",
       "      <th>release_year</th>\n",
       "      <th>rating</th>\n",
       "      <th>duration</th>\n",
       "      <th>listed_in</th>\n",
       "      <th>description</th>\n",
       "    </tr>\n",
       "  </thead>\n",
       "  <tbody>\n",
       "  </tbody>\n",
       "</table>\n",
       "</div>"
      ],
      "text/plain": [
       "Empty DataFrame\n",
       "Columns: [show_id, type, title, director, cast, country, date_added, release_year, rating, duration, listed_in, description]\n",
       "Index: []"
      ]
     },
     "execution_count": 9,
     "metadata": {},
     "output_type": "execute_result"
    }
   ],
   "source": [
    "# No missing data \n",
    "netflix[netflix[\"listed_in\"].isnull()]"
   ]
  },
  {
   "cell_type": "code",
   "execution_count": 11,
   "id": "a9f87edf",
   "metadata": {},
   "outputs": [
    {
     "data": {
      "text/plain": [
       "listed_in\n",
       "Dramas, International Movies                          362\n",
       "Documentaries                                         359\n",
       "Stand-Up Comedy                                       334\n",
       "Comedies, Dramas, International Movies                274\n",
       "Dramas, Independent Movies, International Movies      252\n",
       "                                                     ... \n",
       "Kids' TV, TV Action & Adventure, TV Dramas              1\n",
       "TV Comedies, TV Dramas, TV Horror                       1\n",
       "Children & Family Movies, Comedies, LGBTQ Movies        1\n",
       "Kids' TV, Spanish-Language TV Shows, Teen TV Shows      1\n",
       "Cult Movies, Dramas, Thrillers                          1\n",
       "Name: count, Length: 514, dtype: int64"
      ]
     },
     "execution_count": 11,
     "metadata": {},
     "output_type": "execute_result"
    }
   ],
   "source": [
    "# majority of the content in the data set is based on Dramas, Documentaries and Comedy.\n",
    "netflix[\"listed_in\"].value_counts()"
   ]
  },
  {
   "cell_type": "code",
   "execution_count": 12,
   "id": "a989059d",
   "metadata": {},
   "outputs": [
    {
     "data": {
      "text/plain": [
       "514"
      ]
     },
     "execution_count": 12,
     "metadata": {},
     "output_type": "execute_result"
    }
   ],
   "source": [
    "# There is an exhaustive list of genres\n",
    "netflix[\"listed_in\"].nunique()"
   ]
  },
  {
   "cell_type": "markdown",
   "id": "94d9c058",
   "metadata": {},
   "source": [
    "# Descriptive Statistics on non numerical columns\n"
   ]
  },
  {
   "cell_type": "code",
   "execution_count": 72,
   "id": "1bca2efd",
   "metadata": {},
   "outputs": [
    {
     "data": {
      "text/html": [
       "<div>\n",
       "<style scoped>\n",
       "    .dataframe tbody tr th:only-of-type {\n",
       "        vertical-align: middle;\n",
       "    }\n",
       "\n",
       "    .dataframe tbody tr th {\n",
       "        vertical-align: top;\n",
       "    }\n",
       "\n",
       "    .dataframe thead th {\n",
       "        text-align: right;\n",
       "    }\n",
       "</style>\n",
       "<table border=\"1\" class=\"dataframe\">\n",
       "  <thead>\n",
       "    <tr style=\"text-align: right;\">\n",
       "      <th></th>\n",
       "      <th>show_id</th>\n",
       "      <th>type</th>\n",
       "      <th>title</th>\n",
       "      <th>director</th>\n",
       "      <th>cast</th>\n",
       "      <th>country</th>\n",
       "      <th>date_added</th>\n",
       "      <th>rating</th>\n",
       "      <th>duration</th>\n",
       "      <th>listed_in</th>\n",
       "      <th>description</th>\n",
       "    </tr>\n",
       "  </thead>\n",
       "  <tbody>\n",
       "    <tr>\n",
       "      <th>count</th>\n",
       "      <td>8807</td>\n",
       "      <td>8807</td>\n",
       "      <td>8807</td>\n",
       "      <td>8807</td>\n",
       "      <td>8807</td>\n",
       "      <td>8807</td>\n",
       "      <td>8807</td>\n",
       "      <td>8807</td>\n",
       "      <td>8807</td>\n",
       "      <td>8807</td>\n",
       "      <td>8807</td>\n",
       "    </tr>\n",
       "    <tr>\n",
       "      <th>unique</th>\n",
       "      <td>8807</td>\n",
       "      <td>2</td>\n",
       "      <td>8803</td>\n",
       "      <td>4529</td>\n",
       "      <td>7693</td>\n",
       "      <td>749</td>\n",
       "      <td>1767</td>\n",
       "      <td>15</td>\n",
       "      <td>220</td>\n",
       "      <td>514</td>\n",
       "      <td>8775</td>\n",
       "    </tr>\n",
       "    <tr>\n",
       "      <th>top</th>\n",
       "      <td>1</td>\n",
       "      <td>Movie</td>\n",
       "      <td>Consequences</td>\n",
       "      <td>No Director</td>\n",
       "      <td>No Cast</td>\n",
       "      <td>United States</td>\n",
       "      <td>January 1, 2020</td>\n",
       "      <td>TV-MA</td>\n",
       "      <td>1 Season</td>\n",
       "      <td>Dramas, International Movies</td>\n",
       "      <td>Paranormal activity at a lush, abandoned prope...</td>\n",
       "    </tr>\n",
       "    <tr>\n",
       "      <th>freq</th>\n",
       "      <td>1</td>\n",
       "      <td>6131</td>\n",
       "      <td>2</td>\n",
       "      <td>2634</td>\n",
       "      <td>825</td>\n",
       "      <td>2818</td>\n",
       "      <td>119</td>\n",
       "      <td>3207</td>\n",
       "      <td>1793</td>\n",
       "      <td>362</td>\n",
       "      <td>4</td>\n",
       "    </tr>\n",
       "  </tbody>\n",
       "</table>\n",
       "</div>"
      ],
      "text/plain": [
       "       show_id   type         title     director     cast        country  \\\n",
       "count     8807   8807          8807         8807     8807           8807   \n",
       "unique    8807      2          8803         4529     7693            749   \n",
       "top          1  Movie  Consequences  No Director  No Cast  United States   \n",
       "freq         1   6131             2         2634      825           2818   \n",
       "\n",
       "             date_added rating  duration                     listed_in  \\\n",
       "count              8807   8807      8807                          8807   \n",
       "unique             1767     15       220                           514   \n",
       "top     January 1, 2020  TV-MA  1 Season  Dramas, International Movies   \n",
       "freq                119   3207      1793                           362   \n",
       "\n",
       "                                              description  \n",
       "count                                                8807  \n",
       "unique                                               8775  \n",
       "top     Paranormal activity at a lush, abandoned prope...  \n",
       "freq                                                    4  "
      ]
     },
     "execution_count": 72,
     "metadata": {},
     "output_type": "execute_result"
    }
   ],
   "source": [
    "# descriptive statistics on non numerical (object) columns\n",
    "netflix.describe(include=['O'])"
   ]
  },
  {
   "cell_type": "markdown",
   "id": "3aae9e49",
   "metadata": {},
   "source": [
    "# Data types in the dataset\n"
   ]
  },
  {
   "cell_type": "code",
   "execution_count": 24,
   "id": "e58697dd",
   "metadata": {},
   "outputs": [
    {
     "name": "stdout",
     "output_type": "stream",
     "text": [
      "<class 'pandas.core.frame.DataFrame'>\n",
      "Index: 8807 entries, 0 to 8806\n",
      "Data columns (total 12 columns):\n",
      " #   Column        Non-Null Count  Dtype \n",
      "---  ------        --------------  ----- \n",
      " 0   show_id       8807 non-null   object\n",
      " 1   type          8807 non-null   object\n",
      " 2   title         8807 non-null   object\n",
      " 3   director      8807 non-null   object\n",
      " 4   cast          8807 non-null   object\n",
      " 5   country       8807 non-null   object\n",
      " 6   date_added    8807 non-null   object\n",
      " 7   release_year  8807 non-null   int64 \n",
      " 8   rating        8807 non-null   object\n",
      " 9   duration      8807 non-null   object\n",
      " 10  listed_in     8807 non-null   object\n",
      " 11  description   8807 non-null   object\n",
      "dtypes: int64(1), object(11)\n",
      "memory usage: 894.5+ KB\n"
     ]
    }
   ],
   "source": [
    "netflix.info()"
   ]
  },
  {
   "cell_type": "markdown",
   "id": "fa84be80",
   "metadata": {},
   "source": [
    "# Data Manipulation and Cleaning\n",
    "Apply functions to column and set show_id as index\n",
    "remove duplicate titles (3)\n",
    "convert 'not given' to unknown for 'country' and 'director' columns\n",
    "convert column data types"
   ]
  },
  {
   "cell_type": "markdown",
   "id": "b8ea1dea",
   "metadata": {},
   "source": [
    "# Apply function to 'show_id' and set as the Index\n"
   ]
  },
  {
   "cell_type": "code",
   "execution_count": 73,
   "id": "9062ca27",
   "metadata": {},
   "outputs": [],
   "source": [
    "# 's' has been renived from the column.\n",
    "netflix[\"show_id\"]=netflix[\"show_id\"].str.replace(\"s\",\" \")"
   ]
  },
  {
   "cell_type": "code",
   "execution_count": 75,
   "id": "e5d77d4e",
   "metadata": {},
   "outputs": [
    {
     "data": {
      "text/html": [
       "<div>\n",
       "<style scoped>\n",
       "    .dataframe tbody tr th:only-of-type {\n",
       "        vertical-align: middle;\n",
       "    }\n",
       "\n",
       "    .dataframe tbody tr th {\n",
       "        vertical-align: top;\n",
       "    }\n",
       "\n",
       "    .dataframe thead th {\n",
       "        text-align: right;\n",
       "    }\n",
       "</style>\n",
       "<table border=\"1\" class=\"dataframe\">\n",
       "  <thead>\n",
       "    <tr style=\"text-align: right;\">\n",
       "      <th></th>\n",
       "      <th>show_id</th>\n",
       "      <th>type</th>\n",
       "      <th>title</th>\n",
       "      <th>director</th>\n",
       "      <th>cast</th>\n",
       "      <th>country</th>\n",
       "      <th>date_added</th>\n",
       "      <th>release_year</th>\n",
       "      <th>rating</th>\n",
       "      <th>duration</th>\n",
       "      <th>listed_in</th>\n",
       "      <th>description</th>\n",
       "    </tr>\n",
       "  </thead>\n",
       "  <tbody>\n",
       "    <tr>\n",
       "      <th>0</th>\n",
       "      <td>1</td>\n",
       "      <td>Movie</td>\n",
       "      <td>Dick Johnson Is Dead</td>\n",
       "      <td>Kirsten Johnson</td>\n",
       "      <td>No Cast</td>\n",
       "      <td>United States</td>\n",
       "      <td>September 25, 2021</td>\n",
       "      <td>2020</td>\n",
       "      <td>PG-13</td>\n",
       "      <td>90 min</td>\n",
       "      <td>Documentaries</td>\n",
       "      <td>As her father nears the end of his life, filmm...</td>\n",
       "    </tr>\n",
       "    <tr>\n",
       "      <th>1</th>\n",
       "      <td>2</td>\n",
       "      <td>TV Show</td>\n",
       "      <td>Blood &amp; Water</td>\n",
       "      <td>No Director</td>\n",
       "      <td>Ama Qamata, Khosi Ngema, Gail Mabalane, Thaban...</td>\n",
       "      <td>South Africa</td>\n",
       "      <td>September 24, 2021</td>\n",
       "      <td>2021</td>\n",
       "      <td>TV-MA</td>\n",
       "      <td>2 Seasons</td>\n",
       "      <td>International TV Shows, TV Dramas, TV Mysteries</td>\n",
       "      <td>After crossing paths at a party, a Cape Town t...</td>\n",
       "    </tr>\n",
       "  </tbody>\n",
       "</table>\n",
       "</div>"
      ],
      "text/plain": [
       "  show_id     type                 title         director  \\\n",
       "0       1    Movie  Dick Johnson Is Dead  Kirsten Johnson   \n",
       "1       2  TV Show         Blood & Water      No Director   \n",
       "\n",
       "                                                cast        country  \\\n",
       "0                                            No Cast  United States   \n",
       "1  Ama Qamata, Khosi Ngema, Gail Mabalane, Thaban...   South Africa   \n",
       "\n",
       "           date_added  release_year rating   duration  \\\n",
       "0  September 25, 2021          2020  PG-13     90 min   \n",
       "1  September 24, 2021          2021  TV-MA  2 Seasons   \n",
       "\n",
       "                                         listed_in  \\\n",
       "0                                    Documentaries   \n",
       "1  International TV Shows, TV Dramas, TV Mysteries   \n",
       "\n",
       "                                         description  \n",
       "0  As her father nears the end of his life, filmm...  \n",
       "1  After crossing paths at a party, a Cape Town t...  "
      ]
     },
     "execution_count": 75,
     "metadata": {},
     "output_type": "execute_result"
    }
   ],
   "source": [
    "netflix.head(2)"
   ]
  },
  {
   "cell_type": "code",
   "execution_count": 78,
   "id": "7d2d5a38",
   "metadata": {},
   "outputs": [],
   "source": [
    "# set show_id as the index and save to original data frame\n",
    "netflix.set_index(['show_id'], inplace=True)"
   ]
  },
  {
   "cell_type": "code",
   "execution_count": 79,
   "id": "7e80b27d",
   "metadata": {},
   "outputs": [
    {
     "data": {
      "text/html": [
       "<div>\n",
       "<style scoped>\n",
       "    .dataframe tbody tr th:only-of-type {\n",
       "        vertical-align: middle;\n",
       "    }\n",
       "\n",
       "    .dataframe tbody tr th {\n",
       "        vertical-align: top;\n",
       "    }\n",
       "\n",
       "    .dataframe thead th {\n",
       "        text-align: right;\n",
       "    }\n",
       "</style>\n",
       "<table border=\"1\" class=\"dataframe\">\n",
       "  <thead>\n",
       "    <tr style=\"text-align: right;\">\n",
       "      <th></th>\n",
       "      <th>type</th>\n",
       "      <th>title</th>\n",
       "      <th>director</th>\n",
       "      <th>cast</th>\n",
       "      <th>country</th>\n",
       "      <th>date_added</th>\n",
       "      <th>release_year</th>\n",
       "      <th>rating</th>\n",
       "      <th>duration</th>\n",
       "      <th>listed_in</th>\n",
       "      <th>description</th>\n",
       "    </tr>\n",
       "    <tr>\n",
       "      <th>show_id</th>\n",
       "      <th></th>\n",
       "      <th></th>\n",
       "      <th></th>\n",
       "      <th></th>\n",
       "      <th></th>\n",
       "      <th></th>\n",
       "      <th></th>\n",
       "      <th></th>\n",
       "      <th></th>\n",
       "      <th></th>\n",
       "      <th></th>\n",
       "    </tr>\n",
       "  </thead>\n",
       "  <tbody>\n",
       "    <tr>\n",
       "      <th>1</th>\n",
       "      <td>Movie</td>\n",
       "      <td>Dick Johnson Is Dead</td>\n",
       "      <td>Kirsten Johnson</td>\n",
       "      <td>No Cast</td>\n",
       "      <td>United States</td>\n",
       "      <td>September 25, 2021</td>\n",
       "      <td>2020</td>\n",
       "      <td>PG-13</td>\n",
       "      <td>90 min</td>\n",
       "      <td>Documentaries</td>\n",
       "      <td>As her father nears the end of his life, filmm...</td>\n",
       "    </tr>\n",
       "    <tr>\n",
       "      <th>2</th>\n",
       "      <td>TV Show</td>\n",
       "      <td>Blood &amp; Water</td>\n",
       "      <td>No Director</td>\n",
       "      <td>Ama Qamata, Khosi Ngema, Gail Mabalane, Thaban...</td>\n",
       "      <td>South Africa</td>\n",
       "      <td>September 24, 2021</td>\n",
       "      <td>2021</td>\n",
       "      <td>TV-MA</td>\n",
       "      <td>2 Seasons</td>\n",
       "      <td>International TV Shows, TV Dramas, TV Mysteries</td>\n",
       "      <td>After crossing paths at a party, a Cape Town t...</td>\n",
       "    </tr>\n",
       "  </tbody>\n",
       "</table>\n",
       "</div>"
      ],
      "text/plain": [
       "            type                 title         director  \\\n",
       "show_id                                                   \n",
       " 1         Movie  Dick Johnson Is Dead  Kirsten Johnson   \n",
       " 2       TV Show         Blood & Water      No Director   \n",
       "\n",
       "                                                      cast        country  \\\n",
       "show_id                                                                     \n",
       " 1                                                 No Cast  United States   \n",
       " 2       Ama Qamata, Khosi Ngema, Gail Mabalane, Thaban...   South Africa   \n",
       "\n",
       "                 date_added  release_year rating   duration  \\\n",
       "show_id                                                       \n",
       " 1       September 25, 2021          2020  PG-13     90 min   \n",
       " 2       September 24, 2021          2021  TV-MA  2 Seasons   \n",
       "\n",
       "                                               listed_in  \\\n",
       "show_id                                                    \n",
       " 1                                         Documentaries   \n",
       " 2       International TV Shows, TV Dramas, TV Mysteries   \n",
       "\n",
       "                                               description  \n",
       "show_id                                                     \n",
       " 1       As her father nears the end of his life, filmm...  \n",
       " 2       After crossing paths at a party, a Cape Town t...  "
      ]
     },
     "execution_count": 79,
     "metadata": {},
     "output_type": "execute_result"
    }
   ],
   "source": [
    "netflix.head(2)"
   ]
  },
  {
   "cell_type": "markdown",
   "id": "0d6909ae",
   "metadata": {},
   "source": [
    "# Converting column data types\n"
   ]
  },
  {
   "cell_type": "code",
   "execution_count": 81,
   "id": "9878d842",
   "metadata": {},
   "outputs": [
    {
     "data": {
      "text/plain": [
       "Index(['type', 'title', 'director', 'cast', 'country', 'date_added',\n",
       "       'release_year', 'rating', 'duration', 'listed_in', 'description'],\n",
       "      dtype='object')"
      ]
     },
     "execution_count": 81,
     "metadata": {},
     "output_type": "execute_result"
    }
   ],
   "source": [
    "netflix.columns"
   ]
  },
  {
   "cell_type": "code",
   "execution_count": 84,
   "id": "ef4e3bfe",
   "metadata": {},
   "outputs": [],
   "source": [
    "# select the columns and assign to new variable \n",
    "categorical_columns = ['type', 'country', 'rating']"
   ]
  },
  {
   "cell_type": "code",
   "execution_count": 85,
   "id": "1e9369b4",
   "metadata": {},
   "outputs": [],
   "source": [
    "# Change the column type and assign it to the dataframe\n",
    "netflix[categorical_columns] = netflix[categorical_columns].astype('category')"
   ]
  },
  {
   "cell_type": "code",
   "execution_count": 93,
   "id": "8590476d",
   "metadata": {},
   "outputs": [
    {
     "data": {
      "text/plain": [
       "show_id\n",
       " 1   2021-09-25\n",
       " 2   2021-09-24\n",
       " 3   2021-09-24\n",
       " 4   2021-09-24\n",
       " 5   2021-09-24\n",
       "Name: date_added, dtype: datetime64[ns]"
      ]
     },
     "execution_count": 93,
     "metadata": {},
     "output_type": "execute_result"
    }
   ],
   "source": [
    "# convert the column to datetime and show first 5 rows.\n",
    "netflix['date_added'] = pd.to_datetime(netflix['date_added'], \n",
    "                                       errors='coerce')\n",
    "netflix['date_added'].head()"
   ]
  },
  {
   "cell_type": "code",
   "execution_count": 91,
   "id": "a532360f",
   "metadata": {},
   "outputs": [
    {
     "name": "stdout",
     "output_type": "stream",
     "text": [
      "<class 'pandas.core.frame.DataFrame'>\n",
      "Index: 8807 entries,  1 to  8807\n",
      "Data columns (total 11 columns):\n",
      " #   Column        Non-Null Count  Dtype         \n",
      "---  ------        --------------  -----         \n",
      " 0   type          8807 non-null   category      \n",
      " 1   title         8807 non-null   object        \n",
      " 2   director      8807 non-null   object        \n",
      " 3   cast          8807 non-null   object        \n",
      " 4   country       8807 non-null   category      \n",
      " 5   date_added    8719 non-null   datetime64[ns]\n",
      " 6   release_year  8807 non-null   int64         \n",
      " 7   rating        8807 non-null   category      \n",
      " 8   duration      8807 non-null   object        \n",
      " 9   listed_in     8807 non-null   object        \n",
      " 10  description   8807 non-null   object        \n",
      "dtypes: category(3), datetime64[ns](1), int64(1), object(6)\n",
      "memory usage: 676.4+ KB\n"
     ]
    }
   ],
   "source": [
    "netflix.info()"
   ]
  },
  {
   "cell_type": "markdown",
   "id": "d980bf7f",
   "metadata": {},
   "source": [
    "# Netflix Content Type Overview\n",
    "\n",
    "Type of Content streamed on Netflix and its Distribution"
   ]
  },
  {
   "cell_type": "code",
   "execution_count": 95,
   "id": "88a89613",
   "metadata": {},
   "outputs": [
    {
     "data": {
      "image/png": "[encoded data removed]",
      "text/plain": [
       "<Figure size 640x480 with 1 Axes>"
      ]
     },
     "metadata": {},
     "output_type": "display_data"
    }
   ],
   "source": [
    "# Visualise content (TV Shows and Movies), categorical data using a bar chart.\n",
    "netflix['type'].value_counts().plot(kind='bar', title='Frequency of TV Shows & Movies');"
   ]
  },
  {
   "cell_type": "code",
   "execution_count": 96,
   "id": "a0de325d",
   "metadata": {},
   "outputs": [
    {
     "data": {
      "image/png": "[encoded data removed]",
      "text/plain": [
       "<Figure size 640x480 with 1 Axes>"
      ]
     },
     "metadata": {},
     "output_type": "display_data"
    }
   ],
   "source": [
    "# Countplot dispays categorical data\n",
    "sns.countplot(netflix, x=netflix['type']);"
   ]
  },
  {
   "cell_type": "code",
   "execution_count": 98,
   "id": "f052d021",
   "metadata": {},
   "outputs": [
    {
     "data": {
      "text/plain": [
       "69.62"
      ]
     },
     "execution_count": 98,
     "metadata": {},
     "output_type": "execute_result"
    }
   ],
   "source": [
    "# Calculate percentage of Movies\n",
    "percentage_movie = round((len(netflix[netflix['type'] == 'Movie']) / len(netflix['type']))*100, 2)\n",
    "percentage_movie"
   ]
  },
  {
   "cell_type": "code",
   "execution_count": 100,
   "id": "d3d7e0da",
   "metadata": {},
   "outputs": [
    {
     "data": {
      "text/plain": [
       "30.38"
      ]
     },
     "execution_count": 100,
     "metadata": {},
     "output_type": "execute_result"
    }
   ],
   "source": [
    "# Calculate percentage TV Shows\n",
    "percentage_movie = round((len(netflix[netflix['type'] == 'TV Show']) / len(netflix['type']))*100, 2)\n",
    "percentage_movie"
   ]
  },
  {
   "cell_type": "markdown",
   "id": "e53ba180",
   "metadata": {},
   "source": [
    "# Top countries contributing to the content on Netflix\n",
    "\n",
    "Countries producing the highest amount of content (Movies or TV Shows)"
   ]
  },
  {
   "cell_type": "code",
   "execution_count": 101,
   "id": "eb82f41f",
   "metadata": {},
   "outputs": [
    {
     "data": {
      "text/plain": [
       "749"
      ]
     },
     "execution_count": 101,
     "metadata": {},
     "output_type": "execute_result"
    }
   ],
   "source": [
    "# Total number of countries producing content\n",
    "netflix['country'].nunique()"
   ]
  },
  {
   "cell_type": "code",
   "execution_count": 104,
   "id": "26c1d2aa",
   "metadata": {},
   "outputs": [
    {
     "data": {
      "text/plain": [
       "country\n",
       "United States     2818\n",
       "India              972\n",
       "United Kingdom     419\n",
       "Japan              245\n",
       "South Korea        199\n",
       "Canada             181\n",
       "Spain              145\n",
       "France             124\n",
       "Mexico             110\n",
       "Egypt              106\n",
       "Name: count, dtype: int64"
      ]
     },
     "execution_count": 104,
     "metadata": {},
     "output_type": "execute_result"
    }
   ],
   "source": [
    "# Top 10 countries producing content, excluding 'Unknown' countries.\n",
    "top_10_countries = netflix['country'].value_counts().head(11).drop('UnKnown')\n",
    "top_10_countries"
   ]
  },
  {
   "cell_type": "code",
   "execution_count": 105,
   "id": "a113bda2",
   "metadata": {},
   "outputs": [
    {
     "data": {
      "image/png": "[encoded data removed]",
      "text/plain": [
       "<Figure size 640x480 with 1 Axes>"
      ]
     },
     "metadata": {},
     "output_type": "display_data"
    }
   ],
   "source": [
    "# Plot a bar chart\n",
    "top_10_countries.plot(kind='bar', title='Top 10 content producing countries');"
   ]
  },
  {
   "cell_type": "markdown",
   "id": "c98d9ad9",
   "metadata": {},
   "source": [
    "# Diversity of Movie content on Netflix\n",
    "\n",
    "Exploration of the top ten countries that have contibuted towards the movie content on Netflix."
   ]
  },
  {
   "cell_type": "code",
   "execution_count": 106,
   "id": "bffdbafa",
   "metadata": {},
   "outputs": [
    {
     "data": {
      "text/plain": [
       "type   country       \n",
       "Movie  United States     2058\n",
       "       India              893\n",
       "       UnKnown            440\n",
       "       United Kingdom     206\n",
       "       Canada             122\n",
       "       Spain               97\n",
       "       Egypt               92\n",
       "       Nigeria             86\n",
       "       Indonesia           77\n",
       "       Turkey              76\n",
       "Name: count, dtype: int64"
      ]
     },
     "execution_count": 106,
     "metadata": {},
     "output_type": "execute_result"
    }
   ],
   "source": [
    "# Use data that does not contain unknown countries.\n",
    "countries_movies = netflix[netflix['country'] != 'Unknown'].groupby(['type'])['country'].value_counts().head(10)\n",
    "countries_movies"
   ]
  },
  {
   "cell_type": "code",
   "execution_count": null,
   "id": "b9c0c522",
   "metadata": {},
   "outputs": [],
   "source": [
    "Note: Pakistan is no longer part of this group as the country is not producing movies. Pakistan therefore, must be producing a huge proportion of TV Shows."
   ]
  },
  {
   "cell_type": "code",
   "execution_count": 107,
   "id": "177dab3c",
   "metadata": {},
   "outputs": [
    {
     "data": {
      "image/png": "[encoded data removed]",
      "text/plain": [
       "<Figure size 640x480 with 1 Axes>"
      ]
     },
     "metadata": {},
     "output_type": "display_data"
    }
   ],
   "source": [
    "# Bar chart will show the frequency of movies produced per country\n",
    "countries_movies.unstack().sort_values(by='type').plot(kind='bar', title='Top Ten Countries for Movie Production');"
   ]
  },
  {
   "cell_type": "code",
   "execution_count": 109,
   "id": "05d77a2a",
   "metadata": {},
   "outputs": [
    {
     "data": {
      "text/plain": [
       "2058"
      ]
     },
     "execution_count": 109,
     "metadata": {},
     "output_type": "execute_result"
    }
   ],
   "source": [
    "# Contribution of movies from the US\n",
    "movies_united_states = netflix[netflix['type'] == 'Movie'][['country']].value_counts()[0]\n",
    "movies_united_states"
   ]
  },
  {
   "cell_type": "code",
   "execution_count": 111,
   "id": "682da03b",
   "metadata": {},
   "outputs": [
    {
     "data": {
      "text/plain": [
       "6131"
      ]
     },
     "execution_count": 111,
     "metadata": {},
     "output_type": "execute_result"
    }
   ],
   "source": [
    "# Total number of movies contributed\n",
    "total_movies = len(netflix[netflix['type'] == 'Movie'])\n",
    "total_movies"
   ]
  },
  {
   "cell_type": "code",
   "execution_count": 117,
   "id": "bd1c9eaf",
   "metadata": {},
   "outputs": [
    {
     "data": {
      "text/plain": [
       "33.57"
      ]
     },
     "execution_count": 117,
     "metadata": {},
     "output_type": "execute_result"
    }
   ],
   "source": [
    "# US movie contribution as a percentage \n",
    "movie_industry_us = round((movies_united_states/ total_movies)*100, 2)\n",
    "movie_industry_us"
   ]
  },
  {
   "cell_type": "code",
   "execution_count": 118,
   "id": "49b97ba2",
   "metadata": {},
   "outputs": [
    {
     "data": {
      "text/plain": [
       "14.57"
      ]
     },
     "execution_count": 118,
     "metadata": {},
     "output_type": "execute_result"
    }
   ],
   "source": [
    "movies_india = netflix[netflix['type'] == 'Movie'][['country']].value_counts()[1]\n",
    "movie_industry_india = round((movies_india/ total_movies)*100, 2)\n",
    "movie_industry_india"
   ]
  },
  {
   "cell_type": "code",
   "execution_count": null,
   "id": "90f14dfb",
   "metadata": {},
   "outputs": [],
   "source": [
    "India contributed 15.92 % towards the movie content."
   ]
  },
  {
   "cell_type": "code",
   "execution_count": 119,
   "id": "afa41d0c",
   "metadata": {},
   "outputs": [
    {
     "data": {
      "text/plain": [
       "7.18"
      ]
     },
     "execution_count": 119,
     "metadata": {},
     "output_type": "execute_result"
    }
   ],
   "source": [
    "movies_uk = netflix[netflix['type'] == 'Movie'][['country']].value_counts()[2]\n",
    "movie_industry_uk = round((movies_uk/ total_movies)*100, 2)\n",
    "movie_industry_uk"
   ]
  },
  {
   "cell_type": "code",
   "execution_count": null,
   "id": "bd9b0a54",
   "metadata": {},
   "outputs": [],
   "source": [
    "UK contributed 6.32 % towards the movie content. (as streamed on Netflix)."
   ]
  },
  {
   "cell_type": "markdown",
   "id": "e3a3d8a4",
   "metadata": {},
   "source": [
    "# Diversity of TV content on Netflix\n"
   ]
  },
  {
   "cell_type": "code",
   "execution_count": 122,
   "id": "edb123ca",
   "metadata": {},
   "outputs": [
    {
     "data": {
      "text/html": [
       "<div>\n",
       "<style scoped>\n",
       "    .dataframe tbody tr th:only-of-type {\n",
       "        vertical-align: middle;\n",
       "    }\n",
       "\n",
       "    .dataframe tbody tr th {\n",
       "        vertical-align: top;\n",
       "    }\n",
       "\n",
       "    .dataframe thead th {\n",
       "        text-align: right;\n",
       "    }\n",
       "</style>\n",
       "<table border=\"1\" class=\"dataframe\">\n",
       "  <thead>\n",
       "    <tr style=\"text-align: right;\">\n",
       "      <th></th>\n",
       "      <th>type</th>\n",
       "      <th>title</th>\n",
       "      <th>director</th>\n",
       "      <th>cast</th>\n",
       "      <th>country</th>\n",
       "      <th>date_added</th>\n",
       "      <th>release_year</th>\n",
       "      <th>rating</th>\n",
       "      <th>duration</th>\n",
       "      <th>listed_in</th>\n",
       "      <th>description</th>\n",
       "    </tr>\n",
       "    <tr>\n",
       "      <th>show_id</th>\n",
       "      <th></th>\n",
       "      <th></th>\n",
       "      <th></th>\n",
       "      <th></th>\n",
       "      <th></th>\n",
       "      <th></th>\n",
       "      <th></th>\n",
       "      <th></th>\n",
       "      <th></th>\n",
       "      <th></th>\n",
       "      <th></th>\n",
       "    </tr>\n",
       "  </thead>\n",
       "  <tbody>\n",
       "    <tr>\n",
       "      <th>2</th>\n",
       "      <td>TV Show</td>\n",
       "      <td>Blood &amp; Water</td>\n",
       "      <td>No Director</td>\n",
       "      <td>Ama Qamata, Khosi Ngema, Gail Mabalane, Thaban...</td>\n",
       "      <td>South Africa</td>\n",
       "      <td>2021-09-24</td>\n",
       "      <td>2021</td>\n",
       "      <td>TV-MA</td>\n",
       "      <td>2 Seasons</td>\n",
       "      <td>International TV Shows, TV Dramas, TV Mysteries</td>\n",
       "      <td>After crossing paths at a party, a Cape Town t...</td>\n",
       "    </tr>\n",
       "    <tr>\n",
       "      <th>3</th>\n",
       "      <td>TV Show</td>\n",
       "      <td>Ganglands</td>\n",
       "      <td>Julien Leclercq</td>\n",
       "      <td>Sami Bouajila, Tracy Gotoas, Samuel Jouy, Nabi...</td>\n",
       "      <td>UnKnown</td>\n",
       "      <td>2021-09-24</td>\n",
       "      <td>2021</td>\n",
       "      <td>TV-MA</td>\n",
       "      <td>1 Season</td>\n",
       "      <td>Crime TV Shows, International TV Shows, TV Act...</td>\n",
       "      <td>To protect his family from a powerful drug lor...</td>\n",
       "    </tr>\n",
       "    <tr>\n",
       "      <th>4</th>\n",
       "      <td>TV Show</td>\n",
       "      <td>Jailbirds New Orleans</td>\n",
       "      <td>No Director</td>\n",
       "      <td>No Cast</td>\n",
       "      <td>UnKnown</td>\n",
       "      <td>2021-09-24</td>\n",
       "      <td>2021</td>\n",
       "      <td>TV-MA</td>\n",
       "      <td>1 Season</td>\n",
       "      <td>Docuseries, Reality TV</td>\n",
       "      <td>Feuds, flirtations and toilet talk go down amo...</td>\n",
       "    </tr>\n",
       "    <tr>\n",
       "      <th>5</th>\n",
       "      <td>TV Show</td>\n",
       "      <td>Kota Factory</td>\n",
       "      <td>No Director</td>\n",
       "      <td>Mayur More, Jitendra Kumar, Ranjan Raj, Alam K...</td>\n",
       "      <td>India</td>\n",
       "      <td>2021-09-24</td>\n",
       "      <td>2021</td>\n",
       "      <td>TV-MA</td>\n",
       "      <td>2 Seasons</td>\n",
       "      <td>International TV Shows, Romantic TV Shows, TV ...</td>\n",
       "      <td>In a city of coaching centers known to train I...</td>\n",
       "    </tr>\n",
       "    <tr>\n",
       "      <th>6</th>\n",
       "      <td>TV Show</td>\n",
       "      <td>Midnight Mass</td>\n",
       "      <td>Mike Flanagan</td>\n",
       "      <td>Kate Siegel, Zach Gilford, Hamish Linklater, H...</td>\n",
       "      <td>UnKnown</td>\n",
       "      <td>2021-09-24</td>\n",
       "      <td>2021</td>\n",
       "      <td>TV-MA</td>\n",
       "      <td>1 Season</td>\n",
       "      <td>TV Dramas, TV Horror, TV Mysteries</td>\n",
       "      <td>The arrival of a charismatic young priest brin...</td>\n",
       "    </tr>\n",
       "  </tbody>\n",
       "</table>\n",
       "</div>"
      ],
      "text/plain": [
       "            type                  title         director  \\\n",
       "show_id                                                    \n",
       " 2       TV Show          Blood & Water      No Director   \n",
       " 3       TV Show              Ganglands  Julien Leclercq   \n",
       " 4       TV Show  Jailbirds New Orleans      No Director   \n",
       " 5       TV Show           Kota Factory      No Director   \n",
       " 6       TV Show          Midnight Mass    Mike Flanagan   \n",
       "\n",
       "                                                      cast       country  \\\n",
       "show_id                                                                    \n",
       " 2       Ama Qamata, Khosi Ngema, Gail Mabalane, Thaban...  South Africa   \n",
       " 3       Sami Bouajila, Tracy Gotoas, Samuel Jouy, Nabi...       UnKnown   \n",
       " 4                                                 No Cast       UnKnown   \n",
       " 5       Mayur More, Jitendra Kumar, Ranjan Raj, Alam K...         India   \n",
       " 6       Kate Siegel, Zach Gilford, Hamish Linklater, H...       UnKnown   \n",
       "\n",
       "        date_added  release_year rating   duration  \\\n",
       "show_id                                              \n",
       " 2      2021-09-24          2021  TV-MA  2 Seasons   \n",
       " 3      2021-09-24          2021  TV-MA   1 Season   \n",
       " 4      2021-09-24          2021  TV-MA   1 Season   \n",
       " 5      2021-09-24          2021  TV-MA  2 Seasons   \n",
       " 6      2021-09-24          2021  TV-MA   1 Season   \n",
       "\n",
       "                                                 listed_in  \\\n",
       "show_id                                                      \n",
       " 2         International TV Shows, TV Dramas, TV Mysteries   \n",
       " 3       Crime TV Shows, International TV Shows, TV Act...   \n",
       " 4                                  Docuseries, Reality TV   \n",
       " 5       International TV Shows, Romantic TV Shows, TV ...   \n",
       " 6                      TV Dramas, TV Horror, TV Mysteries   \n",
       "\n",
       "                                               description  \n",
       "show_id                                                     \n",
       " 2       After crossing paths at a party, a Cape Town t...  \n",
       " 3       To protect his family from a powerful drug lor...  \n",
       " 4       Feuds, flirtations and toilet talk go down amo...  \n",
       " 5       In a city of coaching centers known to train I...  \n",
       " 6       The arrival of a charismatic young priest brin...  "
      ]
     },
     "execution_count": 122,
     "metadata": {},
     "output_type": "execute_result"
    }
   ],
   "source": [
    "# Filter the original dataframe to show\n",
    "tvshow = netflix[netflix['type'] == 'TV Show']\n",
    "tvshow.head(5)"
   ]
  },
  {
   "cell_type": "code",
   "execution_count": 124,
   "id": "0ea5b6c1",
   "metadata": {},
   "outputs": [
    {
     "data": {
      "text/plain": [
       "2676"
      ]
     },
     "execution_count": 124,
     "metadata": {},
     "output_type": "execute_result"
    }
   ],
   "source": [
    "# There are 2676 rows / TV Shows.\n",
    "len(tvshow)"
   ]
  },
  {
   "cell_type": "code",
   "execution_count": 125,
   "id": "409f41fc",
   "metadata": {},
   "outputs": [
    {
     "data": {
      "text/plain": [
       "197"
      ]
     },
     "execution_count": 125,
     "metadata": {},
     "output_type": "execute_result"
    }
   ],
   "source": [
    "# 197 countries produced TV Show content (2676 TV Shows).\n",
    "countries_tvshow = tvshow['country'].nunique()\n",
    "countries_tvshow\n"
   ]
  },
  {
   "cell_type": "code",
   "execution_count": 126,
   "id": "e5cab4bc",
   "metadata": {},
   "outputs": [
    {
     "data": {
      "text/plain": [
       "27"
      ]
     },
     "execution_count": 126,
     "metadata": {},
     "output_type": "execute_result"
    }
   ],
   "source": [
    "# 27 countries have not produced TV Shows. \n",
    "countries_no_tvshow = tvshow['country'].value_counts().tail(27).count()\n",
    "countries_no_tvshow"
   ]
  },
  {
   "cell_type": "code",
   "execution_count": 127,
   "id": "eaf0441b",
   "metadata": {},
   "outputs": [
    {
     "data": {
      "text/plain": [
       "country\n",
       "Italy, Belgium                                                                         0\n",
       "Italy, Brazil, Greece                                                                  0\n",
       "Italy, France                                                                          0\n",
       "Italy, France, Switzerland                                                             0\n",
       "Italy, India                                                                           0\n",
       "Italy, Switzerland, Albania, Poland                                                    0\n",
       "Italy, Switzerland, France, Germany                                                    0\n",
       "Ireland, United Kingdom                                                                0\n",
       "Ireland, Switzerland, United Kingdom, France, United States                            0\n",
       "Ireland, South Africa                                                                  0\n",
       "Ireland, Luxembourg, Belgium                                                           0\n",
       "India, Turkey                                                                          0\n",
       "India, United Kingdom                                                                  0\n",
       "India, United Kingdom, Canada, United States                                           0\n",
       "India, United Kingdom, China, Canada, Japan, South Korea, United States                0\n",
       "India, United Kingdom, France, Qatar                                                   0\n",
       "Indonesia, Netherlands                                                                 0\n",
       "Indonesia, Singapore                                                                   0\n",
       "Indonesia, South Korea, Singapore                                                      0\n",
       "Indonesia, United Kingdom                                                              0\n",
       "Indonesia, United States                                                               0\n",
       "Iran, France                                                                           0\n",
       "Ireland, Canada                                                                        0\n",
       "Ireland, Canada, Luxembourg, United States, United Kingdom, Philippines, India         0\n",
       "Ireland, Canada, United Kingdom, United States                                         0\n",
       "Ireland, France, Iceland, United States, Mexico, Belgium, United Kingdom, Hong Kong    0\n",
       "Zimbabwe                                                                               0\n",
       "Name: count, dtype: int64"
      ]
     },
     "execution_count": 127,
     "metadata": {},
     "output_type": "execute_result"
    }
   ],
   "source": [
    "# Show the 27 countries that have not produced TV Shows in the Netflix dataset. \n",
    "tvshow['country'].value_counts().tail(27)\n"
   ]
  },
  {
   "cell_type": "code",
   "execution_count": 128,
   "id": "4bd88c56",
   "metadata": {},
   "outputs": [
    {
     "data": {
      "text/html": [
       "<div>\n",
       "<style scoped>\n",
       "    .dataframe tbody tr th:only-of-type {\n",
       "        vertical-align: middle;\n",
       "    }\n",
       "\n",
       "    .dataframe tbody tr th {\n",
       "        vertical-align: top;\n",
       "    }\n",
       "\n",
       "    .dataframe thead th {\n",
       "        text-align: right;\n",
       "    }\n",
       "</style>\n",
       "<table border=\"1\" class=\"dataframe\">\n",
       "  <thead>\n",
       "    <tr style=\"text-align: right;\">\n",
       "      <th></th>\n",
       "      <th>type</th>\n",
       "      <th>title</th>\n",
       "      <th>director</th>\n",
       "      <th>cast</th>\n",
       "      <th>country</th>\n",
       "      <th>date_added</th>\n",
       "      <th>release_year</th>\n",
       "      <th>rating</th>\n",
       "      <th>duration</th>\n",
       "      <th>listed_in</th>\n",
       "      <th>description</th>\n",
       "    </tr>\n",
       "    <tr>\n",
       "      <th>show_id</th>\n",
       "      <th></th>\n",
       "      <th></th>\n",
       "      <th></th>\n",
       "      <th></th>\n",
       "      <th></th>\n",
       "      <th></th>\n",
       "      <th></th>\n",
       "      <th></th>\n",
       "      <th></th>\n",
       "      <th></th>\n",
       "      <th></th>\n",
       "    </tr>\n",
       "  </thead>\n",
       "  <tbody>\n",
       "    <tr>\n",
       "      <th>5613</th>\n",
       "      <td>Movie</td>\n",
       "      <td>Hitler - A Career</td>\n",
       "      <td>Joachim Fest, Christian Herrendoerfer</td>\n",
       "      <td>No Cast</td>\n",
       "      <td>West Germany</td>\n",
       "      <td>2017-02-10</td>\n",
       "      <td>1977</td>\n",
       "      <td>TV-MA</td>\n",
       "      <td>150 min</td>\n",
       "      <td>Documentaries, International Movies</td>\n",
       "      <td>This documentary examines how Adolf Hitler's t...</td>\n",
       "    </tr>\n",
       "  </tbody>\n",
       "</table>\n",
       "</div>"
      ],
      "text/plain": [
       "          type              title                               director  \\\n",
       "show_id                                                                    \n",
       " 5613    Movie  Hitler - A Career  Joachim Fest, Christian Herrendoerfer   \n",
       "\n",
       "            cast       country date_added  release_year rating duration  \\\n",
       "show_id                                                                   \n",
       " 5613    No Cast  West Germany 2017-02-10          1977  TV-MA  150 min   \n",
       "\n",
       "                                   listed_in  \\\n",
       "show_id                                        \n",
       " 5613    Documentaries, International Movies   \n",
       "\n",
       "                                               description  \n",
       "show_id                                                     \n",
       " 5613    This documentary examines how Adolf Hitler's t...  "
      ]
     },
     "execution_count": 128,
     "metadata": {},
     "output_type": "execute_result"
    }
   ],
   "source": [
    "netflix[netflix['country'] == 'West Germany']\n"
   ]
  },
  {
   "cell_type": "code",
   "execution_count": 129,
   "id": "7cb78955",
   "metadata": {},
   "outputs": [
    {
     "data": {
      "text/html": [
       "<div>\n",
       "<style scoped>\n",
       "    .dataframe tbody tr th:only-of-type {\n",
       "        vertical-align: middle;\n",
       "    }\n",
       "\n",
       "    .dataframe tbody tr th {\n",
       "        vertical-align: top;\n",
       "    }\n",
       "\n",
       "    .dataframe thead th {\n",
       "        text-align: right;\n",
       "    }\n",
       "</style>\n",
       "<table border=\"1\" class=\"dataframe\">\n",
       "  <thead>\n",
       "    <tr style=\"text-align: right;\">\n",
       "      <th></th>\n",
       "      <th>type</th>\n",
       "      <th>title</th>\n",
       "      <th>director</th>\n",
       "      <th>cast</th>\n",
       "      <th>country</th>\n",
       "      <th>date_added</th>\n",
       "      <th>release_year</th>\n",
       "      <th>rating</th>\n",
       "      <th>duration</th>\n",
       "      <th>listed_in</th>\n",
       "      <th>description</th>\n",
       "    </tr>\n",
       "    <tr>\n",
       "      <th>show_id</th>\n",
       "      <th></th>\n",
       "      <th></th>\n",
       "      <th></th>\n",
       "      <th></th>\n",
       "      <th></th>\n",
       "      <th></th>\n",
       "      <th></th>\n",
       "      <th></th>\n",
       "      <th></th>\n",
       "      <th></th>\n",
       "      <th></th>\n",
       "    </tr>\n",
       "  </thead>\n",
       "  <tbody>\n",
       "  </tbody>\n",
       "</table>\n",
       "</div>"
      ],
      "text/plain": [
       "Empty DataFrame\n",
       "Columns: [type, title, director, cast, country, date_added, release_year, rating, duration, listed_in, description]\n",
       "Index: []"
      ]
     },
     "execution_count": 129,
     "metadata": {},
     "output_type": "execute_result"
    }
   ],
   "source": [
    "netflix[netflix['country'] == 'Soviet Union']\n"
   ]
  },
  {
   "cell_type": "code",
   "execution_count": 130,
   "id": "d451becf",
   "metadata": {},
   "outputs": [
    {
     "data": {
      "text/html": [
       "<div>\n",
       "<style scoped>\n",
       "    .dataframe tbody tr th:only-of-type {\n",
       "        vertical-align: middle;\n",
       "    }\n",
       "\n",
       "    .dataframe tbody tr th {\n",
       "        vertical-align: top;\n",
       "    }\n",
       "\n",
       "    .dataframe thead th {\n",
       "        text-align: right;\n",
       "    }\n",
       "</style>\n",
       "<table border=\"1\" class=\"dataframe\">\n",
       "  <thead>\n",
       "    <tr style=\"text-align: right;\">\n",
       "      <th></th>\n",
       "      <th>type</th>\n",
       "      <th>title</th>\n",
       "      <th>director</th>\n",
       "      <th>cast</th>\n",
       "      <th>country</th>\n",
       "      <th>date_added</th>\n",
       "      <th>release_year</th>\n",
       "      <th>rating</th>\n",
       "      <th>duration</th>\n",
       "      <th>listed_in</th>\n",
       "      <th>description</th>\n",
       "    </tr>\n",
       "    <tr>\n",
       "      <th>show_id</th>\n",
       "      <th></th>\n",
       "      <th></th>\n",
       "      <th></th>\n",
       "      <th></th>\n",
       "      <th></th>\n",
       "      <th></th>\n",
       "      <th></th>\n",
       "      <th></th>\n",
       "      <th></th>\n",
       "      <th></th>\n",
       "      <th></th>\n",
       "    </tr>\n",
       "  </thead>\n",
       "  <tbody>\n",
       "  </tbody>\n",
       "</table>\n",
       "</div>"
      ],
      "text/plain": [
       "Empty DataFrame\n",
       "Columns: [type, title, director, cast, country, date_added, release_year, rating, duration, listed_in, description]\n",
       "Index: []"
      ]
     },
     "execution_count": 130,
     "metadata": {},
     "output_type": "execute_result"
    }
   ],
   "source": [
    "# Countries that have not produced any content are not part of this dataset. \n",
    "tvshow[tvshow['country'] == 'Cambodia']"
   ]
  },
  {
   "cell_type": "code",
   "execution_count": 131,
   "id": "42d4657a",
   "metadata": {},
   "outputs": [
    {
     "data": {
      "text/plain": [
       "0"
      ]
     },
     "execution_count": 131,
     "metadata": {},
     "output_type": "execute_result"
    }
   ],
   "source": [
    "# There are no 'Unknown' countries\n",
    "len(tvshow[tvshow['country'] == 'Uknown'])\n"
   ]
  },
  {
   "cell_type": "code",
   "execution_count": 132,
   "id": "a2d20528",
   "metadata": {},
   "outputs": [
    {
     "data": {
      "text/plain": [
       "1994"
      ]
     },
     "execution_count": 132,
     "metadata": {},
     "output_type": "execute_result"
    }
   ],
   "source": [
    "# 1994 out of 2663 tv shows are produced by the top ten countries\n",
    "top10_total_tvshows = tvshow['country'].value_counts()[0:10].sum()\n",
    "top10_total_tvshows"
   ]
  },
  {
   "cell_type": "code",
   "execution_count": 133,
   "id": "7bcb6c61",
   "metadata": {},
   "outputs": [
    {
     "data": {
      "text/plain": [
       "74.51"
      ]
     },
     "execution_count": 133,
     "metadata": {},
     "output_type": "execute_result"
    }
   ],
   "source": [
    "# 74.51% of TV Shows are produced by the top ten countries.\n",
    "percentage_tvshow_top10 = round((top10_total_tvshows / len(tvshow))*100, 2)\n",
    "percentage_tvshow_top10"
   ]
  },
  {
   "cell_type": "code",
   "execution_count": 134,
   "id": "10b67599",
   "metadata": {},
   "outputs": [
    {
     "data": {
      "text/plain": [
       "country\n",
       "United States     760\n",
       "UnKnown           391\n",
       "United Kingdom    213\n",
       "Japan             169\n",
       "South Korea       158\n",
       "India              79\n",
       "Taiwan             68\n",
       "Canada             59\n",
       "France             49\n",
       "Spain              48\n",
       "Name: count, dtype: int64"
      ]
     },
     "execution_count": 134,
     "metadata": {},
     "output_type": "execute_result"
    }
   ],
   "source": [
    "#Index into the top ten countries producing tv shows. \n",
    "# There are no unknown countries in the list. \n",
    "\n",
    "countries_tvshows_top10 = tvshow['country'].value_counts()[0:10]\n",
    "countries_tvshows_top10"
   ]
  },
  {
   "cell_type": "code",
   "execution_count": 135,
   "id": "7cbdebd0",
   "metadata": {},
   "outputs": [
    {
     "data": {
      "image/png": "[encoded data removed]",
      "text/plain": [
       "<Figure size 640x480 with 1 Axes>"
      ]
     },
     "metadata": {},
     "output_type": "display_data"
    }
   ],
   "source": [
    "# Plot the data on a barchart\n",
    "countries_tvshows_top10.plot(kind='bar', title='Top Ten Countries for TV Show Production');\n"
   ]
  },
  {
   "cell_type": "markdown",
   "id": "6fa1c4cf",
   "metadata": {},
   "source": [
    "# Genre Analysis: Prevalence / Popularity.\n",
    "\n",
    "\n",
    "As part of the genre analysis, I will explore the 'directors' and 'listed_in' columns."
   ]
  },
  {
   "cell_type": "code",
   "execution_count": 137,
   "id": "e7843d9a",
   "metadata": {},
   "outputs": [
    {
     "data": {
      "text/plain": [
       "514"
      ]
     },
     "execution_count": 137,
     "metadata": {},
     "output_type": "execute_result"
    }
   ],
   "source": [
    "# There is an exhaustive list of genres in the dataset.\n",
    "netflix[\"listed_in\"].nunique()"
   ]
  },
  {
   "cell_type": "code",
   "execution_count": 138,
   "id": "745735c2",
   "metadata": {},
   "outputs": [
    {
     "data": {
      "text/plain": [
       "listed_in\n",
       "Dramas, International Movies                        362\n",
       "Documentaries                                       359\n",
       "Stand-Up Comedy                                     334\n",
       "Comedies, Dramas, International Movies              274\n",
       "Dramas, Independent Movies, International Movies    252\n",
       "Kids' TV                                            220\n",
       "Children & Family Movies                            215\n",
       "Children & Family Movies, Comedies                  201\n",
       "Documentaries, International Movies                 186\n",
       "Dramas, International Movies, Romantic Movies       180\n",
       "Name: count, dtype: int64"
      ]
     },
     "execution_count": 138,
     "metadata": {},
     "output_type": "execute_result"
    }
   ],
   "source": [
    "# Repetition of genres with lengthy strings, containing genres as well as subgenres.\n",
    "netflix['listed_in'].value_counts().head(10)\n"
   ]
  },
  {
   "cell_type": "code",
   "execution_count": 139,
   "id": "90e121ce",
   "metadata": {},
   "outputs": [
    {
     "data": {
      "text/plain": [
       "listed_in\n",
       " International Movies     2624\n",
       "Dramas                    1600\n",
       "Comedies                  1210\n",
       "Action & Adventure         859\n",
       "Documentaries              829\n",
       " Dramas                    827\n",
       "International TV Shows     774\n",
       " Independent Movies        736\n",
       " TV Dramas                 696\n",
       " Romantic Movies           613\n",
       "Name: count, dtype: int64"
      ]
     },
     "execution_count": 139,
     "metadata": {},
     "output_type": "execute_result"
    }
   ],
   "source": [
    "top_10_genre = netflix['listed_in'].str.split(',').explode().value_counts().head(10)\n",
    "top_10_genre"
   ]
  },
  {
   "cell_type": "code",
   "execution_count": 140,
   "id": "133d5670",
   "metadata": {},
   "outputs": [
    {
     "data": {
      "image/png": "[encoded data removed]",
      "text/plain": [
       "<Figure size 1400x800 with 1 Axes>"
      ]
     },
     "metadata": {},
     "output_type": "display_data"
    }
   ],
   "source": [
    "plt.figure(figsize=(14, 8))\n",
    "sns.barplot(y=top_10_genre.index, x=top_10_genre.values, palette='dark')\n",
    "plt.title('Netflix: Top 10 Genres')\n",
    "plt.xlabel('Number of Titles')\n",
    "plt.ylabel('Genre')\n",
    "plt.show()\n"
   ]
  },
  {
   "cell_type": "code",
   "execution_count": 145,
   "id": "2012db8c",
   "metadata": {},
   "outputs": [
    {
     "data": {
      "text/plain": [
       "director\n",
       "Rajiv Chilaka             19\n",
       "Raúl Campos, Jan Suter    18\n",
       "Suhas Kadav               16\n",
       "Marcus Raboy              16\n",
       "Jay Karas                 14\n",
       "Cathy Garcia-Molina       13\n",
       "Jay Chapman               12\n",
       "Youssef Chahine           12\n",
       "Martin Scorsese           12\n",
       "Steven Spielberg          11\n",
       "Name: count, dtype: int64"
      ]
     },
     "execution_count": 145,
     "metadata": {},
     "output_type": "execute_result"
    }
   ],
   "source": [
    "# Top 10 directors\n",
    "top_10_directors = netflix['director'].value_counts().drop('No Director').head(10)\n",
    "top_10_directors"
   ]
  },
  {
   "cell_type": "code",
   "execution_count": 146,
   "id": "b6d0de07",
   "metadata": {},
   "outputs": [
    {
     "data": {
      "image/png": "[encoded data removed]",
      "text/plain": [
       "<Figure size 640x480 with 1 Axes>"
      ]
     },
     "metadata": {},
     "output_type": "display_data"
    }
   ],
   "source": [
    "sns.barplot(y=top_10_directors.index, x=top_10_directors.values, palette='flare')\n",
    "plt.title('Netflix: Top 10 Directors')\n",
    "plt.xlabel('Number of Titles')\n",
    "plt.ylabel('Director');"
   ]
  },
  {
   "cell_type": "code",
   "execution_count": 147,
   "id": "5e2df7b7",
   "metadata": {},
   "outputs": [
    {
     "data": {
      "text/html": [
       "<div>\n",
       "<style scoped>\n",
       "    .dataframe tbody tr th:only-of-type {\n",
       "        vertical-align: middle;\n",
       "    }\n",
       "\n",
       "    .dataframe tbody tr th {\n",
       "        vertical-align: top;\n",
       "    }\n",
       "\n",
       "    .dataframe thead th {\n",
       "        text-align: right;\n",
       "    }\n",
       "</style>\n",
       "<table border=\"1\" class=\"dataframe\">\n",
       "  <thead>\n",
       "    <tr style=\"text-align: right;\">\n",
       "      <th></th>\n",
       "      <th>type</th>\n",
       "      <th>title</th>\n",
       "      <th>director</th>\n",
       "      <th>cast</th>\n",
       "      <th>country</th>\n",
       "      <th>date_added</th>\n",
       "      <th>release_year</th>\n",
       "      <th>rating</th>\n",
       "      <th>duration</th>\n",
       "      <th>listed_in</th>\n",
       "      <th>description</th>\n",
       "    </tr>\n",
       "    <tr>\n",
       "      <th>show_id</th>\n",
       "      <th></th>\n",
       "      <th></th>\n",
       "      <th></th>\n",
       "      <th></th>\n",
       "      <th></th>\n",
       "      <th></th>\n",
       "      <th></th>\n",
       "      <th></th>\n",
       "      <th></th>\n",
       "      <th></th>\n",
       "      <th></th>\n",
       "    </tr>\n",
       "  </thead>\n",
       "  <tbody>\n",
       "    <tr>\n",
       "      <th>407</th>\n",
       "      <td>Movie</td>\n",
       "      <td>Chhota Bheem - Neeli Pahaadi</td>\n",
       "      <td>Rajiv Chilaka</td>\n",
       "      <td>Vatsal Dubey, Julie Tejwani, Rupa Bhimani, Jig...</td>\n",
       "      <td>UnKnown</td>\n",
       "      <td>2021-07-22</td>\n",
       "      <td>2013</td>\n",
       "      <td>TV-Y7</td>\n",
       "      <td>64 min</td>\n",
       "      <td>Children &amp; Family Movies</td>\n",
       "      <td>Things get spooky when Bheem and his buddies t...</td>\n",
       "    </tr>\n",
       "    <tr>\n",
       "      <th>408</th>\n",
       "      <td>Movie</td>\n",
       "      <td>Chhota Bheem &amp; Ganesh</td>\n",
       "      <td>Rajiv Chilaka</td>\n",
       "      <td>Vatsal Dubey, Julie Tejwani, Rupa Bhimani, Jig...</td>\n",
       "      <td>UnKnown</td>\n",
       "      <td>2021-07-22</td>\n",
       "      <td>2009</td>\n",
       "      <td>TV-Y7</td>\n",
       "      <td>68 min</td>\n",
       "      <td>Children &amp; Family Movies</td>\n",
       "      <td>Bheem and Lord Ganesha join forces to save Dho...</td>\n",
       "    </tr>\n",
       "    <tr>\n",
       "      <th>409</th>\n",
       "      <td>Movie</td>\n",
       "      <td>Chhota Bheem &amp; Krishna: Mayanagari</td>\n",
       "      <td>Rajiv Chilaka</td>\n",
       "      <td>Vatsal Dubey, Julie Tejwani, Rupa Bhimani, Jig...</td>\n",
       "      <td>UnKnown</td>\n",
       "      <td>2021-07-22</td>\n",
       "      <td>2011</td>\n",
       "      <td>TV-Y7</td>\n",
       "      <td>67 min</td>\n",
       "      <td>Children &amp; Family Movies</td>\n",
       "      <td>Young lord Krishna has fallen for demoness Maa...</td>\n",
       "    </tr>\n",
       "    <tr>\n",
       "      <th>410</th>\n",
       "      <td>Movie</td>\n",
       "      <td>Chhota Bheem &amp; Krishna: Pataliputra- City of t...</td>\n",
       "      <td>Rajiv Chilaka</td>\n",
       "      <td>Vatsal Dubey, Julie Tejwani, Rupa Bhimani, Jig...</td>\n",
       "      <td>UnKnown</td>\n",
       "      <td>2021-07-22</td>\n",
       "      <td>2010</td>\n",
       "      <td>TV-Y7</td>\n",
       "      <td>66 min</td>\n",
       "      <td>Children &amp; Family Movies</td>\n",
       "      <td>Krishna needs Bheem’s help: The ruined city of...</td>\n",
       "    </tr>\n",
       "  </tbody>\n",
       "</table>\n",
       "</div>"
      ],
      "text/plain": [
       "          type                                              title  \\\n",
       "show_id                                                             \n",
       " 407     Movie                       Chhota Bheem - Neeli Pahaadi   \n",
       " 408     Movie                              Chhota Bheem & Ganesh   \n",
       " 409     Movie                 Chhota Bheem & Krishna: Mayanagari   \n",
       " 410     Movie  Chhota Bheem & Krishna: Pataliputra- City of t...   \n",
       "\n",
       "              director                                               cast  \\\n",
       "show_id                                                                     \n",
       " 407     Rajiv Chilaka  Vatsal Dubey, Julie Tejwani, Rupa Bhimani, Jig...   \n",
       " 408     Rajiv Chilaka  Vatsal Dubey, Julie Tejwani, Rupa Bhimani, Jig...   \n",
       " 409     Rajiv Chilaka  Vatsal Dubey, Julie Tejwani, Rupa Bhimani, Jig...   \n",
       " 410     Rajiv Chilaka  Vatsal Dubey, Julie Tejwani, Rupa Bhimani, Jig...   \n",
       "\n",
       "         country date_added  release_year rating duration  \\\n",
       "show_id                                                     \n",
       " 407     UnKnown 2021-07-22          2013  TV-Y7   64 min   \n",
       " 408     UnKnown 2021-07-22          2009  TV-Y7   68 min   \n",
       " 409     UnKnown 2021-07-22          2011  TV-Y7   67 min   \n",
       " 410     UnKnown 2021-07-22          2010  TV-Y7   66 min   \n",
       "\n",
       "                        listed_in  \\\n",
       "show_id                             \n",
       " 407     Children & Family Movies   \n",
       " 408     Children & Family Movies   \n",
       " 409     Children & Family Movies   \n",
       " 410     Children & Family Movies   \n",
       "\n",
       "                                               description  \n",
       "show_id                                                     \n",
       " 407     Things get spooky when Bheem and his buddies t...  \n",
       " 408     Bheem and Lord Ganesha join forces to save Dho...  \n",
       " 409     Young lord Krishna has fallen for demoness Maa...  \n",
       " 410     Krishna needs Bheem’s help: The ruined city of...  "
      ]
     },
     "execution_count": 147,
     "metadata": {},
     "output_type": "execute_result"
    }
   ],
   "source": [
    "# Explore director information:\n",
    "# movies created India\n",
    "\n",
    "netflix[netflix['director'] == 'Rajiv Chilaka'].head(4)"
   ]
  },
  {
   "cell_type": "code",
   "execution_count": 148,
   "id": "cc10e46e",
   "metadata": {},
   "outputs": [
    {
     "data": {
      "text/html": [
       "<div>\n",
       "<style scoped>\n",
       "    .dataframe tbody tr th:only-of-type {\n",
       "        vertical-align: middle;\n",
       "    }\n",
       "\n",
       "    .dataframe tbody tr th {\n",
       "        vertical-align: top;\n",
       "    }\n",
       "\n",
       "    .dataframe thead th {\n",
       "        text-align: right;\n",
       "    }\n",
       "</style>\n",
       "<table border=\"1\" class=\"dataframe\">\n",
       "  <thead>\n",
       "    <tr style=\"text-align: right;\">\n",
       "      <th></th>\n",
       "      <th>type</th>\n",
       "      <th>title</th>\n",
       "      <th>director</th>\n",
       "      <th>cast</th>\n",
       "      <th>country</th>\n",
       "      <th>date_added</th>\n",
       "      <th>release_year</th>\n",
       "      <th>rating</th>\n",
       "      <th>duration</th>\n",
       "      <th>listed_in</th>\n",
       "      <th>description</th>\n",
       "    </tr>\n",
       "    <tr>\n",
       "      <th>show_id</th>\n",
       "      <th></th>\n",
       "      <th></th>\n",
       "      <th></th>\n",
       "      <th></th>\n",
       "      <th></th>\n",
       "      <th></th>\n",
       "      <th></th>\n",
       "      <th></th>\n",
       "      <th></th>\n",
       "      <th></th>\n",
       "      <th></th>\n",
       "    </tr>\n",
       "  </thead>\n",
       "  <tbody>\n",
       "    <tr>\n",
       "      <th>4750</th>\n",
       "      <td>Movie</td>\n",
       "      <td>Coco y Raulito: Carrusel de ternura</td>\n",
       "      <td>Raúl Campos, Jan Suter</td>\n",
       "      <td>Coco Celis, Raúl Meneses</td>\n",
       "      <td>Mexico</td>\n",
       "      <td>2018-07-27</td>\n",
       "      <td>2018</td>\n",
       "      <td>TV-MA</td>\n",
       "      <td>57 min</td>\n",
       "      <td>Stand-Up Comedy</td>\n",
       "      <td>A study in contrasts, comedy partners and good...</td>\n",
       "    </tr>\n",
       "    <tr>\n",
       "      <th>4782</th>\n",
       "      <td>Movie</td>\n",
       "      <td>Luciano Mellera: Infantiloide</td>\n",
       "      <td>Raúl Campos, Jan Suter</td>\n",
       "      <td>Luciano Mellera</td>\n",
       "      <td>Argentina</td>\n",
       "      <td>2018-07-06</td>\n",
       "      <td>2018</td>\n",
       "      <td>TV-14</td>\n",
       "      <td>66 min</td>\n",
       "      <td>Stand-Up Comedy</td>\n",
       "      <td>Argentina's Luciano Mellera emphasizes the hum...</td>\n",
       "    </tr>\n",
       "    <tr>\n",
       "      <th>4809</th>\n",
       "      <td>Movie</td>\n",
       "      <td>Jani Dueñas: Grandes fracasos de ayer y hoy</td>\n",
       "      <td>Raúl Campos, Jan Suter</td>\n",
       "      <td>Jani Dueñas</td>\n",
       "      <td>Chile</td>\n",
       "      <td>2018-06-29</td>\n",
       "      <td>2018</td>\n",
       "      <td>TV-MA</td>\n",
       "      <td>77 min</td>\n",
       "      <td>Stand-Up Comedy</td>\n",
       "      <td>Chilean comedian and personality Jani Dueñas p...</td>\n",
       "    </tr>\n",
       "    <tr>\n",
       "      <th>4850</th>\n",
       "      <td>Movie</td>\n",
       "      <td>Fernando Sanjiao: Hombre</td>\n",
       "      <td>Raúl Campos, Jan Suter</td>\n",
       "      <td>Fernando Sanjiao</td>\n",
       "      <td>Argentina</td>\n",
       "      <td>2018-05-25</td>\n",
       "      <td>2018</td>\n",
       "      <td>TV-MA</td>\n",
       "      <td>63 min</td>\n",
       "      <td>Stand-Up Comedy</td>\n",
       "      <td>Argentine actor and comedian Fernando Sanjiao ...</td>\n",
       "    </tr>\n",
       "  </tbody>\n",
       "</table>\n",
       "</div>"
      ],
      "text/plain": [
       "          type                                        title  \\\n",
       "show_id                                                       \n",
       " 4750    Movie          Coco y Raulito: Carrusel de ternura   \n",
       " 4782    Movie                Luciano Mellera: Infantiloide   \n",
       " 4809    Movie  Jani Dueñas: Grandes fracasos de ayer y hoy   \n",
       " 4850    Movie                     Fernando Sanjiao: Hombre   \n",
       "\n",
       "                       director                      cast    country  \\\n",
       "show_id                                                                \n",
       " 4750    Raúl Campos, Jan Suter  Coco Celis, Raúl Meneses     Mexico   \n",
       " 4782    Raúl Campos, Jan Suter           Luciano Mellera  Argentina   \n",
       " 4809    Raúl Campos, Jan Suter               Jani Dueñas      Chile   \n",
       " 4850    Raúl Campos, Jan Suter          Fernando Sanjiao  Argentina   \n",
       "\n",
       "        date_added  release_year rating duration        listed_in  \\\n",
       "show_id                                                             \n",
       " 4750   2018-07-27          2018  TV-MA   57 min  Stand-Up Comedy   \n",
       " 4782   2018-07-06          2018  TV-14   66 min  Stand-Up Comedy   \n",
       " 4809   2018-06-29          2018  TV-MA   77 min  Stand-Up Comedy   \n",
       " 4850   2018-05-25          2018  TV-MA   63 min  Stand-Up Comedy   \n",
       "\n",
       "                                               description  \n",
       "show_id                                                     \n",
       " 4750    A study in contrasts, comedy partners and good...  \n",
       " 4782    Argentina's Luciano Mellera emphasizes the hum...  \n",
       " 4809    Chilean comedian and personality Jani Dueñas p...  \n",
       " 4850    Argentine actor and comedian Fernando Sanjiao ...  "
      ]
     },
     "execution_count": 148,
     "metadata": {},
     "output_type": "execute_result"
    }
   ],
   "source": [
    "# movies created in the Hispanic countries\n",
    "\n",
    "netflix[netflix['director'] == 'Raúl Campos, Jan Suter'].head(4)\n"
   ]
  },
  {
   "cell_type": "code",
   "execution_count": 149,
   "id": "a23f9ba1",
   "metadata": {},
   "outputs": [
    {
     "data": {
      "text/html": [
       "<div>\n",
       "<style scoped>\n",
       "    .dataframe tbody tr th:only-of-type {\n",
       "        vertical-align: middle;\n",
       "    }\n",
       "\n",
       "    .dataframe tbody tr th {\n",
       "        vertical-align: top;\n",
       "    }\n",
       "\n",
       "    .dataframe thead th {\n",
       "        text-align: right;\n",
       "    }\n",
       "</style>\n",
       "<table border=\"1\" class=\"dataframe\">\n",
       "  <thead>\n",
       "    <tr style=\"text-align: right;\">\n",
       "      <th></th>\n",
       "      <th>type</th>\n",
       "      <th>title</th>\n",
       "      <th>director</th>\n",
       "      <th>cast</th>\n",
       "      <th>country</th>\n",
       "      <th>date_added</th>\n",
       "      <th>release_year</th>\n",
       "      <th>rating</th>\n",
       "      <th>duration</th>\n",
       "      <th>listed_in</th>\n",
       "      <th>description</th>\n",
       "    </tr>\n",
       "    <tr>\n",
       "      <th>show_id</th>\n",
       "      <th></th>\n",
       "      <th></th>\n",
       "      <th></th>\n",
       "      <th></th>\n",
       "      <th></th>\n",
       "      <th></th>\n",
       "      <th></th>\n",
       "      <th></th>\n",
       "      <th></th>\n",
       "      <th></th>\n",
       "      <th></th>\n",
       "    </tr>\n",
       "  </thead>\n",
       "  <tbody>\n",
       "    <tr>\n",
       "      <th>6811</th>\n",
       "      <td>TV Show</td>\n",
       "      <td>Frozen Planet</td>\n",
       "      <td>Alastair Fothergill</td>\n",
       "      <td>David Attenborough</td>\n",
       "      <td>United Kingdom, United States, Spain, Germany,...</td>\n",
       "      <td>2016-01-28</td>\n",
       "      <td>2011</td>\n",
       "      <td>TV-PG</td>\n",
       "      <td>1 Season</td>\n",
       "      <td>British TV Shows, Docuseries, International TV...</td>\n",
       "      <td>Go on a journey through the Arctic and Antarct...</td>\n",
       "    </tr>\n",
       "    <tr>\n",
       "      <th>7749</th>\n",
       "      <td>TV Show</td>\n",
       "      <td>Planet Earth: The Complete Collection</td>\n",
       "      <td>Alastair Fothergill</td>\n",
       "      <td>David Attenborough</td>\n",
       "      <td>United Kingdom</td>\n",
       "      <td>2015-04-22</td>\n",
       "      <td>2006</td>\n",
       "      <td>TV-PG</td>\n",
       "      <td>1 Season</td>\n",
       "      <td>British TV Shows, Docuseries, International TV...</td>\n",
       "      <td>This landmark series transports nature lovers ...</td>\n",
       "    </tr>\n",
       "    <tr>\n",
       "      <th>8215</th>\n",
       "      <td>TV Show</td>\n",
       "      <td>The Blue Planet: A Natural History of the Oceans</td>\n",
       "      <td>Alastair Fothergill</td>\n",
       "      <td>David Attenborough</td>\n",
       "      <td>United Kingdom</td>\n",
       "      <td>2015-10-10</td>\n",
       "      <td>2001</td>\n",
       "      <td>TV-G</td>\n",
       "      <td>1 Season</td>\n",
       "      <td>British TV Shows, Docuseries, International TV...</td>\n",
       "      <td>David Attenborough narrates this definitive ex...</td>\n",
       "    </tr>\n",
       "  </tbody>\n",
       "</table>\n",
       "</div>"
      ],
      "text/plain": [
       "            type                                             title  \\\n",
       "show_id                                                              \n",
       " 6811    TV Show                                     Frozen Planet   \n",
       " 7749    TV Show             Planet Earth: The Complete Collection   \n",
       " 8215    TV Show  The Blue Planet: A Natural History of the Oceans   \n",
       "\n",
       "                    director                cast  \\\n",
       "show_id                                            \n",
       " 6811    Alastair Fothergill  David Attenborough   \n",
       " 7749    Alastair Fothergill  David Attenborough   \n",
       " 8215    Alastair Fothergill  David Attenborough   \n",
       "\n",
       "                                                   country date_added  \\\n",
       "show_id                                                                 \n",
       " 6811    United Kingdom, United States, Spain, Germany,... 2016-01-28   \n",
       " 7749                                       United Kingdom 2015-04-22   \n",
       " 8215                                       United Kingdom 2015-10-10   \n",
       "\n",
       "         release_year rating  duration  \\\n",
       "show_id                                  \n",
       " 6811            2011  TV-PG  1 Season   \n",
       " 7749            2006  TV-PG  1 Season   \n",
       " 8215            2001   TV-G  1 Season   \n",
       "\n",
       "                                                 listed_in  \\\n",
       "show_id                                                      \n",
       " 6811    British TV Shows, Docuseries, International TV...   \n",
       " 7749    British TV Shows, Docuseries, International TV...   \n",
       " 8215    British TV Shows, Docuseries, International TV...   \n",
       "\n",
       "                                               description  \n",
       "show_id                                                     \n",
       " 6811    Go on a journey through the Arctic and Antarct...  \n",
       " 7749    This landmark series transports nature lovers ...  \n",
       " 8215    David Attenborough narrates this definitive ex...  "
      ]
     },
     "execution_count": 149,
     "metadata": {},
     "output_type": "execute_result"
    }
   ],
   "source": [
    "# British content\n",
    "\n",
    "netflix[netflix['director'] == 'Alastair Fothergill'].head(3)"
   ]
  },
  {
   "cell_type": "code",
   "execution_count": 150,
   "id": "8e2d9d5a",
   "metadata": {},
   "outputs": [
    {
     "data": {
      "text/html": [
       "<div>\n",
       "<style scoped>\n",
       "    .dataframe tbody tr th:only-of-type {\n",
       "        vertical-align: middle;\n",
       "    }\n",
       "\n",
       "    .dataframe tbody tr th {\n",
       "        vertical-align: top;\n",
       "    }\n",
       "\n",
       "    .dataframe thead th {\n",
       "        text-align: right;\n",
       "    }\n",
       "</style>\n",
       "<table border=\"1\" class=\"dataframe\">\n",
       "  <thead>\n",
       "    <tr style=\"text-align: right;\">\n",
       "      <th></th>\n",
       "      <th>type</th>\n",
       "      <th>title</th>\n",
       "      <th>director</th>\n",
       "      <th>cast</th>\n",
       "      <th>country</th>\n",
       "      <th>date_added</th>\n",
       "      <th>release_year</th>\n",
       "      <th>rating</th>\n",
       "      <th>duration</th>\n",
       "      <th>listed_in</th>\n",
       "      <th>description</th>\n",
       "    </tr>\n",
       "    <tr>\n",
       "      <th>show_id</th>\n",
       "      <th></th>\n",
       "      <th></th>\n",
       "      <th></th>\n",
       "      <th></th>\n",
       "      <th></th>\n",
       "      <th></th>\n",
       "      <th></th>\n",
       "      <th></th>\n",
       "      <th></th>\n",
       "      <th></th>\n",
       "      <th></th>\n",
       "    </tr>\n",
       "  </thead>\n",
       "  <tbody>\n",
       "    <tr>\n",
       "      <th>28</th>\n",
       "      <td>Movie</td>\n",
       "      <td>Grown Ups</td>\n",
       "      <td>Dennis Dugan</td>\n",
       "      <td>Adam Sandler, Kevin James, Chris Rock, David S...</td>\n",
       "      <td>United States</td>\n",
       "      <td>2021-09-20</td>\n",
       "      <td>2010</td>\n",
       "      <td>PG-13</td>\n",
       "      <td>103 min</td>\n",
       "      <td>Comedies</td>\n",
       "      <td>Mourning the loss of their beloved junior high...</td>\n",
       "    </tr>\n",
       "    <tr>\n",
       "      <th>153</th>\n",
       "      <td>Movie</td>\n",
       "      <td>Janoskians: Untold and Untrue</td>\n",
       "      <td>Brett Weiner</td>\n",
       "      <td>Jai Brooks, Luke Brooks, James Yammouni, Danie...</td>\n",
       "      <td>United States</td>\n",
       "      <td>2021-09-01</td>\n",
       "      <td>2016</td>\n",
       "      <td>TV-MA</td>\n",
       "      <td>88 min</td>\n",
       "      <td>Comedies</td>\n",
       "      <td>Follow the story of three Australian brothers ...</td>\n",
       "    </tr>\n",
       "    <tr>\n",
       "      <th>183</th>\n",
       "      <td>Movie</td>\n",
       "      <td>Welcome Home Roscoe Jenkins</td>\n",
       "      <td>Malcolm D. Lee</td>\n",
       "      <td>Martin Lawrence, James Earl Jones, Joy Bryant,...</td>\n",
       "      <td>United States</td>\n",
       "      <td>2021-09-01</td>\n",
       "      <td>2008</td>\n",
       "      <td>PG-13</td>\n",
       "      <td>114 min</td>\n",
       "      <td>Comedies</td>\n",
       "      <td>R.J. travels to Georgia for his parents' 50th ...</td>\n",
       "    </tr>\n",
       "    <tr>\n",
       "      <th>343</th>\n",
       "      <td>Movie</td>\n",
       "      <td>Major Payne</td>\n",
       "      <td>Nick Castle</td>\n",
       "      <td>Damon Wayans, Karyn Parsons, William Hickey, M...</td>\n",
       "      <td>United States</td>\n",
       "      <td>2021-08-01</td>\n",
       "      <td>1995</td>\n",
       "      <td>PG-13</td>\n",
       "      <td>97 min</td>\n",
       "      <td>Comedies</td>\n",
       "      <td>A hardened Marine is given his marching orders...</td>\n",
       "    </tr>\n",
       "    <tr>\n",
       "      <th>349</th>\n",
       "      <td>Movie</td>\n",
       "      <td>Poms</td>\n",
       "      <td>Zara Hayes</td>\n",
       "      <td>Diane Keaton, Jacki Weaver, Pam Grier, Rhea Pe...</td>\n",
       "      <td>United Kingdom, United States</td>\n",
       "      <td>2021-08-01</td>\n",
       "      <td>2019</td>\n",
       "      <td>PG-13</td>\n",
       "      <td>91 min</td>\n",
       "      <td>Comedies</td>\n",
       "      <td>After moving to a retirement community, loner ...</td>\n",
       "    </tr>\n",
       "  </tbody>\n",
       "</table>\n",
       "</div>"
      ],
      "text/plain": [
       "          type                          title        director  \\\n",
       "show_id                                                         \n",
       " 28      Movie                      Grown Ups    Dennis Dugan   \n",
       " 153     Movie  Janoskians: Untold and Untrue    Brett Weiner   \n",
       " 183     Movie    Welcome Home Roscoe Jenkins  Malcolm D. Lee   \n",
       " 343     Movie                    Major Payne     Nick Castle   \n",
       " 349     Movie                           Poms      Zara Hayes   \n",
       "\n",
       "                                                      cast  \\\n",
       "show_id                                                      \n",
       " 28      Adam Sandler, Kevin James, Chris Rock, David S...   \n",
       " 153     Jai Brooks, Luke Brooks, James Yammouni, Danie...   \n",
       " 183     Martin Lawrence, James Earl Jones, Joy Bryant,...   \n",
       " 343     Damon Wayans, Karyn Parsons, William Hickey, M...   \n",
       " 349     Diane Keaton, Jacki Weaver, Pam Grier, Rhea Pe...   \n",
       "\n",
       "                               country date_added  release_year rating  \\\n",
       "show_id                                                                  \n",
       " 28                      United States 2021-09-20          2010  PG-13   \n",
       " 153                     United States 2021-09-01          2016  TV-MA   \n",
       " 183                     United States 2021-09-01          2008  PG-13   \n",
       " 343                     United States 2021-08-01          1995  PG-13   \n",
       " 349     United Kingdom, United States 2021-08-01          2019  PG-13   \n",
       "\n",
       "        duration listed_in                                        description  \n",
       "show_id                                                                        \n",
       " 28      103 min  Comedies  Mourning the loss of their beloved junior high...  \n",
       " 153      88 min  Comedies  Follow the story of three Australian brothers ...  \n",
       " 183     114 min  Comedies  R.J. travels to Georgia for his parents' 50th ...  \n",
       " 343      97 min  Comedies  A hardened Marine is given his marching orders...  \n",
       " 349      91 min  Comedies  After moving to a retirement community, loner ...  "
      ]
     },
     "execution_count": 150,
     "metadata": {},
     "output_type": "execute_result"
    }
   ],
   "source": [
    "# United States have produced significant cmedy content.\n",
    "\n",
    "netflix[netflix['listed_in'] == 'Comedies'].head()"
   ]
  },
  {
   "cell_type": "markdown",
   "id": "1e8c45a0",
   "metadata": {},
   "source": [
    "# Type of content and its ratings on Netflix\n"
   ]
  },
  {
   "cell_type": "code",
   "execution_count": 151,
   "id": "3a8fab51",
   "metadata": {},
   "outputs": [
    {
     "data": {
      "text/plain": [
       "15"
      ]
     },
     "execution_count": 151,
     "metadata": {},
     "output_type": "execute_result"
    }
   ],
   "source": [
    "# There are 15 ratings\n",
    "\n",
    "netflix['rating'].nunique()"
   ]
  },
  {
   "cell_type": "code",
   "execution_count": 153,
   "id": "cf003eb1",
   "metadata": {},
   "outputs": [
    {
     "data": {
      "text/html": [
       "<div>\n",
       "<style scoped>\n",
       "    .dataframe tbody tr th:only-of-type {\n",
       "        vertical-align: middle;\n",
       "    }\n",
       "\n",
       "    .dataframe tbody tr th {\n",
       "        vertical-align: top;\n",
       "    }\n",
       "\n",
       "    .dataframe thead th {\n",
       "        text-align: right;\n",
       "    }\n",
       "</style>\n",
       "<table border=\"1\" class=\"dataframe\">\n",
       "  <thead>\n",
       "    <tr style=\"text-align: right;\">\n",
       "      <th></th>\n",
       "      <th></th>\n",
       "      <th>count</th>\n",
       "    </tr>\n",
       "    <tr>\n",
       "      <th>type</th>\n",
       "      <th>rating</th>\n",
       "      <th></th>\n",
       "    </tr>\n",
       "  </thead>\n",
       "  <tbody>\n",
       "    <tr>\n",
       "      <th rowspan=\"15\" valign=\"top\">Movie</th>\n",
       "      <th>TV-MA</th>\n",
       "      <td>2062</td>\n",
       "    </tr>\n",
       "    <tr>\n",
       "      <th>TV-14</th>\n",
       "      <td>1427</td>\n",
       "    </tr>\n",
       "    <tr>\n",
       "      <th>R</th>\n",
       "      <td>797</td>\n",
       "    </tr>\n",
       "    <tr>\n",
       "      <th>TV-PG</th>\n",
       "      <td>540</td>\n",
       "    </tr>\n",
       "    <tr>\n",
       "      <th>PG-13</th>\n",
       "      <td>490</td>\n",
       "    </tr>\n",
       "    <tr>\n",
       "      <th>PG</th>\n",
       "      <td>287</td>\n",
       "    </tr>\n",
       "    <tr>\n",
       "      <th>TV-Y7</th>\n",
       "      <td>139</td>\n",
       "    </tr>\n",
       "    <tr>\n",
       "      <th>TV-Y</th>\n",
       "      <td>131</td>\n",
       "    </tr>\n",
       "    <tr>\n",
       "      <th>TV-G</th>\n",
       "      <td>126</td>\n",
       "    </tr>\n",
       "    <tr>\n",
       "      <th>NR</th>\n",
       "      <td>75</td>\n",
       "    </tr>\n",
       "    <tr>\n",
       "      <th>G</th>\n",
       "      <td>41</td>\n",
       "    </tr>\n",
       "    <tr>\n",
       "      <th>TV-Y7-FV</th>\n",
       "      <td>5</td>\n",
       "    </tr>\n",
       "    <tr>\n",
       "      <th>Unknown</th>\n",
       "      <td>5</td>\n",
       "    </tr>\n",
       "    <tr>\n",
       "      <th>UR</th>\n",
       "      <td>3</td>\n",
       "    </tr>\n",
       "    <tr>\n",
       "      <th>NC-17</th>\n",
       "      <td>3</td>\n",
       "    </tr>\n",
       "    <tr>\n",
       "      <th rowspan=\"15\" valign=\"top\">TV Show</th>\n",
       "      <th>TV-MA</th>\n",
       "      <td>1145</td>\n",
       "    </tr>\n",
       "    <tr>\n",
       "      <th>TV-14</th>\n",
       "      <td>733</td>\n",
       "    </tr>\n",
       "    <tr>\n",
       "      <th>TV-PG</th>\n",
       "      <td>323</td>\n",
       "    </tr>\n",
       "    <tr>\n",
       "      <th>TV-Y7</th>\n",
       "      <td>195</td>\n",
       "    </tr>\n",
       "    <tr>\n",
       "      <th>TV-Y</th>\n",
       "      <td>176</td>\n",
       "    </tr>\n",
       "    <tr>\n",
       "      <th>TV-G</th>\n",
       "      <td>94</td>\n",
       "    </tr>\n",
       "    <tr>\n",
       "      <th>NR</th>\n",
       "      <td>5</td>\n",
       "    </tr>\n",
       "    <tr>\n",
       "      <th>Unknown</th>\n",
       "      <td>2</td>\n",
       "    </tr>\n",
       "    <tr>\n",
       "      <th>R</th>\n",
       "      <td>2</td>\n",
       "    </tr>\n",
       "    <tr>\n",
       "      <th>TV-Y7-FV</th>\n",
       "      <td>1</td>\n",
       "    </tr>\n",
       "    <tr>\n",
       "      <th>PG-13</th>\n",
       "      <td>0</td>\n",
       "    </tr>\n",
       "    <tr>\n",
       "      <th>PG</th>\n",
       "      <td>0</td>\n",
       "    </tr>\n",
       "    <tr>\n",
       "      <th>NC-17</th>\n",
       "      <td>0</td>\n",
       "    </tr>\n",
       "    <tr>\n",
       "      <th>UR</th>\n",
       "      <td>0</td>\n",
       "    </tr>\n",
       "    <tr>\n",
       "      <th>G</th>\n",
       "      <td>0</td>\n",
       "    </tr>\n",
       "  </tbody>\n",
       "</table>\n",
       "</div>"
      ],
      "text/plain": [
       "                  count\n",
       "type    rating         \n",
       "Movie   TV-MA      2062\n",
       "        TV-14      1427\n",
       "        R           797\n",
       "        TV-PG       540\n",
       "        PG-13       490\n",
       "        PG          287\n",
       "        TV-Y7       139\n",
       "        TV-Y        131\n",
       "        TV-G        126\n",
       "        NR           75\n",
       "        G            41\n",
       "        TV-Y7-FV      5\n",
       "        Unknown       5\n",
       "        UR            3\n",
       "        NC-17         3\n",
       "TV Show TV-MA      1145\n",
       "        TV-14       733\n",
       "        TV-PG       323\n",
       "        TV-Y7       195\n",
       "        TV-Y        176\n",
       "        TV-G         94\n",
       "        NR            5\n",
       "        Unknown       2\n",
       "        R             2\n",
       "        TV-Y7-FV      1\n",
       "        PG-13         0\n",
       "        PG            0\n",
       "        NC-17         0\n",
       "        UR            0\n",
       "        G             0"
      ]
     },
     "execution_count": 153,
     "metadata": {},
     "output_type": "execute_result"
    }
   ],
   "source": [
    "# Group the type of content and return the occurrence of each rating.\n",
    "\n",
    "rating = netflix.groupby(['type'])['rating'].value_counts().to_frame()\n",
    "rating\n"
   ]
  },
  {
   "cell_type": "code",
   "execution_count": 154,
   "id": "f77856e1",
   "metadata": {},
   "outputs": [
    {
     "data": {
      "text/html": [
       "<div>\n",
       "<style scoped>\n",
       "    .dataframe tbody tr th:only-of-type {\n",
       "        vertical-align: middle;\n",
       "    }\n",
       "\n",
       "    .dataframe tbody tr th {\n",
       "        vertical-align: top;\n",
       "    }\n",
       "\n",
       "    .dataframe thead tr th {\n",
       "        text-align: left;\n",
       "    }\n",
       "\n",
       "    .dataframe thead tr:last-of-type th {\n",
       "        text-align: right;\n",
       "    }\n",
       "</style>\n",
       "<table border=\"1\" class=\"dataframe\">\n",
       "  <thead>\n",
       "    <tr>\n",
       "      <th></th>\n",
       "      <th colspan=\"5\" halign=\"left\">count</th>\n",
       "    </tr>\n",
       "    <tr>\n",
       "      <th></th>\n",
       "      <th>sum</th>\n",
       "      <th>max</th>\n",
       "      <th>mean</th>\n",
       "      <th>min</th>\n",
       "      <th>std</th>\n",
       "    </tr>\n",
       "    <tr>\n",
       "      <th>rating</th>\n",
       "      <th></th>\n",
       "      <th></th>\n",
       "      <th></th>\n",
       "      <th></th>\n",
       "      <th></th>\n",
       "    </tr>\n",
       "  </thead>\n",
       "  <tbody>\n",
       "    <tr>\n",
       "      <th>G</th>\n",
       "      <td>41</td>\n",
       "      <td>41</td>\n",
       "      <td>20.5</td>\n",
       "      <td>0</td>\n",
       "      <td>28.991378</td>\n",
       "    </tr>\n",
       "    <tr>\n",
       "      <th>NC-17</th>\n",
       "      <td>3</td>\n",
       "      <td>3</td>\n",
       "      <td>1.5</td>\n",
       "      <td>0</td>\n",
       "      <td>2.121320</td>\n",
       "    </tr>\n",
       "    <tr>\n",
       "      <th>NR</th>\n",
       "      <td>80</td>\n",
       "      <td>75</td>\n",
       "      <td>40.0</td>\n",
       "      <td>5</td>\n",
       "      <td>49.497475</td>\n",
       "    </tr>\n",
       "    <tr>\n",
       "      <th>PG</th>\n",
       "      <td>287</td>\n",
       "      <td>287</td>\n",
       "      <td>143.5</td>\n",
       "      <td>0</td>\n",
       "      <td>202.939646</td>\n",
       "    </tr>\n",
       "    <tr>\n",
       "      <th>PG-13</th>\n",
       "      <td>490</td>\n",
       "      <td>490</td>\n",
       "      <td>245.0</td>\n",
       "      <td>0</td>\n",
       "      <td>346.482323</td>\n",
       "    </tr>\n",
       "    <tr>\n",
       "      <th>R</th>\n",
       "      <td>799</td>\n",
       "      <td>797</td>\n",
       "      <td>399.5</td>\n",
       "      <td>2</td>\n",
       "      <td>562.149891</td>\n",
       "    </tr>\n",
       "    <tr>\n",
       "      <th>TV-14</th>\n",
       "      <td>2160</td>\n",
       "      <td>1427</td>\n",
       "      <td>1080.0</td>\n",
       "      <td>733</td>\n",
       "      <td>490.732106</td>\n",
       "    </tr>\n",
       "    <tr>\n",
       "      <th>TV-G</th>\n",
       "      <td>220</td>\n",
       "      <td>126</td>\n",
       "      <td>110.0</td>\n",
       "      <td>94</td>\n",
       "      <td>22.627417</td>\n",
       "    </tr>\n",
       "    <tr>\n",
       "      <th>TV-MA</th>\n",
       "      <td>3207</td>\n",
       "      <td>2062</td>\n",
       "      <td>1603.5</td>\n",
       "      <td>1145</td>\n",
       "      <td>648.416918</td>\n",
       "    </tr>\n",
       "    <tr>\n",
       "      <th>TV-PG</th>\n",
       "      <td>863</td>\n",
       "      <td>540</td>\n",
       "      <td>431.5</td>\n",
       "      <td>323</td>\n",
       "      <td>153.442172</td>\n",
       "    </tr>\n",
       "    <tr>\n",
       "      <th>TV-Y</th>\n",
       "      <td>307</td>\n",
       "      <td>176</td>\n",
       "      <td>153.5</td>\n",
       "      <td>131</td>\n",
       "      <td>31.819805</td>\n",
       "    </tr>\n",
       "    <tr>\n",
       "      <th>TV-Y7</th>\n",
       "      <td>334</td>\n",
       "      <td>195</td>\n",
       "      <td>167.0</td>\n",
       "      <td>139</td>\n",
       "      <td>39.597980</td>\n",
       "    </tr>\n",
       "    <tr>\n",
       "      <th>TV-Y7-FV</th>\n",
       "      <td>6</td>\n",
       "      <td>5</td>\n",
       "      <td>3.0</td>\n",
       "      <td>1</td>\n",
       "      <td>2.828427</td>\n",
       "    </tr>\n",
       "    <tr>\n",
       "      <th>UR</th>\n",
       "      <td>3</td>\n",
       "      <td>3</td>\n",
       "      <td>1.5</td>\n",
       "      <td>0</td>\n",
       "      <td>2.121320</td>\n",
       "    </tr>\n",
       "    <tr>\n",
       "      <th>Unknown</th>\n",
       "      <td>7</td>\n",
       "      <td>5</td>\n",
       "      <td>3.5</td>\n",
       "      <td>2</td>\n",
       "      <td>2.121320</td>\n",
       "    </tr>\n",
       "  </tbody>\n",
       "</table>\n",
       "</div>"
      ],
      "text/plain": [
       "         count                                \n",
       "           sum   max    mean   min         std\n",
       "rating                                        \n",
       "G           41    41    20.5     0   28.991378\n",
       "NC-17        3     3     1.5     0    2.121320\n",
       "NR          80    75    40.0     5   49.497475\n",
       "PG         287   287   143.5     0  202.939646\n",
       "PG-13      490   490   245.0     0  346.482323\n",
       "R          799   797   399.5     2  562.149891\n",
       "TV-14     2160  1427  1080.0   733  490.732106\n",
       "TV-G       220   126   110.0    94   22.627417\n",
       "TV-MA     3207  2062  1603.5  1145  648.416918\n",
       "TV-PG      863   540   431.5   323  153.442172\n",
       "TV-Y       307   176   153.5   131   31.819805\n",
       "TV-Y7      334   195   167.0   139   39.597980\n",
       "TV-Y7-FV     6     5     3.0     1    2.828427\n",
       "UR           3     3     1.5     0    2.121320\n",
       "Unknown      7     5     3.5     2    2.121320"
      ]
     },
     "execution_count": 154,
     "metadata": {},
     "output_type": "execute_result"
    }
   ],
   "source": [
    "# perform statistical calculations on the 'ratings' column,  using .agg() method\n",
    "\n",
    "rating.groupby('rating')[['count']].agg(['sum', 'max', 'mean', 'min', 'std'])"
   ]
  },
  {
   "cell_type": "code",
   "execution_count": null,
   "id": "1cd598b2",
   "metadata": {},
   "outputs": [],
   "source": [
    "A countplot will show the distribution of the categorical data and frequency of each variable."
   ]
  },
  {
   "cell_type": "code",
   "execution_count": 157,
   "id": "7d6771d4",
   "metadata": {},
   "outputs": [
    {
     "data": {
      "image/png": "[encoded data removed]",
      "text/plain": [
       "<Figure size 1200x800 with 1 Axes>"
      ]
     },
     "metadata": {},
     "output_type": "display_data"
    }
   ],
   "source": [
    "plt.figure(figsize=(12, 8))\n",
    "sns.countplot(x='rating', hue='type', data=netflix, order=netflix['rating'].value_counts().index, palette='Set1')\n",
    "plt.title('TV Show Ratings vs Movie Ratings')\n",
    "plt.xlabel('Ratings')\n",
    "plt.ylabel('Count')\n",
    "plt.xticks(rotation=45)\n",
    "plt.legend(title='Type')\n",
    "plt.show()\n"
   ]
  },
  {
   "cell_type": "code",
   "execution_count": null,
   "id": "2e1be7e9",
   "metadata": {},
   "outputs": [],
   "source": [
    "A Histogram also shows the distribution - frequency of ratings and type of content."
   ]
  },
  {
   "cell_type": "code",
   "execution_count": 160,
   "id": "ea6d7b41",
   "metadata": {},
   "outputs": [
    {
     "data": {
      "image/png": "[encoded data removed]",
      "text/plain": [
       "<Figure size 1200x800 with 1 Axes>"
      ]
     },
     "metadata": {},
     "output_type": "display_data"
    }
   ],
   "source": [
    "plt.figure(figsize=(12, 8))\n",
    "sns.histplot(x='rating', hue='type', data=netflix, multiple='layer', palette='Set1', kde=True)\n",
    "plt.title('TV Show Ratings vs Movie Ratings')\n",
    "plt.xlabel('Ratings')\n",
    "plt.ylabel('Count')\n",
    "plt.xticks(rotation=45)\n",
    "plt.show()"
   ]
  },
  {
   "cell_type": "markdown",
   "id": "cdb90577",
   "metadata": {},
   "source": [
    "# Distribution of Release Years"
   ]
  },
  {
   "cell_type": "code",
   "execution_count": 162,
   "id": "b78b8fa9",
   "metadata": {},
   "outputs": [
    {
     "data": {
      "image/png": "[encoded data removed]",
      "text/plain": [
       "<Figure size 1000x600 with 1 Axes>"
      ]
     },
     "metadata": {},
     "output_type": "display_data"
    }
   ],
   "source": [
    "# Histogram for 'release_year'\n",
    "\n",
    "plt.figure(figsize=(10, 6))\n",
    "plt.hist(netflix['release_year'], bins=30, edgecolor='black', color='red')\n",
    "plt.title('Distribution of Release Years')\n",
    "plt.xlabel('Release Year')\n",
    "plt.ylabel('Frequency')\n",
    "plt.show()\n"
   ]
  },
  {
   "cell_type": "code",
   "execution_count": 165,
   "id": "121c2173",
   "metadata": {},
   "outputs": [
    {
     "data": {
      "image/png": "[encoded data removed]",
      "text/plain": [
       "<Figure size 1000x600 with 1 Axes>"
      ]
     },
     "metadata": {},
     "output_type": "display_data"
    }
   ],
   "source": [
    "# Kde plot for 'release_year' - shows the distribution using a density curve\n",
    "\n",
    "plt.figure(figsize=(10, 6))\n",
    "sns.kdeplot(netflix['release_year'], fill=True, color='red')\n",
    "plt.title('Density curve for Release Years')\n",
    "plt.xlabel('Release Year')\n",
    "plt.ylabel('Density')\n",
    "plt.show()\n"
   ]
  },
  {
   "cell_type": "code",
   "execution_count": 166,
   "id": "8e557e7a",
   "metadata": {},
   "outputs": [
    {
     "data": {
      "image/png": "[encoded data removed]",
      "text/plain": [
       "<Figure size 1000x600 with 1 Axes>"
      ]
     },
     "metadata": {},
     "output_type": "display_data"
    }
   ],
   "source": [
    "# Countplot for Top 10 'release years'.\n",
    "\n",
    "plt.figure(figsize=(10, 6))\n",
    "sns.countplot(data=netflix, x='release_year', order=netflix['release_year'].value_counts().iloc[:10].index)\n",
    "plt.title('Top 10 Most Frequent Release Years')\n",
    "plt.xlabel('Release Year')\n",
    "plt.ylabel('Count')\n",
    "plt.show()"
   ]
  },
  {
   "cell_type": "code",
   "execution_count": null,
   "id": "89ce018d",
   "metadata": {},
   "outputs": [],
   "source": []
  }
 ],
 "metadata": {
  "kernelspec": {
   "display_name": "Python 3 (ipykernel)",
   "language": "python",
   "name": "python3"
  },
  "language_info": {
   "codemirror_mode": {
    "name": "ipython",
    "version": 3
   },
   "file_extension": ".py",
   "mimetype": "text/x-python",
   "name": "python",
   "nbconvert_exporter": "python",
   "pygments_lexer": "ipython3",
   "version": "3.11.5"
  }
 },
 "nbformat": 4,
 "nbformat_minor": 5
}
